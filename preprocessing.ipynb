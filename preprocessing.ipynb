{
 "cells": [
  {
   "cell_type": "markdown",
   "metadata": {},
   "source": [
    "# Text preprocessing - Pipeline"
   ]
  },
  {
   "cell_type": "markdown",
   "metadata": {},
   "source": [
    "This code will preprocess a pair of documents in order to analyse their similarity afterwards."
   ]
  },
  {
   "cell_type": "markdown",
   "metadata": {},
   "source": [
    "Import libraries"
   ]
  },
  {
   "cell_type": "code",
   "execution_count": 65,
   "metadata": {},
   "outputs": [],
   "source": [
    "import pandas as pd\n",
    "import numpy as np\n",
    "import json\n",
    "import nltk\n",
    "#nltk.download()\n",
    "from sklearn.feature_extraction.text import TfidfVectorizer\n",
    "from sklearn.metrics.pairwise import cosine_similarity\n",
    "\n"
   ]
  },
  {
   "cell_type": "markdown",
   "metadata": {},
   "source": [
    "Read files"
   ]
  },
  {
   "cell_type": "markdown",
   "metadata": {},
   "source": []
  },
  {
   "cell_type": "code",
   "execution_count": 2,
   "metadata": {},
   "outputs": [
    {
     "name": "stderr",
     "output_type": "stream",
     "text": [
      "C:\\Users\\mcso\\AppData\\Local\\Temp/ipykernel_15248/4022916483.py:1: FutureWarning: Passing a negative integer is deprecated in version 1.0 and will not be supported in future version. Instead, use None to not limit the column width.\n",
      "  pd.set_option('display.max_colwidth', -1)\n"
     ]
    },
    {
     "data": {
      "text/html": [
       "<div>\n",
       "<style scoped>\n",
       "    .dataframe tbody tr th:only-of-type {\n",
       "        vertical-align: middle;\n",
       "    }\n",
       "\n",
       "    .dataframe tbody tr th {\n",
       "        vertical-align: top;\n",
       "    }\n",
       "\n",
       "    .dataframe thead th {\n",
       "        text-align: right;\n",
       "    }\n",
       "</style>\n",
       "<table border=\"1\" class=\"dataframe\">\n",
       "  <thead>\n",
       "    <tr style=\"text-align: right;\">\n",
       "      <th></th>\n",
       "      <th>url1_lang</th>\n",
       "      <th>url2_lang</th>\n",
       "      <th>pair_id</th>\n",
       "      <th>link1</th>\n",
       "      <th>link2</th>\n",
       "      <th>ia_link1</th>\n",
       "      <th>ia_link2</th>\n",
       "      <th>Geography</th>\n",
       "      <th>Entities</th>\n",
       "      <th>Time</th>\n",
       "      <th>Narrative</th>\n",
       "      <th>Overall</th>\n",
       "      <th>Style</th>\n",
       "      <th>Tone</th>\n",
       "    </tr>\n",
       "  </thead>\n",
       "  <tbody>\n",
       "    <tr>\n",
       "      <th>0</th>\n",
       "      <td>en</td>\n",
       "      <td>en</td>\n",
       "      <td>1484084337_1484110209</td>\n",
       "      <td>https://www.washingtonpost.com/local/virginia-man-arrested-in-fatal-dui-crash-in-west-virginia/2020/01/01/740fbc7a-2cbe-11ea-bffe-020c88b3f120_story.html</td>\n",
       "      <td>https://www.washingtonpost.com/world/the_americas/haitis-leader-marks-independence-day-amid-security-concerns/2020/01/01/dc4033a4-2cc5-11ea-bffe-020c88b3f120_story.html</td>\n",
       "      <td>https://web.archive.org/web/www.washingtonpost.com/local/virginia-man-arrested-in-fatal-dui-crash-in-west-virginia/2020/01/01/740fbc7a-2cbe-11ea-bffe-020c88b3f120_story.html</td>\n",
       "      <td>https://web.archive.org/web/www.washingtonpost.com/world/the_americas/haitis-leader-marks-independence-day-amid-security-concerns/2020/01/01/dc4033a4-2cc5-11ea-bffe-020c88b3f120_story.html</td>\n",
       "      <td>4.0</td>\n",
       "      <td>4.000000</td>\n",
       "      <td>1.000000</td>\n",
       "      <td>4.000000</td>\n",
       "      <td>4.000000</td>\n",
       "      <td>1.666667</td>\n",
       "      <td>2.000000</td>\n",
       "    </tr>\n",
       "    <tr>\n",
       "      <th>1</th>\n",
       "      <td>en</td>\n",
       "      <td>en</td>\n",
       "      <td>1484396422_1483924666</td>\n",
       "      <td>https://www.stlucianewsonline.com/guyana-three-injured-after-car-crashes-into-utility-pole/</td>\n",
       "      <td>https://www.thestar.com/news/world/europe/2020/01/01/fire-kills-animals-at-zoo-in-western-germany.html</td>\n",
       "      <td>https://web.archive.org/web/www.stlucianewsonline.com/guyana-three-injured-after-car-crashes-into-utility-pole/</td>\n",
       "      <td>https://web.archive.org/web/www.thestar.com/news/world/europe/2020/01/01/fire-kills-animals-at-zoo-in-western-germany.html</td>\n",
       "      <td>4.0</td>\n",
       "      <td>4.000000</td>\n",
       "      <td>1.000000</td>\n",
       "      <td>4.000000</td>\n",
       "      <td>3.666667</td>\n",
       "      <td>1.666667</td>\n",
       "      <td>1.333333</td>\n",
       "    </tr>\n",
       "    <tr>\n",
       "      <th>2</th>\n",
       "      <td>en</td>\n",
       "      <td>en</td>\n",
       "      <td>1484698254_1483758694</td>\n",
       "      <td>https://www.teaparty.org/trump-brings-in-2020-at-mar-a-lago-were-going-to-have-a-great-year-423052/</td>\n",
       "      <td>https://www.timesofisrael.com/trump-says-he-does-not-expect-war-with-iran-likes-peace/</td>\n",
       "      <td>https://web.archive.org/web/www.teaparty.org/trump-brings-in-2020-at-mar-a-lago-were-going-to-have-a-great-year-423052/</td>\n",
       "      <td>https://web.archive.org/web/www.timesofisrael.com/trump-says-he-does-not-expect-war-with-iran-likes-peace/</td>\n",
       "      <td>1.0</td>\n",
       "      <td>2.000000</td>\n",
       "      <td>1.000000</td>\n",
       "      <td>2.333333</td>\n",
       "      <td>2.333333</td>\n",
       "      <td>1.000000</td>\n",
       "      <td>1.333333</td>\n",
       "    </tr>\n",
       "    <tr>\n",
       "      <th>3</th>\n",
       "      <td>en</td>\n",
       "      <td>en</td>\n",
       "      <td>1576314516_1576455088</td>\n",
       "      <td>https://gadgets.ndtv.com/apps/news/zomato-uber-eats-business-acquisition-india-all-stock-deal-2167155</td>\n",
       "      <td>https://gadgets.ndtv.com/internet/news/indian-online-food-delivery-market-to-hit-usd-8-billion-by-2020-google-bcg-report-2171043</td>\n",
       "      <td>https://web.archive.org/web/gadgets.ndtv.com/apps/news/zomato-uber-eats-business-acquisition-india-all-stock-deal-2167155</td>\n",
       "      <td>https://web.archive.org/web/gadgets.ndtv.com/internet/news/indian-online-food-delivery-market-to-hit-usd-8-billion-by-2020-google-bcg-report-2171043</td>\n",
       "      <td>1.0</td>\n",
       "      <td>2.333333</td>\n",
       "      <td>2.666667</td>\n",
       "      <td>1.666667</td>\n",
       "      <td>2.000000</td>\n",
       "      <td>1.666667</td>\n",
       "      <td>1.666667</td>\n",
       "    </tr>\n",
       "    <tr>\n",
       "      <th>4</th>\n",
       "      <td>en</td>\n",
       "      <td>en</td>\n",
       "      <td>1484036253_1483894099</td>\n",
       "      <td>https://news.yahoo.com/india-approves-third-moon-mission-085759387.html</td>\n",
       "      <td>https://www.channelnewsasia.com/news/asia/india-targets-new-moon-mission-in-2020-12225344</td>\n",
       "      <td>https://web.archive.org/web/news.yahoo.com/india-approves-third-moon-mission-085759387.html</td>\n",
       "      <td>https://web.archive.org/web/www.channelnewsasia.com/news/asia/india-targets-new-moon-mission-in-2020-12225344</td>\n",
       "      <td>1.0</td>\n",
       "      <td>1.250000</td>\n",
       "      <td>1.000000</td>\n",
       "      <td>1.250000</td>\n",
       "      <td>1.250000</td>\n",
       "      <td>1.000000</td>\n",
       "      <td>1.000000</td>\n",
       "    </tr>\n",
       "  </tbody>\n",
       "</table>\n",
       "</div>"
      ],
      "text/plain": [
       "  url1_lang url2_lang                pair_id  \\\n",
       "0  en        en        1484084337_1484110209   \n",
       "1  en        en        1484396422_1483924666   \n",
       "2  en        en        1484698254_1483758694   \n",
       "3  en        en        1576314516_1576455088   \n",
       "4  en        en        1484036253_1483894099   \n",
       "\n",
       "                                                                                                                                                       link1  \\\n",
       "0  https://www.washingtonpost.com/local/virginia-man-arrested-in-fatal-dui-crash-in-west-virginia/2020/01/01/740fbc7a-2cbe-11ea-bffe-020c88b3f120_story.html   \n",
       "1  https://www.stlucianewsonline.com/guyana-three-injured-after-car-crashes-into-utility-pole/                                                                 \n",
       "2  https://www.teaparty.org/trump-brings-in-2020-at-mar-a-lago-were-going-to-have-a-great-year-423052/                                                         \n",
       "3  https://gadgets.ndtv.com/apps/news/zomato-uber-eats-business-acquisition-india-all-stock-deal-2167155                                                       \n",
       "4  https://news.yahoo.com/india-approves-third-moon-mission-085759387.html                                                                                     \n",
       "\n",
       "                                                                                                                                                                      link2  \\\n",
       "0  https://www.washingtonpost.com/world/the_americas/haitis-leader-marks-independence-day-amid-security-concerns/2020/01/01/dc4033a4-2cc5-11ea-bffe-020c88b3f120_story.html   \n",
       "1  https://www.thestar.com/news/world/europe/2020/01/01/fire-kills-animals-at-zoo-in-western-germany.html                                                                     \n",
       "2  https://www.timesofisrael.com/trump-says-he-does-not-expect-war-with-iran-likes-peace/                                                                                     \n",
       "3  https://gadgets.ndtv.com/internet/news/indian-online-food-delivery-market-to-hit-usd-8-billion-by-2020-google-bcg-report-2171043                                           \n",
       "4  https://www.channelnewsasia.com/news/asia/india-targets-new-moon-mission-in-2020-12225344                                                                                  \n",
       "\n",
       "                                                                                                                                                                        ia_link1  \\\n",
       "0  https://web.archive.org/web/www.washingtonpost.com/local/virginia-man-arrested-in-fatal-dui-crash-in-west-virginia/2020/01/01/740fbc7a-2cbe-11ea-bffe-020c88b3f120_story.html   \n",
       "1  https://web.archive.org/web/www.stlucianewsonline.com/guyana-three-injured-after-car-crashes-into-utility-pole/                                                                 \n",
       "2  https://web.archive.org/web/www.teaparty.org/trump-brings-in-2020-at-mar-a-lago-were-going-to-have-a-great-year-423052/                                                         \n",
       "3  https://web.archive.org/web/gadgets.ndtv.com/apps/news/zomato-uber-eats-business-acquisition-india-all-stock-deal-2167155                                                       \n",
       "4  https://web.archive.org/web/news.yahoo.com/india-approves-third-moon-mission-085759387.html                                                                                     \n",
       "\n",
       "                                                                                                                                                                                       ia_link2  \\\n",
       "0  https://web.archive.org/web/www.washingtonpost.com/world/the_americas/haitis-leader-marks-independence-day-amid-security-concerns/2020/01/01/dc4033a4-2cc5-11ea-bffe-020c88b3f120_story.html   \n",
       "1  https://web.archive.org/web/www.thestar.com/news/world/europe/2020/01/01/fire-kills-animals-at-zoo-in-western-germany.html                                                                     \n",
       "2  https://web.archive.org/web/www.timesofisrael.com/trump-says-he-does-not-expect-war-with-iran-likes-peace/                                                                                     \n",
       "3  https://web.archive.org/web/gadgets.ndtv.com/internet/news/indian-online-food-delivery-market-to-hit-usd-8-billion-by-2020-google-bcg-report-2171043                                           \n",
       "4  https://web.archive.org/web/www.channelnewsasia.com/news/asia/india-targets-new-moon-mission-in-2020-12225344                                                                                  \n",
       "\n",
       "   Geography  Entities      Time  Narrative   Overall     Style      Tone  \n",
       "0  4.0        4.000000  1.000000  4.000000   4.000000  1.666667  2.000000  \n",
       "1  4.0        4.000000  1.000000  4.000000   3.666667  1.666667  1.333333  \n",
       "2  1.0        2.000000  1.000000  2.333333   2.333333  1.000000  1.333333  \n",
       "3  1.0        2.333333  2.666667  1.666667   2.000000  1.666667  1.666667  \n",
       "4  1.0        1.250000  1.000000  1.250000   1.250000  1.000000  1.000000  "
      ]
     },
     "execution_count": 2,
     "metadata": {},
     "output_type": "execute_result"
    }
   ],
   "source": [
    "pd.set_option('display.max_colwidth', -1)\n",
    "## dfSourceV2 = pd.read_csv('../Dados/v2_semeval-2022_task8_train-data_batch.csv')\n",
    "trainv1 = pd.read_csv('dados/train v0.1.csv')\n",
    "\n",
    "trainv1_enen = trainv1[(trainv1['url1_lang']=='en') & (trainv1['url2_lang']=='en')]\n",
    "\n",
    "trainv1_enen.head()"
   ]
  },
  {
   "cell_type": "markdown",
   "metadata": {},
   "source": [
    "### Carregar noticias a partir dos ids:"
   ]
  },
  {
   "cell_type": "markdown",
   "metadata": {},
   "source": [
    "Functions that read json documents"
   ]
  },
  {
   "cell_type": "code",
   "execution_count": 3,
   "metadata": {},
   "outputs": [],
   "source": [
    "#Function reads a json file\n",
    "def readJsonFile(path):\n",
    "    f = open(path)\n",
    "    data = json.load(f)\n",
    "    f.close()\n",
    "    return data\n",
    "\n",
    "    \n",
    "#Function returns a dataframe with the text of the pairs\n",
    "def getJsonDocumentPair(dataPath, pairId):\n",
    "    listIds = pairId.split('_')\n",
    "    doc1Id = listIds[0]\n",
    "    doc2Id = listIds[1]\n",
    "\n",
    "    doc1Path = dataPath + doc1Id[-2:] + '/' + doc1Id + '.json' \n",
    "    doc2Path = dataPath + doc2Id[-2:] + '/' + doc2Id + '.json' \n",
    "\n",
    "    doc1Json = readJsonFile(doc1Path)\n",
    "    doc2Json = readJsonFile(doc2Path)\n",
    "\n",
    "    return (doc1Json, doc2Json)"
   ]
  },
  {
   "cell_type": "markdown",
   "metadata": {},
   "source": [
    "Getting text to preprocess"
   ]
  },
  {
   "cell_type": "code",
   "execution_count": 4,
   "metadata": {},
   "outputs": [
    {
     "data": {
      "text/html": [
       "<div>\n",
       "<style scoped>\n",
       "    .dataframe tbody tr th:only-of-type {\n",
       "        vertical-align: middle;\n",
       "    }\n",
       "\n",
       "    .dataframe tbody tr th {\n",
       "        vertical-align: top;\n",
       "    }\n",
       "\n",
       "    .dataframe thead th {\n",
       "        text-align: right;\n",
       "    }\n",
       "</style>\n",
       "<table border=\"1\" class=\"dataframe\">\n",
       "  <thead>\n",
       "    <tr style=\"text-align: right;\">\n",
       "      <th></th>\n",
       "      <th>pair_id</th>\n",
       "      <th>doc1</th>\n",
       "      <th>doc2</th>\n",
       "      <th>Overall</th>\n",
       "    </tr>\n",
       "  </thead>\n",
       "  <tbody>\n",
       "    <tr>\n",
       "      <th>0</th>\n",
       "      <td>1484084337_1484110209</td>\n",
       "      <td>MARTINSBURG, W.Va. — A suspected drunken driver was arrested in a New Year’s Day highway crash that killed another motorist in West Virginia, police said.\\n\\nThe accident occurred early Wednesday along southbound Interstate 81 in Berkeley County, The Journal reported.\\n\\nCody Wade Braithwaite, 32, of Winchester, Virginia, was charged with DUI with death, fleeing DUI, and being a prohibited person in possession of a firearm and a fugitive from justice, Berkeley County Sheriff Curtis Keller said.\\n\\nKeller said a deputy investigating calls about a reckless driver attempted to make a traffic stop, but the suspect’s vehicle sped up and hit a car, which then struck a guardrail. The driver of the car was pronounced dead at the scene. The driver’s name was not immediately released.\\n\\nThe suspect’s vehicle also hit a deputy’s cruiser before being stopped, Keller said.\\n\\nBraithwaite was being held without bond in the Eastern Regional Jail. It wasn’t immediately known whether Braithwaite has an attorney.\\n\\n___\\n\\nInformation from: The Journal, http://journal-news.net/\\n\\nCopyright 2020 The Associated Press. All rights reserved. This material may not be published, broadcast, rewritten or redistributed.</td>\n",
       "      <td>PORT-AU-PRINCE, Haiti — Haitian President Jovenel Moïse broke with tradition on Wednesday and celebrated the country’s independence day in the capital for security reasons following months of political turmoil.\\n\\nMoïse, whose government has been accused of corruption, denounced graft during his speech at the National Palace in Port-au-Prince and urged Haiti’s elite to work with the government and help create employment.\\n\\n“We’re still extremely poor,” he said. “Those who continue to get rich find it normal that they do not pay taxes, find it normal that there can be no competition, find it normal that they set prices for consumers, especially when this consumer is the state itself.”\\n\\nMoïse also apologized for the country’s ongoing power outages and renewed his 2016 campaign pledge to provide electricity 24 hours a day, saying it was harder to accomplish than he imagined.\\n\\nThe speech that marked the 216th anniversary of the world’s first black republic was originally slated to take place in the northern coastal town of Gonaives, where Jean-Jacques Dessalines declared Haiti’s independence. But the town, like many others, was hit by violent protests that began in September amid anger over corruption, fuel shortages and dwindling food supplies as opposition leaders and supporters demanded the resignation of Moïse. More than 40 people have been killed and dozens injured.\\n\\nLarge-scale protests in Port-au-Prince have since dissipated, although smaller ones are still occurring elsewhere in the country. On Wednesday, opposition leaders and supporters gathered in Gonaives to attend the funeral of an anti-government protester and then carried his coffin through the streets as more protesters joined them.\\n\\nCopyright 2020 The Associated Press. All rights reserved. This material may not be published, broadcast, rewritten or redistributed.</td>\n",
       "      <td>4.0</td>\n",
       "    </tr>\n",
       "  </tbody>\n",
       "</table>\n",
       "</div>"
      ],
      "text/plain": [
       "                 pair_id  \\\n",
       "0  1484084337_1484110209   \n",
       "\n",
       "                                                                                                                                                                                                                                                                                                                                                                                                                                                                                                                                                                                                                                                                                                                                                                                                                                                                                                                                                                                                                                                                                                                                                                                                                                                            doc1  \\\n",
       "0  MARTINSBURG, W.Va. — A suspected drunken driver was arrested in a New Year’s Day highway crash that killed another motorist in West Virginia, police said.\\n\\nThe accident occurred early Wednesday along southbound Interstate 81 in Berkeley County, The Journal reported.\\n\\nCody Wade Braithwaite, 32, of Winchester, Virginia, was charged with DUI with death, fleeing DUI, and being a prohibited person in possession of a firearm and a fugitive from justice, Berkeley County Sheriff Curtis Keller said.\\n\\nKeller said a deputy investigating calls about a reckless driver attempted to make a traffic stop, but the suspect’s vehicle sped up and hit a car, which then struck a guardrail. The driver of the car was pronounced dead at the scene. The driver’s name was not immediately released.\\n\\nThe suspect’s vehicle also hit a deputy’s cruiser before being stopped, Keller said.\\n\\nBraithwaite was being held without bond in the Eastern Regional Jail. It wasn’t immediately known whether Braithwaite has an attorney.\\n\\n___\\n\\nInformation from: The Journal, http://journal-news.net/\\n\\nCopyright 2020 The Associated Press. All rights reserved. This material may not be published, broadcast, rewritten or redistributed.   \n",
       "\n",
       "                                                                                                                                                                                                                                                                                                                                                                                                                                                                                                                                                                                                                                                                                                                                                                                                                                                                                                                                                                                                                                                                                                                                                                                                                                                                                                                                                                                                                                                                                                                                                                                                                                                                                                                                                                                                                                                                                                                                         doc2  \\\n",
       "0  PORT-AU-PRINCE, Haiti — Haitian President Jovenel Moïse broke with tradition on Wednesday and celebrated the country’s independence day in the capital for security reasons following months of political turmoil.\\n\\nMoïse, whose government has been accused of corruption, denounced graft during his speech at the National Palace in Port-au-Prince and urged Haiti’s elite to work with the government and help create employment.\\n\\n“We’re still extremely poor,” he said. “Those who continue to get rich find it normal that they do not pay taxes, find it normal that there can be no competition, find it normal that they set prices for consumers, especially when this consumer is the state itself.”\\n\\nMoïse also apologized for the country’s ongoing power outages and renewed his 2016 campaign pledge to provide electricity 24 hours a day, saying it was harder to accomplish than he imagined.\\n\\nThe speech that marked the 216th anniversary of the world’s first black republic was originally slated to take place in the northern coastal town of Gonaives, where Jean-Jacques Dessalines declared Haiti’s independence. But the town, like many others, was hit by violent protests that began in September amid anger over corruption, fuel shortages and dwindling food supplies as opposition leaders and supporters demanded the resignation of Moïse. More than 40 people have been killed and dozens injured.\\n\\nLarge-scale protests in Port-au-Prince have since dissipated, although smaller ones are still occurring elsewhere in the country. On Wednesday, opposition leaders and supporters gathered in Gonaives to attend the funeral of an anti-government protester and then carried his coffin through the streets as more protesters joined them.\\n\\nCopyright 2020 The Associated Press. All rights reserved. This material may not be published, broadcast, rewritten or redistributed.   \n",
       "\n",
       "   Overall  \n",
       "0  4.0      "
      ]
     },
     "execution_count": 4,
     "metadata": {},
     "output_type": "execute_result"
    }
   ],
   "source": [
    "dataPath = 'dados/train v0.1/'\n",
    "#jsonPair = getJsonDocumentPair(dataPath,'1484084337_1484110209')\n",
    "#textDoc1 = jsonPair[0]['text']\n",
    "\n",
    "lista_docs = []\n",
    "lista_error = []\n",
    "lista_vazio = []\n",
    "values = trainv1_enen[['pair_id', 'Overall']]\n",
    "\n",
    "for index, values in values.iterrows():\n",
    "    try:\n",
    "        jsonPair = getJsonDocumentPair(dataPath, values['pair_id'])\n",
    "        textDoc1 = jsonPair[0]['text']\n",
    "        textDoc2 = jsonPair[1]['text']\n",
    "        if len(textDoc1)>0 and len(textDoc2)>0:\n",
    "            lista_docs.append((values['pair_id'], textDoc1, textDoc2, values['Overall']))\n",
    "        else:\n",
    "            lista_vazio.append(values['pair_id'])\n",
    "    except:\n",
    "        lista_error.append(values['pair_id'])\n",
    "\n",
    "#Creating DF to text\n",
    "#dfText = pd.DataFrame([[textDoc1]], columns=['original_text'])\n",
    "dfText = pd.DataFrame(lista_docs,  columns=['pair_id', 'doc1', 'doc2', 'Overall'])\n",
    "dfText.head(1)"
   ]
  },
  {
   "cell_type": "code",
   "execution_count": 5,
   "metadata": {},
   "outputs": [
    {
     "data": {
      "text/plain": [
       "(1357, 4)"
      ]
     },
     "execution_count": 5,
     "metadata": {},
     "output_type": "execute_result"
    }
   ],
   "source": [
    "dfText.shape\n"
   ]
  },
  {
   "cell_type": "code",
   "execution_count": 6,
   "metadata": {},
   "outputs": [
    {
     "data": {
      "text/plain": [
       "(1761, 14)"
      ]
     },
     "execution_count": 6,
     "metadata": {},
     "output_type": "execute_result"
    }
   ],
   "source": [
    "trainv1_enen.shape"
   ]
  },
  {
   "cell_type": "code",
   "execution_count": 7,
   "metadata": {},
   "outputs": [
    {
     "data": {
      "text/plain": [
       "394"
      ]
     },
     "execution_count": 7,
     "metadata": {},
     "output_type": "execute_result"
    }
   ],
   "source": [
    "len(lista_error)"
   ]
  },
  {
   "cell_type": "code",
   "execution_count": 8,
   "metadata": {},
   "outputs": [
    {
     "data": {
      "text/plain": [
       "10"
      ]
     },
     "execution_count": 8,
     "metadata": {},
     "output_type": "execute_result"
    }
   ],
   "source": [
    "len(lista_vazio)"
   ]
  },
  {
   "cell_type": "markdown",
   "metadata": {},
   "source": [
    "# Inicio do pre-processamento"
   ]
  },
  {
   "cell_type": "markdown",
   "metadata": {},
   "source": [
    "Removing punctuation"
   ]
  },
  {
   "cell_type": "code",
   "execution_count": 9,
   "metadata": {},
   "outputs": [],
   "source": [
    "import string\n",
    "string.punctuation\n",
    "other_punctuation = '—“”'  "
   ]
  },
  {
   "cell_type": "code",
   "execution_count": 10,
   "metadata": {},
   "outputs": [
    {
     "data": {
      "text/html": [
       "<div>\n",
       "<style scoped>\n",
       "    .dataframe tbody tr th:only-of-type {\n",
       "        vertical-align: middle;\n",
       "    }\n",
       "\n",
       "    .dataframe tbody tr th {\n",
       "        vertical-align: top;\n",
       "    }\n",
       "\n",
       "    .dataframe thead th {\n",
       "        text-align: right;\n",
       "    }\n",
       "</style>\n",
       "<table border=\"1\" class=\"dataframe\">\n",
       "  <thead>\n",
       "    <tr style=\"text-align: right;\">\n",
       "      <th></th>\n",
       "      <th>pair_id</th>\n",
       "      <th>doc1</th>\n",
       "      <th>doc2</th>\n",
       "      <th>Overall</th>\n",
       "      <th>clean_msg1</th>\n",
       "      <th>clean_msg2</th>\n",
       "    </tr>\n",
       "  </thead>\n",
       "  <tbody>\n",
       "    <tr>\n",
       "      <th>0</th>\n",
       "      <td>1484084337_1484110209</td>\n",
       "      <td>MARTINSBURG, W.Va. — A suspected drunken driver was arrested in a New Year’s Day highway crash that killed another motorist in West Virginia, police said.\\n\\nThe accident occurred early Wednesday along southbound Interstate 81 in Berkeley County, The Journal reported.\\n\\nCody Wade Braithwaite, 32, of Winchester, Virginia, was charged with DUI with death, fleeing DUI, and being a prohibited person in possession of a firearm and a fugitive from justice, Berkeley County Sheriff Curtis Keller said.\\n\\nKeller said a deputy investigating calls about a reckless driver attempted to make a traffic stop, but the suspect’s vehicle sped up and hit a car, which then struck a guardrail. The driver of the car was pronounced dead at the scene. The driver’s name was not immediately released.\\n\\nThe suspect’s vehicle also hit a deputy’s cruiser before being stopped, Keller said.\\n\\nBraithwaite was being held without bond in the Eastern Regional Jail. It wasn’t immediately known whether Braithwaite has an attorney.\\n\\n___\\n\\nInformation from: The Journal, http://journal-news.net/\\n\\nCopyright 2020 The Associated Press. All rights reserved. This material may not be published, broadcast, rewritten or redistributed.</td>\n",
       "      <td>PORT-AU-PRINCE, Haiti — Haitian President Jovenel Moïse broke with tradition on Wednesday and celebrated the country’s independence day in the capital for security reasons following months of political turmoil.\\n\\nMoïse, whose government has been accused of corruption, denounced graft during his speech at the National Palace in Port-au-Prince and urged Haiti’s elite to work with the government and help create employment.\\n\\n“We’re still extremely poor,” he said. “Those who continue to get rich find it normal that they do not pay taxes, find it normal that there can be no competition, find it normal that they set prices for consumers, especially when this consumer is the state itself.”\\n\\nMoïse also apologized for the country’s ongoing power outages and renewed his 2016 campaign pledge to provide electricity 24 hours a day, saying it was harder to accomplish than he imagined.\\n\\nThe speech that marked the 216th anniversary of the world’s first black republic was originally slated to take place in the northern coastal town of Gonaives, where Jean-Jacques Dessalines declared Haiti’s independence. But the town, like many others, was hit by violent protests that began in September amid anger over corruption, fuel shortages and dwindling food supplies as opposition leaders and supporters demanded the resignation of Moïse. More than 40 people have been killed and dozens injured.\\n\\nLarge-scale protests in Port-au-Prince have since dissipated, although smaller ones are still occurring elsewhere in the country. On Wednesday, opposition leaders and supporters gathered in Gonaives to attend the funeral of an anti-government protester and then carried his coffin through the streets as more protesters joined them.\\n\\nCopyright 2020 The Associated Press. All rights reserved. This material may not be published, broadcast, rewritten or redistributed.</td>\n",
       "      <td>4.0</td>\n",
       "      <td>MARTINSBURG WVa  A suspected drunken driver was arrested in a New Year’s Day highway crash that killed another motorist in West Virginia police said\\n\\nThe accident occurred early Wednesday along southbound Interstate 81 in Berkeley County The Journal reported\\n\\nCody Wade Braithwaite 32 of Winchester Virginia was charged with DUI with death fleeing DUI and being a prohibited person in possession of a firearm and a fugitive from justice Berkeley County Sheriff Curtis Keller said\\n\\nKeller said a deputy investigating calls about a reckless driver attempted to make a traffic stop but the suspect’s vehicle sped up and hit a car which then struck a guardrail The driver of the car was pronounced dead at the scene The driver’s name was not immediately released\\n\\nThe suspect’s vehicle also hit a deputy’s cruiser before being stopped Keller said\\n\\nBraithwaite was being held without bond in the Eastern Regional Jail It wasn’t immediately known whether Braithwaite has an attorney\\n\\n\\n\\nInformation from The Journal httpjournalnewsnet\\n\\nCopyright 2020 The Associated Press All rights reserved This material may not be published broadcast rewritten or redistributed</td>\n",
       "      <td>PORTAUPRINCE Haiti  Haitian President Jovenel Moïse broke with tradition on Wednesday and celebrated the country’s independence day in the capital for security reasons following months of political turmoil\\n\\nMoïse whose government has been accused of corruption denounced graft during his speech at the National Palace in PortauPrince and urged Haiti’s elite to work with the government and help create employment\\n\\nWe’re still extremely poor he said Those who continue to get rich find it normal that they do not pay taxes find it normal that there can be no competition find it normal that they set prices for consumers especially when this consumer is the state itself\\n\\nMoïse also apologized for the country’s ongoing power outages and renewed his 2016 campaign pledge to provide electricity 24 hours a day saying it was harder to accomplish than he imagined\\n\\nThe speech that marked the 216th anniversary of the world’s first black republic was originally slated to take place in the northern coastal town of Gonaives where JeanJacques Dessalines declared Haiti’s independence But the town like many others was hit by violent protests that began in September amid anger over corruption fuel shortages and dwindling food supplies as opposition leaders and supporters demanded the resignation of Moïse More than 40 people have been killed and dozens injured\\n\\nLargescale protests in PortauPrince have since dissipated although smaller ones are still occurring elsewhere in the country On Wednesday opposition leaders and supporters gathered in Gonaives to attend the funeral of an antigovernment protester and then carried his coffin through the streets as more protesters joined them\\n\\nCopyright 2020 The Associated Press All rights reserved This material may not be published broadcast rewritten or redistributed</td>\n",
       "    </tr>\n",
       "  </tbody>\n",
       "</table>\n",
       "</div>"
      ],
      "text/plain": [
       "                 pair_id  \\\n",
       "0  1484084337_1484110209   \n",
       "\n",
       "                                                                                                                                                                                                                                                                                                                                                                                                                                                                                                                                                                                                                                                                                                                                                                                                                                                                                                                                                                                                                                                                                                                                                                                                                                                            doc1  \\\n",
       "0  MARTINSBURG, W.Va. — A suspected drunken driver was arrested in a New Year’s Day highway crash that killed another motorist in West Virginia, police said.\\n\\nThe accident occurred early Wednesday along southbound Interstate 81 in Berkeley County, The Journal reported.\\n\\nCody Wade Braithwaite, 32, of Winchester, Virginia, was charged with DUI with death, fleeing DUI, and being a prohibited person in possession of a firearm and a fugitive from justice, Berkeley County Sheriff Curtis Keller said.\\n\\nKeller said a deputy investigating calls about a reckless driver attempted to make a traffic stop, but the suspect’s vehicle sped up and hit a car, which then struck a guardrail. The driver of the car was pronounced dead at the scene. The driver’s name was not immediately released.\\n\\nThe suspect’s vehicle also hit a deputy’s cruiser before being stopped, Keller said.\\n\\nBraithwaite was being held without bond in the Eastern Regional Jail. It wasn’t immediately known whether Braithwaite has an attorney.\\n\\n___\\n\\nInformation from: The Journal, http://journal-news.net/\\n\\nCopyright 2020 The Associated Press. All rights reserved. This material may not be published, broadcast, rewritten or redistributed.   \n",
       "\n",
       "                                                                                                                                                                                                                                                                                                                                                                                                                                                                                                                                                                                                                                                                                                                                                                                                                                                                                                                                                                                                                                                                                                                                                                                                                                                                                                                                                                                                                                                                                                                                                                                                                                                                                                                                                                                                                                                                                                                                         doc2  \\\n",
       "0  PORT-AU-PRINCE, Haiti — Haitian President Jovenel Moïse broke with tradition on Wednesday and celebrated the country’s independence day in the capital for security reasons following months of political turmoil.\\n\\nMoïse, whose government has been accused of corruption, denounced graft during his speech at the National Palace in Port-au-Prince and urged Haiti’s elite to work with the government and help create employment.\\n\\n“We’re still extremely poor,” he said. “Those who continue to get rich find it normal that they do not pay taxes, find it normal that there can be no competition, find it normal that they set prices for consumers, especially when this consumer is the state itself.”\\n\\nMoïse also apologized for the country’s ongoing power outages and renewed his 2016 campaign pledge to provide electricity 24 hours a day, saying it was harder to accomplish than he imagined.\\n\\nThe speech that marked the 216th anniversary of the world’s first black republic was originally slated to take place in the northern coastal town of Gonaives, where Jean-Jacques Dessalines declared Haiti’s independence. But the town, like many others, was hit by violent protests that began in September amid anger over corruption, fuel shortages and dwindling food supplies as opposition leaders and supporters demanded the resignation of Moïse. More than 40 people have been killed and dozens injured.\\n\\nLarge-scale protests in Port-au-Prince have since dissipated, although smaller ones are still occurring elsewhere in the country. On Wednesday, opposition leaders and supporters gathered in Gonaives to attend the funeral of an anti-government protester and then carried his coffin through the streets as more protesters joined them.\\n\\nCopyright 2020 The Associated Press. All rights reserved. This material may not be published, broadcast, rewritten or redistributed.   \n",
       "\n",
       "   Overall  \\\n",
       "0  4.0       \n",
       "\n",
       "                                                                                                                                                                                                                                                                                                                                                                                                                                                                                                                                                                                                                                                                                                                                                                                                                                                                                                                                                                                                                                                                                                                                                                                                             clean_msg1  \\\n",
       "0  MARTINSBURG WVa  A suspected drunken driver was arrested in a New Year’s Day highway crash that killed another motorist in West Virginia police said\\n\\nThe accident occurred early Wednesday along southbound Interstate 81 in Berkeley County The Journal reported\\n\\nCody Wade Braithwaite 32 of Winchester Virginia was charged with DUI with death fleeing DUI and being a prohibited person in possession of a firearm and a fugitive from justice Berkeley County Sheriff Curtis Keller said\\n\\nKeller said a deputy investigating calls about a reckless driver attempted to make a traffic stop but the suspect’s vehicle sped up and hit a car which then struck a guardrail The driver of the car was pronounced dead at the scene The driver’s name was not immediately released\\n\\nThe suspect’s vehicle also hit a deputy’s cruiser before being stopped Keller said\\n\\nBraithwaite was being held without bond in the Eastern Regional Jail It wasn’t immediately known whether Braithwaite has an attorney\\n\\n\\n\\nInformation from The Journal httpjournalnewsnet\\n\\nCopyright 2020 The Associated Press All rights reserved This material may not be published broadcast rewritten or redistributed   \n",
       "\n",
       "                                                                                                                                                                                                                                                                                                                                                                                                                                                                                                                                                                                                                                                                                                                                                                                                                                                                                                                                                                                                                                                                                                                                                                                                                                                                                                                                                                                                                                                                                                                                                                                                                                                                                                                                                                                                                                                                                        clean_msg2  \n",
       "0  PORTAUPRINCE Haiti  Haitian President Jovenel Moïse broke with tradition on Wednesday and celebrated the country’s independence day in the capital for security reasons following months of political turmoil\\n\\nMoïse whose government has been accused of corruption denounced graft during his speech at the National Palace in PortauPrince and urged Haiti’s elite to work with the government and help create employment\\n\\nWe’re still extremely poor he said Those who continue to get rich find it normal that they do not pay taxes find it normal that there can be no competition find it normal that they set prices for consumers especially when this consumer is the state itself\\n\\nMoïse also apologized for the country’s ongoing power outages and renewed his 2016 campaign pledge to provide electricity 24 hours a day saying it was harder to accomplish than he imagined\\n\\nThe speech that marked the 216th anniversary of the world’s first black republic was originally slated to take place in the northern coastal town of Gonaives where JeanJacques Dessalines declared Haiti’s independence But the town like many others was hit by violent protests that began in September amid anger over corruption fuel shortages and dwindling food supplies as opposition leaders and supporters demanded the resignation of Moïse More than 40 people have been killed and dozens injured\\n\\nLargescale protests in PortauPrince have since dissipated although smaller ones are still occurring elsewhere in the country On Wednesday opposition leaders and supporters gathered in Gonaives to attend the funeral of an antigovernment protester and then carried his coffin through the streets as more protesters joined them\\n\\nCopyright 2020 The Associated Press All rights reserved This material may not be published broadcast rewritten or redistributed  "
      ]
     },
     "execution_count": 10,
     "metadata": {},
     "output_type": "execute_result"
    }
   ],
   "source": [
    "#Function that removes punctuation \n",
    "def removePunctuation(text):\n",
    "    punctuationFreeDoc = \"\".join([i for i in text if i not in string.punctuation+other_punctuation])\n",
    "    return punctuationFreeDoc\n",
    "\n",
    "\n",
    "#Storing the puntuation free text\n",
    "dfText['clean_msg1']= dfText['doc1'].apply(lambda x:removePunctuation(x))\n",
    "dfText['clean_msg2']= dfText['doc2'].apply(lambda x:removePunctuation(x))\n",
    "dfText.head(1)"
   ]
  },
  {
   "cell_type": "markdown",
   "metadata": {},
   "source": [
    "Transforming to lowercase"
   ]
  },
  {
   "cell_type": "code",
   "execution_count": 11,
   "metadata": {},
   "outputs": [
    {
     "data": {
      "text/html": [
       "<div>\n",
       "<style scoped>\n",
       "    .dataframe tbody tr th:only-of-type {\n",
       "        vertical-align: middle;\n",
       "    }\n",
       "\n",
       "    .dataframe tbody tr th {\n",
       "        vertical-align: top;\n",
       "    }\n",
       "\n",
       "    .dataframe thead th {\n",
       "        text-align: right;\n",
       "    }\n",
       "</style>\n",
       "<table border=\"1\" class=\"dataframe\">\n",
       "  <thead>\n",
       "    <tr style=\"text-align: right;\">\n",
       "      <th></th>\n",
       "      <th>pair_id</th>\n",
       "      <th>doc1</th>\n",
       "      <th>doc2</th>\n",
       "      <th>Overall</th>\n",
       "      <th>clean_msg1</th>\n",
       "      <th>clean_msg2</th>\n",
       "      <th>msg_lower1</th>\n",
       "      <th>msg_lower2</th>\n",
       "    </tr>\n",
       "  </thead>\n",
       "  <tbody>\n",
       "    <tr>\n",
       "      <th>0</th>\n",
       "      <td>1484084337_1484110209</td>\n",
       "      <td>MARTINSBURG, W.Va. — A suspected drunken driver was arrested in a New Year’s Day highway crash that killed another motorist in West Virginia, police said.\\n\\nThe accident occurred early Wednesday along southbound Interstate 81 in Berkeley County, The Journal reported.\\n\\nCody Wade Braithwaite, 32, of Winchester, Virginia, was charged with DUI with death, fleeing DUI, and being a prohibited person in possession of a firearm and a fugitive from justice, Berkeley County Sheriff Curtis Keller said.\\n\\nKeller said a deputy investigating calls about a reckless driver attempted to make a traffic stop, but the suspect’s vehicle sped up and hit a car, which then struck a guardrail. The driver of the car was pronounced dead at the scene. The driver’s name was not immediately released.\\n\\nThe suspect’s vehicle also hit a deputy’s cruiser before being stopped, Keller said.\\n\\nBraithwaite was being held without bond in the Eastern Regional Jail. It wasn’t immediately known whether Braithwaite has an attorney.\\n\\n___\\n\\nInformation from: The Journal, http://journal-news.net/\\n\\nCopyright 2020 The Associated Press. All rights reserved. This material may not be published, broadcast, rewritten or redistributed.</td>\n",
       "      <td>PORT-AU-PRINCE, Haiti — Haitian President Jovenel Moïse broke with tradition on Wednesday and celebrated the country’s independence day in the capital for security reasons following months of political turmoil.\\n\\nMoïse, whose government has been accused of corruption, denounced graft during his speech at the National Palace in Port-au-Prince and urged Haiti’s elite to work with the government and help create employment.\\n\\n“We’re still extremely poor,” he said. “Those who continue to get rich find it normal that they do not pay taxes, find it normal that there can be no competition, find it normal that they set prices for consumers, especially when this consumer is the state itself.”\\n\\nMoïse also apologized for the country’s ongoing power outages and renewed his 2016 campaign pledge to provide electricity 24 hours a day, saying it was harder to accomplish than he imagined.\\n\\nThe speech that marked the 216th anniversary of the world’s first black republic was originally slated to take place in the northern coastal town of Gonaives, where Jean-Jacques Dessalines declared Haiti’s independence. But the town, like many others, was hit by violent protests that began in September amid anger over corruption, fuel shortages and dwindling food supplies as opposition leaders and supporters demanded the resignation of Moïse. More than 40 people have been killed and dozens injured.\\n\\nLarge-scale protests in Port-au-Prince have since dissipated, although smaller ones are still occurring elsewhere in the country. On Wednesday, opposition leaders and supporters gathered in Gonaives to attend the funeral of an anti-government protester and then carried his coffin through the streets as more protesters joined them.\\n\\nCopyright 2020 The Associated Press. All rights reserved. This material may not be published, broadcast, rewritten or redistributed.</td>\n",
       "      <td>4.0</td>\n",
       "      <td>MARTINSBURG WVa  A suspected drunken driver was arrested in a New Year’s Day highway crash that killed another motorist in West Virginia police said\\n\\nThe accident occurred early Wednesday along southbound Interstate 81 in Berkeley County The Journal reported\\n\\nCody Wade Braithwaite 32 of Winchester Virginia was charged with DUI with death fleeing DUI and being a prohibited person in possession of a firearm and a fugitive from justice Berkeley County Sheriff Curtis Keller said\\n\\nKeller said a deputy investigating calls about a reckless driver attempted to make a traffic stop but the suspect’s vehicle sped up and hit a car which then struck a guardrail The driver of the car was pronounced dead at the scene The driver’s name was not immediately released\\n\\nThe suspect’s vehicle also hit a deputy’s cruiser before being stopped Keller said\\n\\nBraithwaite was being held without bond in the Eastern Regional Jail It wasn’t immediately known whether Braithwaite has an attorney\\n\\n\\n\\nInformation from The Journal httpjournalnewsnet\\n\\nCopyright 2020 The Associated Press All rights reserved This material may not be published broadcast rewritten or redistributed</td>\n",
       "      <td>PORTAUPRINCE Haiti  Haitian President Jovenel Moïse broke with tradition on Wednesday and celebrated the country’s independence day in the capital for security reasons following months of political turmoil\\n\\nMoïse whose government has been accused of corruption denounced graft during his speech at the National Palace in PortauPrince and urged Haiti’s elite to work with the government and help create employment\\n\\nWe’re still extremely poor he said Those who continue to get rich find it normal that they do not pay taxes find it normal that there can be no competition find it normal that they set prices for consumers especially when this consumer is the state itself\\n\\nMoïse also apologized for the country’s ongoing power outages and renewed his 2016 campaign pledge to provide electricity 24 hours a day saying it was harder to accomplish than he imagined\\n\\nThe speech that marked the 216th anniversary of the world’s first black republic was originally slated to take place in the northern coastal town of Gonaives where JeanJacques Dessalines declared Haiti’s independence But the town like many others was hit by violent protests that began in September amid anger over corruption fuel shortages and dwindling food supplies as opposition leaders and supporters demanded the resignation of Moïse More than 40 people have been killed and dozens injured\\n\\nLargescale protests in PortauPrince have since dissipated although smaller ones are still occurring elsewhere in the country On Wednesday opposition leaders and supporters gathered in Gonaives to attend the funeral of an antigovernment protester and then carried his coffin through the streets as more protesters joined them\\n\\nCopyright 2020 The Associated Press All rights reserved This material may not be published broadcast rewritten or redistributed</td>\n",
       "      <td>martinsburg wva  a suspected drunken driver was arrested in a new year’s day highway crash that killed another motorist in west virginia police said\\n\\nthe accident occurred early wednesday along southbound interstate 81 in berkeley county the journal reported\\n\\ncody wade braithwaite 32 of winchester virginia was charged with dui with death fleeing dui and being a prohibited person in possession of a firearm and a fugitive from justice berkeley county sheriff curtis keller said\\n\\nkeller said a deputy investigating calls about a reckless driver attempted to make a traffic stop but the suspect’s vehicle sped up and hit a car which then struck a guardrail the driver of the car was pronounced dead at the scene the driver’s name was not immediately released\\n\\nthe suspect’s vehicle also hit a deputy’s cruiser before being stopped keller said\\n\\nbraithwaite was being held without bond in the eastern regional jail it wasn’t immediately known whether braithwaite has an attorney\\n\\n\\n\\ninformation from the journal httpjournalnewsnet\\n\\ncopyright 2020 the associated press all rights reserved this material may not be published broadcast rewritten or redistributed</td>\n",
       "      <td>portauprince haiti  haitian president jovenel moïse broke with tradition on wednesday and celebrated the country’s independence day in the capital for security reasons following months of political turmoil\\n\\nmoïse whose government has been accused of corruption denounced graft during his speech at the national palace in portauprince and urged haiti’s elite to work with the government and help create employment\\n\\nwe’re still extremely poor he said those who continue to get rich find it normal that they do not pay taxes find it normal that there can be no competition find it normal that they set prices for consumers especially when this consumer is the state itself\\n\\nmoïse also apologized for the country’s ongoing power outages and renewed his 2016 campaign pledge to provide electricity 24 hours a day saying it was harder to accomplish than he imagined\\n\\nthe speech that marked the 216th anniversary of the world’s first black republic was originally slated to take place in the northern coastal town of gonaives where jeanjacques dessalines declared haiti’s independence but the town like many others was hit by violent protests that began in september amid anger over corruption fuel shortages and dwindling food supplies as opposition leaders and supporters demanded the resignation of moïse more than 40 people have been killed and dozens injured\\n\\nlargescale protests in portauprince have since dissipated although smaller ones are still occurring elsewhere in the country on wednesday opposition leaders and supporters gathered in gonaives to attend the funeral of an antigovernment protester and then carried his coffin through the streets as more protesters joined them\\n\\ncopyright 2020 the associated press all rights reserved this material may not be published broadcast rewritten or redistributed</td>\n",
       "    </tr>\n",
       "  </tbody>\n",
       "</table>\n",
       "</div>"
      ],
      "text/plain": [
       "                 pair_id  \\\n",
       "0  1484084337_1484110209   \n",
       "\n",
       "                                                                                                                                                                                                                                                                                                                                                                                                                                                                                                                                                                                                                                                                                                                                                                                                                                                                                                                                                                                                                                                                                                                                                                                                                                                            doc1  \\\n",
       "0  MARTINSBURG, W.Va. — A suspected drunken driver was arrested in a New Year’s Day highway crash that killed another motorist in West Virginia, police said.\\n\\nThe accident occurred early Wednesday along southbound Interstate 81 in Berkeley County, The Journal reported.\\n\\nCody Wade Braithwaite, 32, of Winchester, Virginia, was charged with DUI with death, fleeing DUI, and being a prohibited person in possession of a firearm and a fugitive from justice, Berkeley County Sheriff Curtis Keller said.\\n\\nKeller said a deputy investigating calls about a reckless driver attempted to make a traffic stop, but the suspect’s vehicle sped up and hit a car, which then struck a guardrail. The driver of the car was pronounced dead at the scene. The driver’s name was not immediately released.\\n\\nThe suspect’s vehicle also hit a deputy’s cruiser before being stopped, Keller said.\\n\\nBraithwaite was being held without bond in the Eastern Regional Jail. It wasn’t immediately known whether Braithwaite has an attorney.\\n\\n___\\n\\nInformation from: The Journal, http://journal-news.net/\\n\\nCopyright 2020 The Associated Press. All rights reserved. This material may not be published, broadcast, rewritten or redistributed.   \n",
       "\n",
       "                                                                                                                                                                                                                                                                                                                                                                                                                                                                                                                                                                                                                                                                                                                                                                                                                                                                                                                                                                                                                                                                                                                                                                                                                                                                                                                                                                                                                                                                                                                                                                                                                                                                                                                                                                                                                                                                                                                                         doc2  \\\n",
       "0  PORT-AU-PRINCE, Haiti — Haitian President Jovenel Moïse broke with tradition on Wednesday and celebrated the country’s independence day in the capital for security reasons following months of political turmoil.\\n\\nMoïse, whose government has been accused of corruption, denounced graft during his speech at the National Palace in Port-au-Prince and urged Haiti’s elite to work with the government and help create employment.\\n\\n“We’re still extremely poor,” he said. “Those who continue to get rich find it normal that they do not pay taxes, find it normal that there can be no competition, find it normal that they set prices for consumers, especially when this consumer is the state itself.”\\n\\nMoïse also apologized for the country’s ongoing power outages and renewed his 2016 campaign pledge to provide electricity 24 hours a day, saying it was harder to accomplish than he imagined.\\n\\nThe speech that marked the 216th anniversary of the world’s first black republic was originally slated to take place in the northern coastal town of Gonaives, where Jean-Jacques Dessalines declared Haiti’s independence. But the town, like many others, was hit by violent protests that began in September amid anger over corruption, fuel shortages and dwindling food supplies as opposition leaders and supporters demanded the resignation of Moïse. More than 40 people have been killed and dozens injured.\\n\\nLarge-scale protests in Port-au-Prince have since dissipated, although smaller ones are still occurring elsewhere in the country. On Wednesday, opposition leaders and supporters gathered in Gonaives to attend the funeral of an anti-government protester and then carried his coffin through the streets as more protesters joined them.\\n\\nCopyright 2020 The Associated Press. All rights reserved. This material may not be published, broadcast, rewritten or redistributed.   \n",
       "\n",
       "   Overall  \\\n",
       "0  4.0       \n",
       "\n",
       "                                                                                                                                                                                                                                                                                                                                                                                                                                                                                                                                                                                                                                                                                                                                                                                                                                                                                                                                                                                                                                                                                                                                                                                                             clean_msg1  \\\n",
       "0  MARTINSBURG WVa  A suspected drunken driver was arrested in a New Year’s Day highway crash that killed another motorist in West Virginia police said\\n\\nThe accident occurred early Wednesday along southbound Interstate 81 in Berkeley County The Journal reported\\n\\nCody Wade Braithwaite 32 of Winchester Virginia was charged with DUI with death fleeing DUI and being a prohibited person in possession of a firearm and a fugitive from justice Berkeley County Sheriff Curtis Keller said\\n\\nKeller said a deputy investigating calls about a reckless driver attempted to make a traffic stop but the suspect’s vehicle sped up and hit a car which then struck a guardrail The driver of the car was pronounced dead at the scene The driver’s name was not immediately released\\n\\nThe suspect’s vehicle also hit a deputy’s cruiser before being stopped Keller said\\n\\nBraithwaite was being held without bond in the Eastern Regional Jail It wasn’t immediately known whether Braithwaite has an attorney\\n\\n\\n\\nInformation from The Journal httpjournalnewsnet\\n\\nCopyright 2020 The Associated Press All rights reserved This material may not be published broadcast rewritten or redistributed   \n",
       "\n",
       "                                                                                                                                                                                                                                                                                                                                                                                                                                                                                                                                                                                                                                                                                                                                                                                                                                                                                                                                                                                                                                                                                                                                                                                                                                                                                                                                                                                                                                                                                                                                                                                                                                                                                                                                                                                                                                                                                        clean_msg2  \\\n",
       "0  PORTAUPRINCE Haiti  Haitian President Jovenel Moïse broke with tradition on Wednesday and celebrated the country’s independence day in the capital for security reasons following months of political turmoil\\n\\nMoïse whose government has been accused of corruption denounced graft during his speech at the National Palace in PortauPrince and urged Haiti’s elite to work with the government and help create employment\\n\\nWe’re still extremely poor he said Those who continue to get rich find it normal that they do not pay taxes find it normal that there can be no competition find it normal that they set prices for consumers especially when this consumer is the state itself\\n\\nMoïse also apologized for the country’s ongoing power outages and renewed his 2016 campaign pledge to provide electricity 24 hours a day saying it was harder to accomplish than he imagined\\n\\nThe speech that marked the 216th anniversary of the world’s first black republic was originally slated to take place in the northern coastal town of Gonaives where JeanJacques Dessalines declared Haiti’s independence But the town like many others was hit by violent protests that began in September amid anger over corruption fuel shortages and dwindling food supplies as opposition leaders and supporters demanded the resignation of Moïse More than 40 people have been killed and dozens injured\\n\\nLargescale protests in PortauPrince have since dissipated although smaller ones are still occurring elsewhere in the country On Wednesday opposition leaders and supporters gathered in Gonaives to attend the funeral of an antigovernment protester and then carried his coffin through the streets as more protesters joined them\\n\\nCopyright 2020 The Associated Press All rights reserved This material may not be published broadcast rewritten or redistributed   \n",
       "\n",
       "                                                                                                                                                                                                                                                                                                                                                                                                                                                                                                                                                                                                                                                                                                                                                                                                                                                                                                                                                                                                                                                                                                                                                                                                             msg_lower1  \\\n",
       "0  martinsburg wva  a suspected drunken driver was arrested in a new year’s day highway crash that killed another motorist in west virginia police said\\n\\nthe accident occurred early wednesday along southbound interstate 81 in berkeley county the journal reported\\n\\ncody wade braithwaite 32 of winchester virginia was charged with dui with death fleeing dui and being a prohibited person in possession of a firearm and a fugitive from justice berkeley county sheriff curtis keller said\\n\\nkeller said a deputy investigating calls about a reckless driver attempted to make a traffic stop but the suspect’s vehicle sped up and hit a car which then struck a guardrail the driver of the car was pronounced dead at the scene the driver’s name was not immediately released\\n\\nthe suspect’s vehicle also hit a deputy’s cruiser before being stopped keller said\\n\\nbraithwaite was being held without bond in the eastern regional jail it wasn’t immediately known whether braithwaite has an attorney\\n\\n\\n\\ninformation from the journal httpjournalnewsnet\\n\\ncopyright 2020 the associated press all rights reserved this material may not be published broadcast rewritten or redistributed   \n",
       "\n",
       "                                                                                                                                                                                                                                                                                                                                                                                                                                                                                                                                                                                                                                                                                                                                                                                                                                                                                                                                                                                                                                                                                                                                                                                                                                                                                                                                                                                                                                                                                                                                                                                                                                                                                                                                                                                                                                                                                        msg_lower2  \n",
       "0  portauprince haiti  haitian president jovenel moïse broke with tradition on wednesday and celebrated the country’s independence day in the capital for security reasons following months of political turmoil\\n\\nmoïse whose government has been accused of corruption denounced graft during his speech at the national palace in portauprince and urged haiti’s elite to work with the government and help create employment\\n\\nwe’re still extremely poor he said those who continue to get rich find it normal that they do not pay taxes find it normal that there can be no competition find it normal that they set prices for consumers especially when this consumer is the state itself\\n\\nmoïse also apologized for the country’s ongoing power outages and renewed his 2016 campaign pledge to provide electricity 24 hours a day saying it was harder to accomplish than he imagined\\n\\nthe speech that marked the 216th anniversary of the world’s first black republic was originally slated to take place in the northern coastal town of gonaives where jeanjacques dessalines declared haiti’s independence but the town like many others was hit by violent protests that began in september amid anger over corruption fuel shortages and dwindling food supplies as opposition leaders and supporters demanded the resignation of moïse more than 40 people have been killed and dozens injured\\n\\nlargescale protests in portauprince have since dissipated although smaller ones are still occurring elsewhere in the country on wednesday opposition leaders and supporters gathered in gonaives to attend the funeral of an antigovernment protester and then carried his coffin through the streets as more protesters joined them\\n\\ncopyright 2020 the associated press all rights reserved this material may not be published broadcast rewritten or redistributed  "
      ]
     },
     "execution_count": 11,
     "metadata": {},
     "output_type": "execute_result"
    }
   ],
   "source": [
    "dfText['msg_lower1']= dfText['clean_msg1'].apply(lambda x: x.lower())\n",
    "dfText['msg_lower2']= dfText['clean_msg2'].apply(lambda x: x.lower())\n",
    "dfText.head(1)"
   ]
  },
  {
   "cell_type": "markdown",
   "metadata": {},
   "source": [
    "Tokenization"
   ]
  },
  {
   "cell_type": "code",
   "execution_count": 12,
   "metadata": {},
   "outputs": [
    {
     "data": {
      "text/html": [
       "<div>\n",
       "<style scoped>\n",
       "    .dataframe tbody tr th:only-of-type {\n",
       "        vertical-align: middle;\n",
       "    }\n",
       "\n",
       "    .dataframe tbody tr th {\n",
       "        vertical-align: top;\n",
       "    }\n",
       "\n",
       "    .dataframe thead th {\n",
       "        text-align: right;\n",
       "    }\n",
       "</style>\n",
       "<table border=\"1\" class=\"dataframe\">\n",
       "  <thead>\n",
       "    <tr style=\"text-align: right;\">\n",
       "      <th></th>\n",
       "      <th>pair_id</th>\n",
       "      <th>doc1</th>\n",
       "      <th>doc2</th>\n",
       "      <th>Overall</th>\n",
       "      <th>clean_msg1</th>\n",
       "      <th>clean_msg2</th>\n",
       "      <th>msg_lower1</th>\n",
       "      <th>msg_lower2</th>\n",
       "      <th>msg_tokenized1</th>\n",
       "      <th>msg_tokenized2</th>\n",
       "    </tr>\n",
       "  </thead>\n",
       "  <tbody>\n",
       "    <tr>\n",
       "      <th>0</th>\n",
       "      <td>1484084337_1484110209</td>\n",
       "      <td>MARTINSBURG, W.Va. — A suspected drunken driver was arrested in a New Year’s Day highway crash that killed another motorist in West Virginia, police said.\\n\\nThe accident occurred early Wednesday along southbound Interstate 81 in Berkeley County, The Journal reported.\\n\\nCody Wade Braithwaite, 32, of Winchester, Virginia, was charged with DUI with death, fleeing DUI, and being a prohibited person in possession of a firearm and a fugitive from justice, Berkeley County Sheriff Curtis Keller said.\\n\\nKeller said a deputy investigating calls about a reckless driver attempted to make a traffic stop, but the suspect’s vehicle sped up and hit a car, which then struck a guardrail. The driver of the car was pronounced dead at the scene. The driver’s name was not immediately released.\\n\\nThe suspect’s vehicle also hit a deputy’s cruiser before being stopped, Keller said.\\n\\nBraithwaite was being held without bond in the Eastern Regional Jail. It wasn’t immediately known whether Braithwaite has an attorney.\\n\\n___\\n\\nInformation from: The Journal, http://journal-news.net/\\n\\nCopyright 2020 The Associated Press. All rights reserved. This material may not be published, broadcast, rewritten or redistributed.</td>\n",
       "      <td>PORT-AU-PRINCE, Haiti — Haitian President Jovenel Moïse broke with tradition on Wednesday and celebrated the country’s independence day in the capital for security reasons following months of political turmoil.\\n\\nMoïse, whose government has been accused of corruption, denounced graft during his speech at the National Palace in Port-au-Prince and urged Haiti’s elite to work with the government and help create employment.\\n\\n“We’re still extremely poor,” he said. “Those who continue to get rich find it normal that they do not pay taxes, find it normal that there can be no competition, find it normal that they set prices for consumers, especially when this consumer is the state itself.”\\n\\nMoïse also apologized for the country’s ongoing power outages and renewed his 2016 campaign pledge to provide electricity 24 hours a day, saying it was harder to accomplish than he imagined.\\n\\nThe speech that marked the 216th anniversary of the world’s first black republic was originally slated to take place in the northern coastal town of Gonaives, where Jean-Jacques Dessalines declared Haiti’s independence. But the town, like many others, was hit by violent protests that began in September amid anger over corruption, fuel shortages and dwindling food supplies as opposition leaders and supporters demanded the resignation of Moïse. More than 40 people have been killed and dozens injured.\\n\\nLarge-scale protests in Port-au-Prince have since dissipated, although smaller ones are still occurring elsewhere in the country. On Wednesday, opposition leaders and supporters gathered in Gonaives to attend the funeral of an anti-government protester and then carried his coffin through the streets as more protesters joined them.\\n\\nCopyright 2020 The Associated Press. All rights reserved. This material may not be published, broadcast, rewritten or redistributed.</td>\n",
       "      <td>4.0</td>\n",
       "      <td>MARTINSBURG WVa  A suspected drunken driver was arrested in a New Year’s Day highway crash that killed another motorist in West Virginia police said\\n\\nThe accident occurred early Wednesday along southbound Interstate 81 in Berkeley County The Journal reported\\n\\nCody Wade Braithwaite 32 of Winchester Virginia was charged with DUI with death fleeing DUI and being a prohibited person in possession of a firearm and a fugitive from justice Berkeley County Sheriff Curtis Keller said\\n\\nKeller said a deputy investigating calls about a reckless driver attempted to make a traffic stop but the suspect’s vehicle sped up and hit a car which then struck a guardrail The driver of the car was pronounced dead at the scene The driver’s name was not immediately released\\n\\nThe suspect’s vehicle also hit a deputy’s cruiser before being stopped Keller said\\n\\nBraithwaite was being held without bond in the Eastern Regional Jail It wasn’t immediately known whether Braithwaite has an attorney\\n\\n\\n\\nInformation from The Journal httpjournalnewsnet\\n\\nCopyright 2020 The Associated Press All rights reserved This material may not be published broadcast rewritten or redistributed</td>\n",
       "      <td>PORTAUPRINCE Haiti  Haitian President Jovenel Moïse broke with tradition on Wednesday and celebrated the country’s independence day in the capital for security reasons following months of political turmoil\\n\\nMoïse whose government has been accused of corruption denounced graft during his speech at the National Palace in PortauPrince and urged Haiti’s elite to work with the government and help create employment\\n\\nWe’re still extremely poor he said Those who continue to get rich find it normal that they do not pay taxes find it normal that there can be no competition find it normal that they set prices for consumers especially when this consumer is the state itself\\n\\nMoïse also apologized for the country’s ongoing power outages and renewed his 2016 campaign pledge to provide electricity 24 hours a day saying it was harder to accomplish than he imagined\\n\\nThe speech that marked the 216th anniversary of the world’s first black republic was originally slated to take place in the northern coastal town of Gonaives where JeanJacques Dessalines declared Haiti’s independence But the town like many others was hit by violent protests that began in September amid anger over corruption fuel shortages and dwindling food supplies as opposition leaders and supporters demanded the resignation of Moïse More than 40 people have been killed and dozens injured\\n\\nLargescale protests in PortauPrince have since dissipated although smaller ones are still occurring elsewhere in the country On Wednesday opposition leaders and supporters gathered in Gonaives to attend the funeral of an antigovernment protester and then carried his coffin through the streets as more protesters joined them\\n\\nCopyright 2020 The Associated Press All rights reserved This material may not be published broadcast rewritten or redistributed</td>\n",
       "      <td>martinsburg wva  a suspected drunken driver was arrested in a new year’s day highway crash that killed another motorist in west virginia police said\\n\\nthe accident occurred early wednesday along southbound interstate 81 in berkeley county the journal reported\\n\\ncody wade braithwaite 32 of winchester virginia was charged with dui with death fleeing dui and being a prohibited person in possession of a firearm and a fugitive from justice berkeley county sheriff curtis keller said\\n\\nkeller said a deputy investigating calls about a reckless driver attempted to make a traffic stop but the suspect’s vehicle sped up and hit a car which then struck a guardrail the driver of the car was pronounced dead at the scene the driver’s name was not immediately released\\n\\nthe suspect’s vehicle also hit a deputy’s cruiser before being stopped keller said\\n\\nbraithwaite was being held without bond in the eastern regional jail it wasn’t immediately known whether braithwaite has an attorney\\n\\n\\n\\ninformation from the journal httpjournalnewsnet\\n\\ncopyright 2020 the associated press all rights reserved this material may not be published broadcast rewritten or redistributed</td>\n",
       "      <td>portauprince haiti  haitian president jovenel moïse broke with tradition on wednesday and celebrated the country’s independence day in the capital for security reasons following months of political turmoil\\n\\nmoïse whose government has been accused of corruption denounced graft during his speech at the national palace in portauprince and urged haiti’s elite to work with the government and help create employment\\n\\nwe’re still extremely poor he said those who continue to get rich find it normal that they do not pay taxes find it normal that there can be no competition find it normal that they set prices for consumers especially when this consumer is the state itself\\n\\nmoïse also apologized for the country’s ongoing power outages and renewed his 2016 campaign pledge to provide electricity 24 hours a day saying it was harder to accomplish than he imagined\\n\\nthe speech that marked the 216th anniversary of the world’s first black republic was originally slated to take place in the northern coastal town of gonaives where jeanjacques dessalines declared haiti’s independence but the town like many others was hit by violent protests that began in september amid anger over corruption fuel shortages and dwindling food supplies as opposition leaders and supporters demanded the resignation of moïse more than 40 people have been killed and dozens injured\\n\\nlargescale protests in portauprince have since dissipated although smaller ones are still occurring elsewhere in the country on wednesday opposition leaders and supporters gathered in gonaives to attend the funeral of an antigovernment protester and then carried his coffin through the streets as more protesters joined them\\n\\ncopyright 2020 the associated press all rights reserved this material may not be published broadcast rewritten or redistributed</td>\n",
       "      <td>[martinsburg, wva, a, suspected, drunken, driver, was, arrested, in, a, new, year, ’, s, day, highway, crash, that, killed, another, motorist, in, west, virginia, police, said, the, accident, occurred, early, wednesday, along, southbound, interstate, 81, in, berkeley, county, the, journal, reported, cody, wade, braithwaite, 32, of, winchester, virginia, was, charged, with, dui, with, death, fleeing, dui, and, being, a, prohibited, person, in, possession, of, a, firearm, and, a, fugitive, from, justice, berkeley, county, sheriff, curtis, keller, said, keller, said, a, deputy, investigating, calls, about, a, reckless, driver, attempted, to, make, a, traffic, stop, but, the, suspect, ’, s, vehicle, sped, ...]</td>\n",
       "      <td>[portauprince, haiti, haitian, president, jovenel, moïse, broke, with, tradition, on, wednesday, and, celebrated, the, country, ’, s, independence, day, in, the, capital, for, security, reasons, following, months, of, political, turmoil, moïse, whose, government, has, been, accused, of, corruption, denounced, graft, during, his, speech, at, the, national, palace, in, portauprince, and, urged, haiti, ’, s, elite, to, work, with, the, government, and, help, create, employment, we, ’, re, still, extremely, poor, he, said, those, who, continue, to, get, rich, find, it, normal, that, they, do, not, pay, taxes, find, it, normal, that, there, can, be, no, competition, find, it, normal, that, ...]</td>\n",
       "    </tr>\n",
       "  </tbody>\n",
       "</table>\n",
       "</div>"
      ],
      "text/plain": [
       "                 pair_id  \\\n",
       "0  1484084337_1484110209   \n",
       "\n",
       "                                                                                                                                                                                                                                                                                                                                                                                                                                                                                                                                                                                                                                                                                                                                                                                                                                                                                                                                                                                                                                                                                                                                                                                                                                                            doc1  \\\n",
       "0  MARTINSBURG, W.Va. — A suspected drunken driver was arrested in a New Year’s Day highway crash that killed another motorist in West Virginia, police said.\\n\\nThe accident occurred early Wednesday along southbound Interstate 81 in Berkeley County, The Journal reported.\\n\\nCody Wade Braithwaite, 32, of Winchester, Virginia, was charged with DUI with death, fleeing DUI, and being a prohibited person in possession of a firearm and a fugitive from justice, Berkeley County Sheriff Curtis Keller said.\\n\\nKeller said a deputy investigating calls about a reckless driver attempted to make a traffic stop, but the suspect’s vehicle sped up and hit a car, which then struck a guardrail. The driver of the car was pronounced dead at the scene. The driver’s name was not immediately released.\\n\\nThe suspect’s vehicle also hit a deputy’s cruiser before being stopped, Keller said.\\n\\nBraithwaite was being held without bond in the Eastern Regional Jail. It wasn’t immediately known whether Braithwaite has an attorney.\\n\\n___\\n\\nInformation from: The Journal, http://journal-news.net/\\n\\nCopyright 2020 The Associated Press. All rights reserved. This material may not be published, broadcast, rewritten or redistributed.   \n",
       "\n",
       "                                                                                                                                                                                                                                                                                                                                                                                                                                                                                                                                                                                                                                                                                                                                                                                                                                                                                                                                                                                                                                                                                                                                                                                                                                                                                                                                                                                                                                                                                                                                                                                                                                                                                                                                                                                                                                                                                                                                         doc2  \\\n",
       "0  PORT-AU-PRINCE, Haiti — Haitian President Jovenel Moïse broke with tradition on Wednesday and celebrated the country’s independence day in the capital for security reasons following months of political turmoil.\\n\\nMoïse, whose government has been accused of corruption, denounced graft during his speech at the National Palace in Port-au-Prince and urged Haiti’s elite to work with the government and help create employment.\\n\\n“We’re still extremely poor,” he said. “Those who continue to get rich find it normal that they do not pay taxes, find it normal that there can be no competition, find it normal that they set prices for consumers, especially when this consumer is the state itself.”\\n\\nMoïse also apologized for the country’s ongoing power outages and renewed his 2016 campaign pledge to provide electricity 24 hours a day, saying it was harder to accomplish than he imagined.\\n\\nThe speech that marked the 216th anniversary of the world’s first black republic was originally slated to take place in the northern coastal town of Gonaives, where Jean-Jacques Dessalines declared Haiti’s independence. But the town, like many others, was hit by violent protests that began in September amid anger over corruption, fuel shortages and dwindling food supplies as opposition leaders and supporters demanded the resignation of Moïse. More than 40 people have been killed and dozens injured.\\n\\nLarge-scale protests in Port-au-Prince have since dissipated, although smaller ones are still occurring elsewhere in the country. On Wednesday, opposition leaders and supporters gathered in Gonaives to attend the funeral of an anti-government protester and then carried his coffin through the streets as more protesters joined them.\\n\\nCopyright 2020 The Associated Press. All rights reserved. This material may not be published, broadcast, rewritten or redistributed.   \n",
       "\n",
       "   Overall  \\\n",
       "0  4.0       \n",
       "\n",
       "                                                                                                                                                                                                                                                                                                                                                                                                                                                                                                                                                                                                                                                                                                                                                                                                                                                                                                                                                                                                                                                                                                                                                                                                             clean_msg1  \\\n",
       "0  MARTINSBURG WVa  A suspected drunken driver was arrested in a New Year’s Day highway crash that killed another motorist in West Virginia police said\\n\\nThe accident occurred early Wednesday along southbound Interstate 81 in Berkeley County The Journal reported\\n\\nCody Wade Braithwaite 32 of Winchester Virginia was charged with DUI with death fleeing DUI and being a prohibited person in possession of a firearm and a fugitive from justice Berkeley County Sheriff Curtis Keller said\\n\\nKeller said a deputy investigating calls about a reckless driver attempted to make a traffic stop but the suspect’s vehicle sped up and hit a car which then struck a guardrail The driver of the car was pronounced dead at the scene The driver’s name was not immediately released\\n\\nThe suspect’s vehicle also hit a deputy’s cruiser before being stopped Keller said\\n\\nBraithwaite was being held without bond in the Eastern Regional Jail It wasn’t immediately known whether Braithwaite has an attorney\\n\\n\\n\\nInformation from The Journal httpjournalnewsnet\\n\\nCopyright 2020 The Associated Press All rights reserved This material may not be published broadcast rewritten or redistributed   \n",
       "\n",
       "                                                                                                                                                                                                                                                                                                                                                                                                                                                                                                                                                                                                                                                                                                                                                                                                                                                                                                                                                                                                                                                                                                                                                                                                                                                                                                                                                                                                                                                                                                                                                                                                                                                                                                                                                                                                                                                                                        clean_msg2  \\\n",
       "0  PORTAUPRINCE Haiti  Haitian President Jovenel Moïse broke with tradition on Wednesday and celebrated the country’s independence day in the capital for security reasons following months of political turmoil\\n\\nMoïse whose government has been accused of corruption denounced graft during his speech at the National Palace in PortauPrince and urged Haiti’s elite to work with the government and help create employment\\n\\nWe’re still extremely poor he said Those who continue to get rich find it normal that they do not pay taxes find it normal that there can be no competition find it normal that they set prices for consumers especially when this consumer is the state itself\\n\\nMoïse also apologized for the country’s ongoing power outages and renewed his 2016 campaign pledge to provide electricity 24 hours a day saying it was harder to accomplish than he imagined\\n\\nThe speech that marked the 216th anniversary of the world’s first black republic was originally slated to take place in the northern coastal town of Gonaives where JeanJacques Dessalines declared Haiti’s independence But the town like many others was hit by violent protests that began in September amid anger over corruption fuel shortages and dwindling food supplies as opposition leaders and supporters demanded the resignation of Moïse More than 40 people have been killed and dozens injured\\n\\nLargescale protests in PortauPrince have since dissipated although smaller ones are still occurring elsewhere in the country On Wednesday opposition leaders and supporters gathered in Gonaives to attend the funeral of an antigovernment protester and then carried his coffin through the streets as more protesters joined them\\n\\nCopyright 2020 The Associated Press All rights reserved This material may not be published broadcast rewritten or redistributed   \n",
       "\n",
       "                                                                                                                                                                                                                                                                                                                                                                                                                                                                                                                                                                                                                                                                                                                                                                                                                                                                                                                                                                                                                                                                                                                                                                                                             msg_lower1  \\\n",
       "0  martinsburg wva  a suspected drunken driver was arrested in a new year’s day highway crash that killed another motorist in west virginia police said\\n\\nthe accident occurred early wednesday along southbound interstate 81 in berkeley county the journal reported\\n\\ncody wade braithwaite 32 of winchester virginia was charged with dui with death fleeing dui and being a prohibited person in possession of a firearm and a fugitive from justice berkeley county sheriff curtis keller said\\n\\nkeller said a deputy investigating calls about a reckless driver attempted to make a traffic stop but the suspect’s vehicle sped up and hit a car which then struck a guardrail the driver of the car was pronounced dead at the scene the driver’s name was not immediately released\\n\\nthe suspect’s vehicle also hit a deputy’s cruiser before being stopped keller said\\n\\nbraithwaite was being held without bond in the eastern regional jail it wasn’t immediately known whether braithwaite has an attorney\\n\\n\\n\\ninformation from the journal httpjournalnewsnet\\n\\ncopyright 2020 the associated press all rights reserved this material may not be published broadcast rewritten or redistributed   \n",
       "\n",
       "                                                                                                                                                                                                                                                                                                                                                                                                                                                                                                                                                                                                                                                                                                                                                                                                                                                                                                                                                                                                                                                                                                                                                                                                                                                                                                                                                                                                                                                                                                                                                                                                                                                                                                                                                                                                                                                                                        msg_lower2  \\\n",
       "0  portauprince haiti  haitian president jovenel moïse broke with tradition on wednesday and celebrated the country’s independence day in the capital for security reasons following months of political turmoil\\n\\nmoïse whose government has been accused of corruption denounced graft during his speech at the national palace in portauprince and urged haiti’s elite to work with the government and help create employment\\n\\nwe’re still extremely poor he said those who continue to get rich find it normal that they do not pay taxes find it normal that there can be no competition find it normal that they set prices for consumers especially when this consumer is the state itself\\n\\nmoïse also apologized for the country’s ongoing power outages and renewed his 2016 campaign pledge to provide electricity 24 hours a day saying it was harder to accomplish than he imagined\\n\\nthe speech that marked the 216th anniversary of the world’s first black republic was originally slated to take place in the northern coastal town of gonaives where jeanjacques dessalines declared haiti’s independence but the town like many others was hit by violent protests that began in september amid anger over corruption fuel shortages and dwindling food supplies as opposition leaders and supporters demanded the resignation of moïse more than 40 people have been killed and dozens injured\\n\\nlargescale protests in portauprince have since dissipated although smaller ones are still occurring elsewhere in the country on wednesday opposition leaders and supporters gathered in gonaives to attend the funeral of an antigovernment protester and then carried his coffin through the streets as more protesters joined them\\n\\ncopyright 2020 the associated press all rights reserved this material may not be published broadcast rewritten or redistributed   \n",
       "\n",
       "                                                                                                                                                                                                                                                                                                                                                                                                                                                                                                                                                                                                                                                                                                                                msg_tokenized1  \\\n",
       "0  [martinsburg, wva, a, suspected, drunken, driver, was, arrested, in, a, new, year, ’, s, day, highway, crash, that, killed, another, motorist, in, west, virginia, police, said, the, accident, occurred, early, wednesday, along, southbound, interstate, 81, in, berkeley, county, the, journal, reported, cody, wade, braithwaite, 32, of, winchester, virginia, was, charged, with, dui, with, death, fleeing, dui, and, being, a, prohibited, person, in, possession, of, a, firearm, and, a, fugitive, from, justice, berkeley, county, sheriff, curtis, keller, said, keller, said, a, deputy, investigating, calls, about, a, reckless, driver, attempted, to, make, a, traffic, stop, but, the, suspect, ’, s, vehicle, sped, ...]   \n",
       "\n",
       "                                                                                                                                                                                                                                                                                                                                                                                                                                                                                                                                                                                                                                                                                                               msg_tokenized2  \n",
       "0  [portauprince, haiti, haitian, president, jovenel, moïse, broke, with, tradition, on, wednesday, and, celebrated, the, country, ’, s, independence, day, in, the, capital, for, security, reasons, following, months, of, political, turmoil, moïse, whose, government, has, been, accused, of, corruption, denounced, graft, during, his, speech, at, the, national, palace, in, portauprince, and, urged, haiti, ’, s, elite, to, work, with, the, government, and, help, create, employment, we, ’, re, still, extremely, poor, he, said, those, who, continue, to, get, rich, find, it, normal, that, they, do, not, pay, taxes, find, it, normal, that, there, can, be, no, competition, find, it, normal, that, ...]  "
      ]
     },
     "execution_count": 12,
     "metadata": {},
     "output_type": "execute_result"
    }
   ],
   "source": [
    "dfText['msg_tokenized1']= dfText['msg_lower1'].apply(lambda x: nltk.word_tokenize(x))\n",
    "dfText['msg_tokenized2']= dfText['msg_lower2'].apply(lambda x: nltk.word_tokenize(x))\n",
    "dfText.head(1)"
   ]
  },
  {
   "cell_type": "markdown",
   "metadata": {},
   "source": [
    "Talvez fazer o sentence tokenizer:"
   ]
  },
  {
   "cell_type": "code",
   "execution_count": null,
   "metadata": {},
   "outputs": [],
   "source": []
  },
  {
   "cell_type": "markdown",
   "metadata": {},
   "source": [
    "Stopwords filtering"
   ]
  },
  {
   "cell_type": "code",
   "execution_count": 13,
   "metadata": {},
   "outputs": [
    {
     "name": "stdout",
     "output_type": "stream",
     "text": [
      "['i', 'me', 'my', 'myself', 'we', 'our', 'ours', 'ourselves', 'you', \"you're\", \"you've\", \"you'll\", \"you'd\", 'your', 'yours', 'yourself', 'yourselves', 'he', 'him', 'his', 'himself', 'she', \"she's\", 'her', 'hers', 'herself', 'it', \"it's\", 'its', 'itself', 'they', 'them', 'their', 'theirs', 'themselves', 'what', 'which', 'who', 'whom', 'this', 'that', \"that'll\", 'these', 'those', 'am', 'is', 'are', 'was', 'were', 'be', 'been', 'being', 'have', 'has', 'had', 'having', 'do', 'does', 'did', 'doing', 'a', 'an', 'the', 'and', 'but', 'if', 'or', 'because', 'as', 'until', 'while', 'of', 'at', 'by', 'for', 'with', 'about', 'against', 'between', 'into', 'through', 'during', 'before', 'after', 'above', 'below', 'to', 'from', 'up', 'down', 'in', 'out', 'on', 'off', 'over', 'under', 'again', 'further', 'then', 'once', 'here', 'there', 'when', 'where', 'why', 'how', 'all', 'any', 'both', 'each', 'few', 'more', 'most', 'other', 'some', 'such', 'no', 'nor', 'not', 'only', 'own', 'same', 'so', 'than', 'too', 'very', 's', 't', 'can', 'will', 'just', 'don', \"don't\", 'should', \"should've\", 'now', 'd', 'll', 'm', 'o', 're', 've', 'y', 'ain', 'aren', \"aren't\", 'couldn', \"couldn't\", 'didn', \"didn't\", 'doesn', \"doesn't\", 'hadn', \"hadn't\", 'hasn', \"hasn't\", 'haven', \"haven't\", 'isn', \"isn't\", 'ma', 'mightn', \"mightn't\", 'mustn', \"mustn't\", 'needn', \"needn't\", 'shan', \"shan't\", 'shouldn', \"shouldn't\", 'wasn', \"wasn't\", 'weren', \"weren't\", 'won', \"won't\", 'wouldn', \"wouldn't\", '’']\n"
     ]
    }
   ],
   "source": [
    "from nltk.corpus import stopwords\n",
    "stop_words = stopwords.words('english')\n",
    "stop_words.append('’')\n",
    "print(stop_words)"
   ]
  },
  {
   "cell_type": "code",
   "execution_count": 14,
   "metadata": {},
   "outputs": [
    {
     "data": {
      "text/html": [
       "<div>\n",
       "<style scoped>\n",
       "    .dataframe tbody tr th:only-of-type {\n",
       "        vertical-align: middle;\n",
       "    }\n",
       "\n",
       "    .dataframe tbody tr th {\n",
       "        vertical-align: top;\n",
       "    }\n",
       "\n",
       "    .dataframe thead th {\n",
       "        text-align: right;\n",
       "    }\n",
       "</style>\n",
       "<table border=\"1\" class=\"dataframe\">\n",
       "  <thead>\n",
       "    <tr style=\"text-align: right;\">\n",
       "      <th></th>\n",
       "      <th>msg_tokenized1</th>\n",
       "      <th>no_stopwords1</th>\n",
       "      <th>msg_tokenized2</th>\n",
       "      <th>no_stopwords2</th>\n",
       "    </tr>\n",
       "  </thead>\n",
       "  <tbody>\n",
       "    <tr>\n",
       "      <th>0</th>\n",
       "      <td>[martinsburg, wva, a, suspected, drunken, driver, was, arrested, in, a, new, year, ’, s, day, highway, crash, that, killed, another, motorist, in, west, virginia, police, said, the, accident, occurred, early, wednesday, along, southbound, interstate, 81, in, berkeley, county, the, journal, reported, cody, wade, braithwaite, 32, of, winchester, virginia, was, charged, with, dui, with, death, fleeing, dui, and, being, a, prohibited, person, in, possession, of, a, firearm, and, a, fugitive, from, justice, berkeley, county, sheriff, curtis, keller, said, keller, said, a, deputy, investigating, calls, about, a, reckless, driver, attempted, to, make, a, traffic, stop, but, the, suspect, ’, s, vehicle, sped, ...]</td>\n",
       "      <td>[martinsburg, wva, suspected, drunken, driver, arrested, new, year, day, highway, crash, killed, another, motorist, west, virginia, police, said, accident, occurred, early, wednesday, along, southbound, interstate, 81, berkeley, county, journal, reported, cody, wade, braithwaite, 32, winchester, virginia, charged, dui, death, fleeing, dui, prohibited, person, possession, firearm, fugitive, justice, berkeley, county, sheriff, curtis, keller, said, keller, said, deputy, investigating, calls, reckless, driver, attempted, make, traffic, stop, suspect, vehicle, sped, hit, car, struck, guardrail, driver, car, pronounced, dead, scene, driver, name, immediately, released, suspect, vehicle, also, hit, deputy, cruiser, stopped, keller, said, braithwaite, held, without, bond, eastern, regional, jail, immediately, known, whether, braithwaite, ...]</td>\n",
       "      <td>[portauprince, haiti, haitian, president, jovenel, moïse, broke, with, tradition, on, wednesday, and, celebrated, the, country, ’, s, independence, day, in, the, capital, for, security, reasons, following, months, of, political, turmoil, moïse, whose, government, has, been, accused, of, corruption, denounced, graft, during, his, speech, at, the, national, palace, in, portauprince, and, urged, haiti, ’, s, elite, to, work, with, the, government, and, help, create, employment, we, ’, re, still, extremely, poor, he, said, those, who, continue, to, get, rich, find, it, normal, that, they, do, not, pay, taxes, find, it, normal, that, there, can, be, no, competition, find, it, normal, that, ...]</td>\n",
       "      <td>[portauprince, haiti, haitian, president, jovenel, moïse, broke, tradition, wednesday, celebrated, country, independence, day, capital, security, reasons, following, months, political, turmoil, moïse, whose, government, accused, corruption, denounced, graft, speech, national, palace, portauprince, urged, haiti, elite, work, government, help, create, employment, still, extremely, poor, said, continue, get, rich, find, normal, pay, taxes, find, normal, competition, find, normal, set, prices, consumers, especially, consumer, state, moïse, also, apologized, country, ongoing, power, outages, renewed, 2016, campaign, pledge, provide, electricity, 24, hours, day, saying, harder, accomplish, imagined, speech, marked, 216th, anniversary, world, first, black, republic, originally, slated, take, place, northern, coastal, town, gonaives, jeanjacques, dessalines, declared, ...]</td>\n",
       "    </tr>\n",
       "  </tbody>\n",
       "</table>\n",
       "</div>"
      ],
      "text/plain": [
       "                                                                                                                                                                                                                                                                                                                                                                                                                                                                                                                                                                                                                                                                                                                                msg_tokenized1  \\\n",
       "0  [martinsburg, wva, a, suspected, drunken, driver, was, arrested, in, a, new, year, ’, s, day, highway, crash, that, killed, another, motorist, in, west, virginia, police, said, the, accident, occurred, early, wednesday, along, southbound, interstate, 81, in, berkeley, county, the, journal, reported, cody, wade, braithwaite, 32, of, winchester, virginia, was, charged, with, dui, with, death, fleeing, dui, and, being, a, prohibited, person, in, possession, of, a, firearm, and, a, fugitive, from, justice, berkeley, county, sheriff, curtis, keller, said, keller, said, a, deputy, investigating, calls, about, a, reckless, driver, attempted, to, make, a, traffic, stop, but, the, suspect, ’, s, vehicle, sped, ...]   \n",
       "\n",
       "                                                                                                                                                                                                                                                                                                                                                                                                                                                                                                                                                                                                                                                                                                                                                                                                                                                                     no_stopwords1  \\\n",
       "0  [martinsburg, wva, suspected, drunken, driver, arrested, new, year, day, highway, crash, killed, another, motorist, west, virginia, police, said, accident, occurred, early, wednesday, along, southbound, interstate, 81, berkeley, county, journal, reported, cody, wade, braithwaite, 32, winchester, virginia, charged, dui, death, fleeing, dui, prohibited, person, possession, firearm, fugitive, justice, berkeley, county, sheriff, curtis, keller, said, keller, said, deputy, investigating, calls, reckless, driver, attempted, make, traffic, stop, suspect, vehicle, sped, hit, car, struck, guardrail, driver, car, pronounced, dead, scene, driver, name, immediately, released, suspect, vehicle, also, hit, deputy, cruiser, stopped, keller, said, braithwaite, held, without, bond, eastern, regional, jail, immediately, known, whether, braithwaite, ...]   \n",
       "\n",
       "                                                                                                                                                                                                                                                                                                                                                                                                                                                                                                                                                                                                                                                                                                               msg_tokenized2  \\\n",
       "0  [portauprince, haiti, haitian, president, jovenel, moïse, broke, with, tradition, on, wednesday, and, celebrated, the, country, ’, s, independence, day, in, the, capital, for, security, reasons, following, months, of, political, turmoil, moïse, whose, government, has, been, accused, of, corruption, denounced, graft, during, his, speech, at, the, national, palace, in, portauprince, and, urged, haiti, ’, s, elite, to, work, with, the, government, and, help, create, employment, we, ’, re, still, extremely, poor, he, said, those, who, continue, to, get, rich, find, it, normal, that, they, do, not, pay, taxes, find, it, normal, that, there, can, be, no, competition, find, it, normal, that, ...]   \n",
       "\n",
       "                                                                                                                                                                                                                                                                                                                                                                                                                                                                                                                                                                                                                                                                                                                                                                                                                                                                                                   no_stopwords2  \n",
       "0  [portauprince, haiti, haitian, president, jovenel, moïse, broke, tradition, wednesday, celebrated, country, independence, day, capital, security, reasons, following, months, political, turmoil, moïse, whose, government, accused, corruption, denounced, graft, speech, national, palace, portauprince, urged, haiti, elite, work, government, help, create, employment, still, extremely, poor, said, continue, get, rich, find, normal, pay, taxes, find, normal, competition, find, normal, set, prices, consumers, especially, consumer, state, moïse, also, apologized, country, ongoing, power, outages, renewed, 2016, campaign, pledge, provide, electricity, 24, hours, day, saying, harder, accomplish, imagined, speech, marked, 216th, anniversary, world, first, black, republic, originally, slated, take, place, northern, coastal, town, gonaives, jeanjacques, dessalines, declared, ...]  "
      ]
     },
     "execution_count": 14,
     "metadata": {},
     "output_type": "execute_result"
    }
   ],
   "source": [
    "def removeStopwords(listWords):\n",
    "    filteredWords = [word for word in listWords if word not in stop_words]\n",
    "    return filteredWords\n",
    "\n",
    "dfText['no_stopwords1']= dfText['msg_tokenized1'].apply(lambda x: removeStopwords(x))\n",
    "dfText['no_stopwords2']= dfText['msg_tokenized2'].apply(lambda x: removeStopwords(x))\n",
    "dfText[['msg_tokenized1', 'no_stopwords1', 'msg_tokenized2', 'no_stopwords2']].head(1)\n"
   ]
  },
  {
   "cell_type": "markdown",
   "metadata": {},
   "source": [
    "Stemming"
   ]
  },
  {
   "cell_type": "code",
   "execution_count": 15,
   "metadata": {},
   "outputs": [
    {
     "data": {
      "text/html": [
       "<div>\n",
       "<style scoped>\n",
       "    .dataframe tbody tr th:only-of-type {\n",
       "        vertical-align: middle;\n",
       "    }\n",
       "\n",
       "    .dataframe tbody tr th {\n",
       "        vertical-align: top;\n",
       "    }\n",
       "\n",
       "    .dataframe thead th {\n",
       "        text-align: right;\n",
       "    }\n",
       "</style>\n",
       "<table border=\"1\" class=\"dataframe\">\n",
       "  <thead>\n",
       "    <tr style=\"text-align: right;\">\n",
       "      <th></th>\n",
       "      <th>no_stopwords1</th>\n",
       "      <th>msg_stemmed1</th>\n",
       "      <th>no_stopwords2</th>\n",
       "      <th>msg_stemmed2</th>\n",
       "    </tr>\n",
       "  </thead>\n",
       "  <tbody>\n",
       "    <tr>\n",
       "      <th>0</th>\n",
       "      <td>[martinsburg, wva, suspected, drunken, driver, arrested, new, year, day, highway, crash, killed, another, motorist, west, virginia, police, said, accident, occurred, early, wednesday, along, southbound, interstate, 81, berkeley, county, journal, reported, cody, wade, braithwaite, 32, winchester, virginia, charged, dui, death, fleeing, dui, prohibited, person, possession, firearm, fugitive, justice, berkeley, county, sheriff, curtis, keller, said, keller, said, deputy, investigating, calls, reckless, driver, attempted, make, traffic, stop, suspect, vehicle, sped, hit, car, struck, guardrail, driver, car, pronounced, dead, scene, driver, name, immediately, released, suspect, vehicle, also, hit, deputy, cruiser, stopped, keller, said, braithwaite, held, without, bond, eastern, regional, jail, immediately, known, whether, braithwaite, ...]</td>\n",
       "      <td>[martinsburg, wva, suspect, drunken, driver, arrest, new, year, day, highway, crash, kill, anoth, motorist, west, virginia, polic, said, accid, occur, earli, wednesday, along, southbound, interst, 81, berkeley, counti, journal, report, codi, wade, braithwait, 32, winchest, virginia, charg, dui, death, flee, dui, prohibit, person, possess, firearm, fugit, justic, berkeley, counti, sheriff, curti, keller, said, keller, said, deputi, investig, call, reckless, driver, attempt, make, traffic, stop, suspect, vehicl, sped, hit, car, struck, guardrail, driver, car, pronounc, dead, scene, driver, name, immedi, releas, suspect, vehicl, also, hit, deputi, cruiser, stop, keller, said, braithwait, held, without, bond, eastern, region, jail, immedi, known, whether, braithwait, ...]</td>\n",
       "      <td>[portauprince, haiti, haitian, president, jovenel, moïse, broke, tradition, wednesday, celebrated, country, independence, day, capital, security, reasons, following, months, political, turmoil, moïse, whose, government, accused, corruption, denounced, graft, speech, national, palace, portauprince, urged, haiti, elite, work, government, help, create, employment, still, extremely, poor, said, continue, get, rich, find, normal, pay, taxes, find, normal, competition, find, normal, set, prices, consumers, especially, consumer, state, moïse, also, apologized, country, ongoing, power, outages, renewed, 2016, campaign, pledge, provide, electricity, 24, hours, day, saying, harder, accomplish, imagined, speech, marked, 216th, anniversary, world, first, black, republic, originally, slated, take, place, northern, coastal, town, gonaives, jeanjacques, dessalines, declared, ...]</td>\n",
       "      <td>[portauprinc, haiti, haitian, presid, jovenel, moïs, broke, tradit, wednesday, celebr, countri, independ, day, capit, secur, reason, follow, month, polit, turmoil, moïs, whose, govern, accus, corrupt, denounc, graft, speech, nation, palac, portauprinc, urg, haiti, elit, work, govern, help, creat, employ, still, extrem, poor, said, continu, get, rich, find, normal, pay, tax, find, normal, competit, find, normal, set, price, consum, especi, consum, state, moïs, also, apolog, countri, ongo, power, outag, renew, 2016, campaign, pledg, provid, electr, 24, hour, day, say, harder, accomplish, imagin, speech, mark, 216th, anniversari, world, first, black, republ, origin, slate, take, place, northern, coastal, town, gonaiv, jeanjacqu, dessalin, declar, ...]</td>\n",
       "    </tr>\n",
       "  </tbody>\n",
       "</table>\n",
       "</div>"
      ],
      "text/plain": [
       "                                                                                                                                                                                                                                                                                                                                                                                                                                                                                                                                                                                                                                                                                                                                                                                                                                                                     no_stopwords1  \\\n",
       "0  [martinsburg, wva, suspected, drunken, driver, arrested, new, year, day, highway, crash, killed, another, motorist, west, virginia, police, said, accident, occurred, early, wednesday, along, southbound, interstate, 81, berkeley, county, journal, reported, cody, wade, braithwaite, 32, winchester, virginia, charged, dui, death, fleeing, dui, prohibited, person, possession, firearm, fugitive, justice, berkeley, county, sheriff, curtis, keller, said, keller, said, deputy, investigating, calls, reckless, driver, attempted, make, traffic, stop, suspect, vehicle, sped, hit, car, struck, guardrail, driver, car, pronounced, dead, scene, driver, name, immediately, released, suspect, vehicle, also, hit, deputy, cruiser, stopped, keller, said, braithwaite, held, without, bond, eastern, regional, jail, immediately, known, whether, braithwaite, ...]   \n",
       "\n",
       "                                                                                                                                                                                                                                                                                                                                                                                                                                                                                                                                                                                                                                                                                                                                                                                                 msg_stemmed1  \\\n",
       "0  [martinsburg, wva, suspect, drunken, driver, arrest, new, year, day, highway, crash, kill, anoth, motorist, west, virginia, polic, said, accid, occur, earli, wednesday, along, southbound, interst, 81, berkeley, counti, journal, report, codi, wade, braithwait, 32, winchest, virginia, charg, dui, death, flee, dui, prohibit, person, possess, firearm, fugit, justic, berkeley, counti, sheriff, curti, keller, said, keller, said, deputi, investig, call, reckless, driver, attempt, make, traffic, stop, suspect, vehicl, sped, hit, car, struck, guardrail, driver, car, pronounc, dead, scene, driver, name, immedi, releas, suspect, vehicl, also, hit, deputi, cruiser, stop, keller, said, braithwait, held, without, bond, eastern, region, jail, immedi, known, whether, braithwait, ...]   \n",
       "\n",
       "                                                                                                                                                                                                                                                                                                                                                                                                                                                                                                                                                                                                                                                                                                                                                                                                                                                                                                   no_stopwords2  \\\n",
       "0  [portauprince, haiti, haitian, president, jovenel, moïse, broke, tradition, wednesday, celebrated, country, independence, day, capital, security, reasons, following, months, political, turmoil, moïse, whose, government, accused, corruption, denounced, graft, speech, national, palace, portauprince, urged, haiti, elite, work, government, help, create, employment, still, extremely, poor, said, continue, get, rich, find, normal, pay, taxes, find, normal, competition, find, normal, set, prices, consumers, especially, consumer, state, moïse, also, apologized, country, ongoing, power, outages, renewed, 2016, campaign, pledge, provide, electricity, 24, hours, day, saying, harder, accomplish, imagined, speech, marked, 216th, anniversary, world, first, black, republic, originally, slated, take, place, northern, coastal, town, gonaives, jeanjacques, dessalines, declared, ...]   \n",
       "\n",
       "                                                                                                                                                                                                                                                                                                                                                                                                                                                                                                                                                                                                                                                                                                                                                                             msg_stemmed2  \n",
       "0  [portauprinc, haiti, haitian, presid, jovenel, moïs, broke, tradit, wednesday, celebr, countri, independ, day, capit, secur, reason, follow, month, polit, turmoil, moïs, whose, govern, accus, corrupt, denounc, graft, speech, nation, palac, portauprinc, urg, haiti, elit, work, govern, help, creat, employ, still, extrem, poor, said, continu, get, rich, find, normal, pay, tax, find, normal, competit, find, normal, set, price, consum, especi, consum, state, moïs, also, apolog, countri, ongo, power, outag, renew, 2016, campaign, pledg, provid, electr, 24, hour, day, say, harder, accomplish, imagin, speech, mark, 216th, anniversari, world, first, black, republ, origin, slate, take, place, northern, coastal, town, gonaiv, jeanjacqu, dessalin, declar, ...]  "
      ]
     },
     "execution_count": 15,
     "metadata": {},
     "output_type": "execute_result"
    }
   ],
   "source": [
    "from nltk.stem.porter import PorterStemmer\n",
    "porter = PorterStemmer()\n",
    "\n",
    "def stemming(listWords):\n",
    "    stemText = [porter.stem(word) for word in listWords]\n",
    "    return stemText\n",
    "\n",
    "dfText['msg_stemmed1']= dfText['no_stopwords1'].apply(lambda x: stemming(x))\n",
    "dfText['msg_stemmed2']= dfText['no_stopwords2'].apply(lambda x: stemming(x))\n",
    "dfText[['no_stopwords1', 'msg_stemmed1', 'no_stopwords2', 'msg_stemmed2']].head(1)"
   ]
  },
  {
   "cell_type": "markdown",
   "metadata": {},
   "source": [
    "Lemmatization"
   ]
  },
  {
   "cell_type": "code",
   "execution_count": 16,
   "metadata": {},
   "outputs": [
    {
     "data": {
      "text/html": [
       "<div>\n",
       "<style scoped>\n",
       "    .dataframe tbody tr th:only-of-type {\n",
       "        vertical-align: middle;\n",
       "    }\n",
       "\n",
       "    .dataframe tbody tr th {\n",
       "        vertical-align: top;\n",
       "    }\n",
       "\n",
       "    .dataframe thead th {\n",
       "        text-align: right;\n",
       "    }\n",
       "</style>\n",
       "<table border=\"1\" class=\"dataframe\">\n",
       "  <thead>\n",
       "    <tr style=\"text-align: right;\">\n",
       "      <th></th>\n",
       "      <th>no_stopwords1</th>\n",
       "      <th>msg_lemmatized1</th>\n",
       "    </tr>\n",
       "  </thead>\n",
       "  <tbody>\n",
       "    <tr>\n",
       "      <th>0</th>\n",
       "      <td>[martinsburg, wva, suspected, drunken, driver, arrested, new, year, day, highway, crash, killed, another, motorist, west, virginia, police, said, accident, occurred, early, wednesday, along, southbound, interstate, 81, berkeley, county, journal, reported, cody, wade, braithwaite, 32, winchester, virginia, charged, dui, death, fleeing, dui, prohibited, person, possession, firearm, fugitive, justice, berkeley, county, sheriff, curtis, keller, said, keller, said, deputy, investigating, calls, reckless, driver, attempted, make, traffic, stop, suspect, vehicle, sped, hit, car, struck, guardrail, driver, car, pronounced, dead, scene, driver, name, immediately, released, suspect, vehicle, also, hit, deputy, cruiser, stopped, keller, said, braithwaite, held, without, bond, eastern, regional, jail, immediately, known, whether, braithwaite, ...]</td>\n",
       "      <td>[martinsburg, wva, suspected, drunken, driver, arrested, new, year, day, highway, crash, killed, another, motorist, west, virginia, police, said, accident, occurred, early, wednesday, along, southbound, interstate, 81, berkeley, county, journal, reported, cody, wade, braithwaite, 32, winchester, virginia, charged, duo, death, fleeing, duo, prohibited, person, possession, firearm, fugitive, justice, berkeley, county, sheriff, curtis, keller, said, keller, said, deputy, investigating, call, reckless, driver, attempted, make, traffic, stop, suspect, vehicle, sped, hit, car, struck, guardrail, driver, car, pronounced, dead, scene, driver, name, immediately, released, suspect, vehicle, also, hit, deputy, cruiser, stopped, keller, said, braithwaite, held, without, bond, eastern, regional, jail, immediately, known, whether, braithwaite, ...]</td>\n",
       "    </tr>\n",
       "  </tbody>\n",
       "</table>\n",
       "</div>"
      ],
      "text/plain": [
       "                                                                                                                                                                                                                                                                                                                                                                                                                                                                                                                                                                                                                                                                                                                                                                                                                                                                     no_stopwords1  \\\n",
       "0  [martinsburg, wva, suspected, drunken, driver, arrested, new, year, day, highway, crash, killed, another, motorist, west, virginia, police, said, accident, occurred, early, wednesday, along, southbound, interstate, 81, berkeley, county, journal, reported, cody, wade, braithwaite, 32, winchester, virginia, charged, dui, death, fleeing, dui, prohibited, person, possession, firearm, fugitive, justice, berkeley, county, sheriff, curtis, keller, said, keller, said, deputy, investigating, calls, reckless, driver, attempted, make, traffic, stop, suspect, vehicle, sped, hit, car, struck, guardrail, driver, car, pronounced, dead, scene, driver, name, immediately, released, suspect, vehicle, also, hit, deputy, cruiser, stopped, keller, said, braithwaite, held, without, bond, eastern, regional, jail, immediately, known, whether, braithwaite, ...]   \n",
       "\n",
       "                                                                                                                                                                                                                                                                                                                                                                                                                                                                                                                                                                                                                                                                                                                                                                                                                                                                  msg_lemmatized1  \n",
       "0  [martinsburg, wva, suspected, drunken, driver, arrested, new, year, day, highway, crash, killed, another, motorist, west, virginia, police, said, accident, occurred, early, wednesday, along, southbound, interstate, 81, berkeley, county, journal, reported, cody, wade, braithwaite, 32, winchester, virginia, charged, duo, death, fleeing, duo, prohibited, person, possession, firearm, fugitive, justice, berkeley, county, sheriff, curtis, keller, said, keller, said, deputy, investigating, call, reckless, driver, attempted, make, traffic, stop, suspect, vehicle, sped, hit, car, struck, guardrail, driver, car, pronounced, dead, scene, driver, name, immediately, released, suspect, vehicle, also, hit, deputy, cruiser, stopped, keller, said, braithwaite, held, without, bond, eastern, regional, jail, immediately, known, whether, braithwaite, ...]  "
      ]
     },
     "execution_count": 16,
     "metadata": {},
     "output_type": "execute_result"
    }
   ],
   "source": [
    "from nltk.stem import WordNetLemmatizer\n",
    "#defining the object for Lemmatization\n",
    "wordnet_lemmatizer = WordNetLemmatizer()\n",
    "\n",
    "#defining the function for lemmatization\n",
    "def lemmatizer(listWords):\n",
    "    lemmText = [wordnet_lemmatizer.lemmatize(word) for word in listWords]\n",
    "    return lemmText\n",
    "\n",
    "dfText['msg_lemmatized1']= dfText['no_stopwords1'].apply(lambda x: lemmatizer(x))\n",
    "dfText['msg_lemmatized2']= dfText['no_stopwords2'].apply(lambda x: lemmatizer(x))\n",
    "dfText[['no_stopwords1', 'msg_lemmatized1']].head(1)"
   ]
  },
  {
   "cell_type": "markdown",
   "metadata": {},
   "source": [
    "## Implementação dos algoritmos"
   ]
  },
  {
   "cell_type": "markdown",
   "metadata": {},
   "source": [
    "### Jaccard"
   ]
  },
  {
   "cell_type": "code",
   "execution_count": 17,
   "metadata": {},
   "outputs": [],
   "source": [
    "def calculate_jaccard(word_tokens1, word_tokens2):\n",
    "\t# Combine both tokens to find union.\n",
    "\tboth_tokens = word_tokens1 + word_tokens2\n",
    "\tunion = set(both_tokens)\n",
    "\n",
    "\t# Calculate intersection.\n",
    "\tintersection = set()\n",
    "\tfor w in word_tokens1:\n",
    "\t\tif w in word_tokens2:\n",
    "\t\t\tintersection.add(w)\n",
    "\n",
    "\tif len(union)==0:\n",
    "\t\tjaccard_score = 0\n",
    "\telse:\n",
    "\t\tjaccard_score = len(intersection)/len(union)\n",
    "\treturn jaccard_score"
   ]
  },
  {
   "cell_type": "code",
   "execution_count": 18,
   "metadata": {},
   "outputs": [],
   "source": [
    "dfText['jaccard'] = dfText.apply(lambda row: calculate_jaccard(row['msg_lemmatized1'], row['msg_lemmatized2']), axis=1)\n",
    "#calculate_jaccard(dfText['msg_lemmatized1'][0], dfText['msg_lemmatized2'][0])"
   ]
  },
  {
   "cell_type": "code",
   "execution_count": 19,
   "metadata": {},
   "outputs": [
    {
     "data": {
      "text/html": [
       "<div>\n",
       "<style scoped>\n",
       "    .dataframe tbody tr th:only-of-type {\n",
       "        vertical-align: middle;\n",
       "    }\n",
       "\n",
       "    .dataframe tbody tr th {\n",
       "        vertical-align: top;\n",
       "    }\n",
       "\n",
       "    .dataframe thead th {\n",
       "        text-align: right;\n",
       "    }\n",
       "</style>\n",
       "<table border=\"1\" class=\"dataframe\">\n",
       "  <thead>\n",
       "    <tr style=\"text-align: right;\">\n",
       "      <th></th>\n",
       "      <th>jaccard</th>\n",
       "      <th>Overall</th>\n",
       "    </tr>\n",
       "  </thead>\n",
       "  <tbody>\n",
       "    <tr>\n",
       "      <th>0</th>\n",
       "      <td>0.082569</td>\n",
       "      <td>4.000000</td>\n",
       "    </tr>\n",
       "    <tr>\n",
       "      <th>1</th>\n",
       "      <td>0.042254</td>\n",
       "      <td>3.666667</td>\n",
       "    </tr>\n",
       "    <tr>\n",
       "      <th>2</th>\n",
       "      <td>0.114894</td>\n",
       "      <td>2.333333</td>\n",
       "    </tr>\n",
       "    <tr>\n",
       "      <th>3</th>\n",
       "      <td>0.133127</td>\n",
       "      <td>2.000000</td>\n",
       "    </tr>\n",
       "    <tr>\n",
       "      <th>4</th>\n",
       "      <td>0.204348</td>\n",
       "      <td>1.250000</td>\n",
       "    </tr>\n",
       "    <tr>\n",
       "      <th>...</th>\n",
       "      <td>...</td>\n",
       "      <td>...</td>\n",
       "    </tr>\n",
       "    <tr>\n",
       "      <th>1352</th>\n",
       "      <td>0.118750</td>\n",
       "      <td>1.000000</td>\n",
       "    </tr>\n",
       "    <tr>\n",
       "      <th>1353</th>\n",
       "      <td>0.378109</td>\n",
       "      <td>1.000000</td>\n",
       "    </tr>\n",
       "    <tr>\n",
       "      <th>1354</th>\n",
       "      <td>0.128736</td>\n",
       "      <td>4.000000</td>\n",
       "    </tr>\n",
       "    <tr>\n",
       "      <th>1355</th>\n",
       "      <td>0.201005</td>\n",
       "      <td>1.000000</td>\n",
       "    </tr>\n",
       "    <tr>\n",
       "      <th>1356</th>\n",
       "      <td>0.117895</td>\n",
       "      <td>3.000000</td>\n",
       "    </tr>\n",
       "  </tbody>\n",
       "</table>\n",
       "<p>1357 rows × 2 columns</p>\n",
       "</div>"
      ],
      "text/plain": [
       "       jaccard   Overall\n",
       "0     0.082569  4.000000\n",
       "1     0.042254  3.666667\n",
       "2     0.114894  2.333333\n",
       "3     0.133127  2.000000\n",
       "4     0.204348  1.250000\n",
       "...        ...       ...\n",
       "1352  0.118750  1.000000\n",
       "1353  0.378109  1.000000\n",
       "1354  0.128736  4.000000\n",
       "1355  0.201005  1.000000\n",
       "1356  0.117895  3.000000\n",
       "\n",
       "[1357 rows x 2 columns]"
      ]
     },
     "execution_count": 19,
     "metadata": {},
     "output_type": "execute_result"
    }
   ],
   "source": [
    "dfText[['jaccard', 'Overall']]"
   ]
  },
  {
   "cell_type": "markdown",
   "metadata": {},
   "source": [
    "### BoW (CountVectorizer)"
   ]
  },
  {
   "cell_type": "code",
   "execution_count": null,
   "metadata": {},
   "outputs": [],
   "source": [
    "from sklearn.feature_extraction.text import CountVectorizer"
   ]
  },
  {
   "cell_type": "code",
   "execution_count": null,
   "metadata": {},
   "outputs": [],
   "source": [
    "def get_bow(doc1, doc2):\n",
    "    vectorizer = CountVectorizer()\n",
    "    text_list = .join?\n",
    "    vectorizer.fit(text_list)\n",
    "    vector = vectorizer.transform(text_list)\n",
    "    #return cos similarity\n"
   ]
  },
  {
   "cell_type": "code",
   "execution_count": null,
   "metadata": {},
   "outputs": [],
   "source": [
    "vectorizer = CountVectorizer()\n",
    "\n",
    "\n",
    "sample_text = [\"One of the most basic ways we can numerically represent words \"\n",
    "               \"is through the one-hot encoding method (also sometimes called \"\n",
    "               \"count vectorizing).\"]\n",
    "\n",
    "# To actually create the vectorizer, we simply need to call fit on the text\n",
    "# data that we wish to fix\n",
    "vectorizer.fit(sample_text)\n",
    "\n",
    "# Now, we can inspect how our vectorizer vectorized the text\n",
    "# This will print out a list of words used, and their index in the vectors\n",
    "print('Vocabulary: ')\n",
    "print(vectorizer.vocabulary_)\n",
    "\n",
    "# If we would like to actually create a vector, we can do so by passing the\n",
    "# text into the vectorizer to get back counts\n",
    "vector = vectorizer.transform(sample_text)\n",
    "\n",
    "# Our final vector:\n",
    "print('Full vector: ')\n",
    "print(vector.toarray())"
   ]
  },
  {
   "cell_type": "code",
   "execution_count": null,
   "metadata": {},
   "outputs": [],
   "source": [
    "# Or if we wanted to get the vector for one word:\n",
    "print('Hot vector: ')\n",
    "print(vectorizer.transform(['hot']).toarray())\n",
    "\n",
    "# Or if we wanted to get multiple vectors at once to build matrices\n",
    "print('Hot and one: ')\n",
    "print(vectorizer.transform(['hot', 'one']).toarray())\n",
    "\n",
    "# We could also do the whole thing at once with the fit_transform method:\n",
    "print('One swoop:')\n",
    "new_text = ['Today is the day that I do the thing today, today']\n",
    "new_vectorizer = CountVectorizer()\n",
    "print(new_vectorizer.fit_transform(new_text).toarray())"
   ]
  },
  {
   "cell_type": "code",
   "execution_count": null,
   "metadata": {},
   "outputs": [],
   "source": []
  },
  {
   "cell_type": "markdown",
   "metadata": {},
   "source": [
    "### TF-IDF"
   ]
  },
  {
   "cell_type": "code",
   "execution_count": 20,
   "metadata": {},
   "outputs": [
    {
     "data": {
      "text/html": [
       "<div>\n",
       "<style scoped>\n",
       "    .dataframe tbody tr th:only-of-type {\n",
       "        vertical-align: middle;\n",
       "    }\n",
       "\n",
       "    .dataframe tbody tr th {\n",
       "        vertical-align: top;\n",
       "    }\n",
       "\n",
       "    .dataframe thead th {\n",
       "        text-align: right;\n",
       "    }\n",
       "</style>\n",
       "<table border=\"1\" class=\"dataframe\">\n",
       "  <thead>\n",
       "    <tr style=\"text-align: right;\">\n",
       "      <th></th>\n",
       "      <th>pair_id</th>\n",
       "      <th>doc1</th>\n",
       "      <th>doc2</th>\n",
       "      <th>Overall</th>\n",
       "      <th>clean_msg1</th>\n",
       "      <th>clean_msg2</th>\n",
       "      <th>msg_lower1</th>\n",
       "      <th>msg_lower2</th>\n",
       "      <th>msg_tokenized1</th>\n",
       "      <th>msg_tokenized2</th>\n",
       "      <th>no_stopwords1</th>\n",
       "      <th>no_stopwords2</th>\n",
       "      <th>msg_stemmed1</th>\n",
       "      <th>msg_stemmed2</th>\n",
       "      <th>msg_lemmatized1</th>\n",
       "      <th>msg_lemmatized2</th>\n",
       "      <th>jaccard</th>\n",
       "    </tr>\n",
       "  </thead>\n",
       "  <tbody>\n",
       "    <tr>\n",
       "      <th>0</th>\n",
       "      <td>1484084337_1484110209</td>\n",
       "      <td>MARTINSBURG, W.Va. — A suspected drunken driver was arrested in a New Year’s Day highway crash that killed another motorist in West Virginia, police said.\\n\\nThe accident occurred early Wednesday along southbound Interstate 81 in Berkeley County, The Journal reported.\\n\\nCody Wade Braithwaite, 32, of Winchester, Virginia, was charged with DUI with death, fleeing DUI, and being a prohibited person in possession of a firearm and a fugitive from justice, Berkeley County Sheriff Curtis Keller said.\\n\\nKeller said a deputy investigating calls about a reckless driver attempted to make a traffic stop, but the suspect’s vehicle sped up and hit a car, which then struck a guardrail. The driver of the car was pronounced dead at the scene. The driver’s name was not immediately released.\\n\\nThe suspect’s vehicle also hit a deputy’s cruiser before being stopped, Keller said.\\n\\nBraithwaite was being held without bond in the Eastern Regional Jail. It wasn’t immediately known whether Braithwaite has an attorney.\\n\\n___\\n\\nInformation from: The Journal, http://journal-news.net/\\n\\nCopyright 2020 The Associated Press. All rights reserved. This material may not be published, broadcast, rewritten or redistributed.</td>\n",
       "      <td>PORT-AU-PRINCE, Haiti — Haitian President Jovenel Moïse broke with tradition on Wednesday and celebrated the country’s independence day in the capital for security reasons following months of political turmoil.\\n\\nMoïse, whose government has been accused of corruption, denounced graft during his speech at the National Palace in Port-au-Prince and urged Haiti’s elite to work with the government and help create employment.\\n\\n“We’re still extremely poor,” he said. “Those who continue to get rich find it normal that they do not pay taxes, find it normal that there can be no competition, find it normal that they set prices for consumers, especially when this consumer is the state itself.”\\n\\nMoïse also apologized for the country’s ongoing power outages and renewed his 2016 campaign pledge to provide electricity 24 hours a day, saying it was harder to accomplish than he imagined.\\n\\nThe speech that marked the 216th anniversary of the world’s first black republic was originally slated to take place in the northern coastal town of Gonaives, where Jean-Jacques Dessalines declared Haiti’s independence. But the town, like many others, was hit by violent protests that began in September amid anger over corruption, fuel shortages and dwindling food supplies as opposition leaders and supporters demanded the resignation of Moïse. More than 40 people have been killed and dozens injured.\\n\\nLarge-scale protests in Port-au-Prince have since dissipated, although smaller ones are still occurring elsewhere in the country. On Wednesday, opposition leaders and supporters gathered in Gonaives to attend the funeral of an anti-government protester and then carried his coffin through the streets as more protesters joined them.\\n\\nCopyright 2020 The Associated Press. All rights reserved. This material may not be published, broadcast, rewritten or redistributed.</td>\n",
       "      <td>4.0</td>\n",
       "      <td>MARTINSBURG WVa  A suspected drunken driver was arrested in a New Year’s Day highway crash that killed another motorist in West Virginia police said\\n\\nThe accident occurred early Wednesday along southbound Interstate 81 in Berkeley County The Journal reported\\n\\nCody Wade Braithwaite 32 of Winchester Virginia was charged with DUI with death fleeing DUI and being a prohibited person in possession of a firearm and a fugitive from justice Berkeley County Sheriff Curtis Keller said\\n\\nKeller said a deputy investigating calls about a reckless driver attempted to make a traffic stop but the suspect’s vehicle sped up and hit a car which then struck a guardrail The driver of the car was pronounced dead at the scene The driver’s name was not immediately released\\n\\nThe suspect’s vehicle also hit a deputy’s cruiser before being stopped Keller said\\n\\nBraithwaite was being held without bond in the Eastern Regional Jail It wasn’t immediately known whether Braithwaite has an attorney\\n\\n\\n\\nInformation from The Journal httpjournalnewsnet\\n\\nCopyright 2020 The Associated Press All rights reserved This material may not be published broadcast rewritten or redistributed</td>\n",
       "      <td>PORTAUPRINCE Haiti  Haitian President Jovenel Moïse broke with tradition on Wednesday and celebrated the country’s independence day in the capital for security reasons following months of political turmoil\\n\\nMoïse whose government has been accused of corruption denounced graft during his speech at the National Palace in PortauPrince and urged Haiti’s elite to work with the government and help create employment\\n\\nWe’re still extremely poor he said Those who continue to get rich find it normal that they do not pay taxes find it normal that there can be no competition find it normal that they set prices for consumers especially when this consumer is the state itself\\n\\nMoïse also apologized for the country’s ongoing power outages and renewed his 2016 campaign pledge to provide electricity 24 hours a day saying it was harder to accomplish than he imagined\\n\\nThe speech that marked the 216th anniversary of the world’s first black republic was originally slated to take place in the northern coastal town of Gonaives where JeanJacques Dessalines declared Haiti’s independence But the town like many others was hit by violent protests that began in September amid anger over corruption fuel shortages and dwindling food supplies as opposition leaders and supporters demanded the resignation of Moïse More than 40 people have been killed and dozens injured\\n\\nLargescale protests in PortauPrince have since dissipated although smaller ones are still occurring elsewhere in the country On Wednesday opposition leaders and supporters gathered in Gonaives to attend the funeral of an antigovernment protester and then carried his coffin through the streets as more protesters joined them\\n\\nCopyright 2020 The Associated Press All rights reserved This material may not be published broadcast rewritten or redistributed</td>\n",
       "      <td>martinsburg wva  a suspected drunken driver was arrested in a new year’s day highway crash that killed another motorist in west virginia police said\\n\\nthe accident occurred early wednesday along southbound interstate 81 in berkeley county the journal reported\\n\\ncody wade braithwaite 32 of winchester virginia was charged with dui with death fleeing dui and being a prohibited person in possession of a firearm and a fugitive from justice berkeley county sheriff curtis keller said\\n\\nkeller said a deputy investigating calls about a reckless driver attempted to make a traffic stop but the suspect’s vehicle sped up and hit a car which then struck a guardrail the driver of the car was pronounced dead at the scene the driver’s name was not immediately released\\n\\nthe suspect’s vehicle also hit a deputy’s cruiser before being stopped keller said\\n\\nbraithwaite was being held without bond in the eastern regional jail it wasn’t immediately known whether braithwaite has an attorney\\n\\n\\n\\ninformation from the journal httpjournalnewsnet\\n\\ncopyright 2020 the associated press all rights reserved this material may not be published broadcast rewritten or redistributed</td>\n",
       "      <td>portauprince haiti  haitian president jovenel moïse broke with tradition on wednesday and celebrated the country’s independence day in the capital for security reasons following months of political turmoil\\n\\nmoïse whose government has been accused of corruption denounced graft during his speech at the national palace in portauprince and urged haiti’s elite to work with the government and help create employment\\n\\nwe’re still extremely poor he said those who continue to get rich find it normal that they do not pay taxes find it normal that there can be no competition find it normal that they set prices for consumers especially when this consumer is the state itself\\n\\nmoïse also apologized for the country’s ongoing power outages and renewed his 2016 campaign pledge to provide electricity 24 hours a day saying it was harder to accomplish than he imagined\\n\\nthe speech that marked the 216th anniversary of the world’s first black republic was originally slated to take place in the northern coastal town of gonaives where jeanjacques dessalines declared haiti’s independence but the town like many others was hit by violent protests that began in september amid anger over corruption fuel shortages and dwindling food supplies as opposition leaders and supporters demanded the resignation of moïse more than 40 people have been killed and dozens injured\\n\\nlargescale protests in portauprince have since dissipated although smaller ones are still occurring elsewhere in the country on wednesday opposition leaders and supporters gathered in gonaives to attend the funeral of an antigovernment protester and then carried his coffin through the streets as more protesters joined them\\n\\ncopyright 2020 the associated press all rights reserved this material may not be published broadcast rewritten or redistributed</td>\n",
       "      <td>[martinsburg, wva, a, suspected, drunken, driver, was, arrested, in, a, new, year, ’, s, day, highway, crash, that, killed, another, motorist, in, west, virginia, police, said, the, accident, occurred, early, wednesday, along, southbound, interstate, 81, in, berkeley, county, the, journal, reported, cody, wade, braithwaite, 32, of, winchester, virginia, was, charged, with, dui, with, death, fleeing, dui, and, being, a, prohibited, person, in, possession, of, a, firearm, and, a, fugitive, from, justice, berkeley, county, sheriff, curtis, keller, said, keller, said, a, deputy, investigating, calls, about, a, reckless, driver, attempted, to, make, a, traffic, stop, but, the, suspect, ’, s, vehicle, sped, ...]</td>\n",
       "      <td>[portauprince, haiti, haitian, president, jovenel, moïse, broke, with, tradition, on, wednesday, and, celebrated, the, country, ’, s, independence, day, in, the, capital, for, security, reasons, following, months, of, political, turmoil, moïse, whose, government, has, been, accused, of, corruption, denounced, graft, during, his, speech, at, the, national, palace, in, portauprince, and, urged, haiti, ’, s, elite, to, work, with, the, government, and, help, create, employment, we, ’, re, still, extremely, poor, he, said, those, who, continue, to, get, rich, find, it, normal, that, they, do, not, pay, taxes, find, it, normal, that, there, can, be, no, competition, find, it, normal, that, ...]</td>\n",
       "      <td>[martinsburg, wva, suspected, drunken, driver, arrested, new, year, day, highway, crash, killed, another, motorist, west, virginia, police, said, accident, occurred, early, wednesday, along, southbound, interstate, 81, berkeley, county, journal, reported, cody, wade, braithwaite, 32, winchester, virginia, charged, dui, death, fleeing, dui, prohibited, person, possession, firearm, fugitive, justice, berkeley, county, sheriff, curtis, keller, said, keller, said, deputy, investigating, calls, reckless, driver, attempted, make, traffic, stop, suspect, vehicle, sped, hit, car, struck, guardrail, driver, car, pronounced, dead, scene, driver, name, immediately, released, suspect, vehicle, also, hit, deputy, cruiser, stopped, keller, said, braithwaite, held, without, bond, eastern, regional, jail, immediately, known, whether, braithwaite, ...]</td>\n",
       "      <td>[portauprince, haiti, haitian, president, jovenel, moïse, broke, tradition, wednesday, celebrated, country, independence, day, capital, security, reasons, following, months, political, turmoil, moïse, whose, government, accused, corruption, denounced, graft, speech, national, palace, portauprince, urged, haiti, elite, work, government, help, create, employment, still, extremely, poor, said, continue, get, rich, find, normal, pay, taxes, find, normal, competition, find, normal, set, prices, consumers, especially, consumer, state, moïse, also, apologized, country, ongoing, power, outages, renewed, 2016, campaign, pledge, provide, electricity, 24, hours, day, saying, harder, accomplish, imagined, speech, marked, 216th, anniversary, world, first, black, republic, originally, slated, take, place, northern, coastal, town, gonaives, jeanjacques, dessalines, declared, ...]</td>\n",
       "      <td>[martinsburg, wva, suspect, drunken, driver, arrest, new, year, day, highway, crash, kill, anoth, motorist, west, virginia, polic, said, accid, occur, earli, wednesday, along, southbound, interst, 81, berkeley, counti, journal, report, codi, wade, braithwait, 32, winchest, virginia, charg, dui, death, flee, dui, prohibit, person, possess, firearm, fugit, justic, berkeley, counti, sheriff, curti, keller, said, keller, said, deputi, investig, call, reckless, driver, attempt, make, traffic, stop, suspect, vehicl, sped, hit, car, struck, guardrail, driver, car, pronounc, dead, scene, driver, name, immedi, releas, suspect, vehicl, also, hit, deputi, cruiser, stop, keller, said, braithwait, held, without, bond, eastern, region, jail, immedi, known, whether, braithwait, ...]</td>\n",
       "      <td>[portauprinc, haiti, haitian, presid, jovenel, moïs, broke, tradit, wednesday, celebr, countri, independ, day, capit, secur, reason, follow, month, polit, turmoil, moïs, whose, govern, accus, corrupt, denounc, graft, speech, nation, palac, portauprinc, urg, haiti, elit, work, govern, help, creat, employ, still, extrem, poor, said, continu, get, rich, find, normal, pay, tax, find, normal, competit, find, normal, set, price, consum, especi, consum, state, moïs, also, apolog, countri, ongo, power, outag, renew, 2016, campaign, pledg, provid, electr, 24, hour, day, say, harder, accomplish, imagin, speech, mark, 216th, anniversari, world, first, black, republ, origin, slate, take, place, northern, coastal, town, gonaiv, jeanjacqu, dessalin, declar, ...]</td>\n",
       "      <td>[martinsburg, wva, suspected, drunken, driver, arrested, new, year, day, highway, crash, killed, another, motorist, west, virginia, police, said, accident, occurred, early, wednesday, along, southbound, interstate, 81, berkeley, county, journal, reported, cody, wade, braithwaite, 32, winchester, virginia, charged, duo, death, fleeing, duo, prohibited, person, possession, firearm, fugitive, justice, berkeley, county, sheriff, curtis, keller, said, keller, said, deputy, investigating, call, reckless, driver, attempted, make, traffic, stop, suspect, vehicle, sped, hit, car, struck, guardrail, driver, car, pronounced, dead, scene, driver, name, immediately, released, suspect, vehicle, also, hit, deputy, cruiser, stopped, keller, said, braithwaite, held, without, bond, eastern, regional, jail, immediately, known, whether, braithwaite, ...]</td>\n",
       "      <td>[portauprince, haiti, haitian, president, jovenel, moïse, broke, tradition, wednesday, celebrated, country, independence, day, capital, security, reason, following, month, political, turmoil, moïse, whose, government, accused, corruption, denounced, graft, speech, national, palace, portauprince, urged, haiti, elite, work, government, help, create, employment, still, extremely, poor, said, continue, get, rich, find, normal, pay, tax, find, normal, competition, find, normal, set, price, consumer, especially, consumer, state, moïse, also, apologized, country, ongoing, power, outage, renewed, 2016, campaign, pledge, provide, electricity, 24, hour, day, saying, harder, accomplish, imagined, speech, marked, 216th, anniversary, world, first, black, republic, originally, slated, take, place, northern, coastal, town, gonaives, jeanjacques, dessalines, declared, ...]</td>\n",
       "      <td>0.082569</td>\n",
       "    </tr>\n",
       "  </tbody>\n",
       "</table>\n",
       "</div>"
      ],
      "text/plain": [
       "                 pair_id  \\\n",
       "0  1484084337_1484110209   \n",
       "\n",
       "                                                                                                                                                                                                                                                                                                                                                                                                                                                                                                                                                                                                                                                                                                                                                                                                                                                                                                                                                                                                                                                                                                                                                                                                                                                            doc1  \\\n",
       "0  MARTINSBURG, W.Va. — A suspected drunken driver was arrested in a New Year’s Day highway crash that killed another motorist in West Virginia, police said.\\n\\nThe accident occurred early Wednesday along southbound Interstate 81 in Berkeley County, The Journal reported.\\n\\nCody Wade Braithwaite, 32, of Winchester, Virginia, was charged with DUI with death, fleeing DUI, and being a prohibited person in possession of a firearm and a fugitive from justice, Berkeley County Sheriff Curtis Keller said.\\n\\nKeller said a deputy investigating calls about a reckless driver attempted to make a traffic stop, but the suspect’s vehicle sped up and hit a car, which then struck a guardrail. The driver of the car was pronounced dead at the scene. The driver’s name was not immediately released.\\n\\nThe suspect’s vehicle also hit a deputy’s cruiser before being stopped, Keller said.\\n\\nBraithwaite was being held without bond in the Eastern Regional Jail. It wasn’t immediately known whether Braithwaite has an attorney.\\n\\n___\\n\\nInformation from: The Journal, http://journal-news.net/\\n\\nCopyright 2020 The Associated Press. All rights reserved. This material may not be published, broadcast, rewritten or redistributed.   \n",
       "\n",
       "                                                                                                                                                                                                                                                                                                                                                                                                                                                                                                                                                                                                                                                                                                                                                                                                                                                                                                                                                                                                                                                                                                                                                                                                                                                                                                                                                                                                                                                                                                                                                                                                                                                                                                                                                                                                                                                                                                                                         doc2  \\\n",
       "0  PORT-AU-PRINCE, Haiti — Haitian President Jovenel Moïse broke with tradition on Wednesday and celebrated the country’s independence day in the capital for security reasons following months of political turmoil.\\n\\nMoïse, whose government has been accused of corruption, denounced graft during his speech at the National Palace in Port-au-Prince and urged Haiti’s elite to work with the government and help create employment.\\n\\n“We’re still extremely poor,” he said. “Those who continue to get rich find it normal that they do not pay taxes, find it normal that there can be no competition, find it normal that they set prices for consumers, especially when this consumer is the state itself.”\\n\\nMoïse also apologized for the country’s ongoing power outages and renewed his 2016 campaign pledge to provide electricity 24 hours a day, saying it was harder to accomplish than he imagined.\\n\\nThe speech that marked the 216th anniversary of the world’s first black republic was originally slated to take place in the northern coastal town of Gonaives, where Jean-Jacques Dessalines declared Haiti’s independence. But the town, like many others, was hit by violent protests that began in September amid anger over corruption, fuel shortages and dwindling food supplies as opposition leaders and supporters demanded the resignation of Moïse. More than 40 people have been killed and dozens injured.\\n\\nLarge-scale protests in Port-au-Prince have since dissipated, although smaller ones are still occurring elsewhere in the country. On Wednesday, opposition leaders and supporters gathered in Gonaives to attend the funeral of an anti-government protester and then carried his coffin through the streets as more protesters joined them.\\n\\nCopyright 2020 The Associated Press. All rights reserved. This material may not be published, broadcast, rewritten or redistributed.   \n",
       "\n",
       "   Overall  \\\n",
       "0  4.0       \n",
       "\n",
       "                                                                                                                                                                                                                                                                                                                                                                                                                                                                                                                                                                                                                                                                                                                                                                                                                                                                                                                                                                                                                                                                                                                                                                                                             clean_msg1  \\\n",
       "0  MARTINSBURG WVa  A suspected drunken driver was arrested in a New Year’s Day highway crash that killed another motorist in West Virginia police said\\n\\nThe accident occurred early Wednesday along southbound Interstate 81 in Berkeley County The Journal reported\\n\\nCody Wade Braithwaite 32 of Winchester Virginia was charged with DUI with death fleeing DUI and being a prohibited person in possession of a firearm and a fugitive from justice Berkeley County Sheriff Curtis Keller said\\n\\nKeller said a deputy investigating calls about a reckless driver attempted to make a traffic stop but the suspect’s vehicle sped up and hit a car which then struck a guardrail The driver of the car was pronounced dead at the scene The driver’s name was not immediately released\\n\\nThe suspect’s vehicle also hit a deputy’s cruiser before being stopped Keller said\\n\\nBraithwaite was being held without bond in the Eastern Regional Jail It wasn’t immediately known whether Braithwaite has an attorney\\n\\n\\n\\nInformation from The Journal httpjournalnewsnet\\n\\nCopyright 2020 The Associated Press All rights reserved This material may not be published broadcast rewritten or redistributed   \n",
       "\n",
       "                                                                                                                                                                                                                                                                                                                                                                                                                                                                                                                                                                                                                                                                                                                                                                                                                                                                                                                                                                                                                                                                                                                                                                                                                                                                                                                                                                                                                                                                                                                                                                                                                                                                                                                                                                                                                                                                                        clean_msg2  \\\n",
       "0  PORTAUPRINCE Haiti  Haitian President Jovenel Moïse broke with tradition on Wednesday and celebrated the country’s independence day in the capital for security reasons following months of political turmoil\\n\\nMoïse whose government has been accused of corruption denounced graft during his speech at the National Palace in PortauPrince and urged Haiti’s elite to work with the government and help create employment\\n\\nWe’re still extremely poor he said Those who continue to get rich find it normal that they do not pay taxes find it normal that there can be no competition find it normal that they set prices for consumers especially when this consumer is the state itself\\n\\nMoïse also apologized for the country’s ongoing power outages and renewed his 2016 campaign pledge to provide electricity 24 hours a day saying it was harder to accomplish than he imagined\\n\\nThe speech that marked the 216th anniversary of the world’s first black republic was originally slated to take place in the northern coastal town of Gonaives where JeanJacques Dessalines declared Haiti’s independence But the town like many others was hit by violent protests that began in September amid anger over corruption fuel shortages and dwindling food supplies as opposition leaders and supporters demanded the resignation of Moïse More than 40 people have been killed and dozens injured\\n\\nLargescale protests in PortauPrince have since dissipated although smaller ones are still occurring elsewhere in the country On Wednesday opposition leaders and supporters gathered in Gonaives to attend the funeral of an antigovernment protester and then carried his coffin through the streets as more protesters joined them\\n\\nCopyright 2020 The Associated Press All rights reserved This material may not be published broadcast rewritten or redistributed   \n",
       "\n",
       "                                                                                                                                                                                                                                                                                                                                                                                                                                                                                                                                                                                                                                                                                                                                                                                                                                                                                                                                                                                                                                                                                                                                                                                                             msg_lower1  \\\n",
       "0  martinsburg wva  a suspected drunken driver was arrested in a new year’s day highway crash that killed another motorist in west virginia police said\\n\\nthe accident occurred early wednesday along southbound interstate 81 in berkeley county the journal reported\\n\\ncody wade braithwaite 32 of winchester virginia was charged with dui with death fleeing dui and being a prohibited person in possession of a firearm and a fugitive from justice berkeley county sheriff curtis keller said\\n\\nkeller said a deputy investigating calls about a reckless driver attempted to make a traffic stop but the suspect’s vehicle sped up and hit a car which then struck a guardrail the driver of the car was pronounced dead at the scene the driver’s name was not immediately released\\n\\nthe suspect’s vehicle also hit a deputy’s cruiser before being stopped keller said\\n\\nbraithwaite was being held without bond in the eastern regional jail it wasn’t immediately known whether braithwaite has an attorney\\n\\n\\n\\ninformation from the journal httpjournalnewsnet\\n\\ncopyright 2020 the associated press all rights reserved this material may not be published broadcast rewritten or redistributed   \n",
       "\n",
       "                                                                                                                                                                                                                                                                                                                                                                                                                                                                                                                                                                                                                                                                                                                                                                                                                                                                                                                                                                                                                                                                                                                                                                                                                                                                                                                                                                                                                                                                                                                                                                                                                                                                                                                                                                                                                                                                                        msg_lower2  \\\n",
       "0  portauprince haiti  haitian president jovenel moïse broke with tradition on wednesday and celebrated the country’s independence day in the capital for security reasons following months of political turmoil\\n\\nmoïse whose government has been accused of corruption denounced graft during his speech at the national palace in portauprince and urged haiti’s elite to work with the government and help create employment\\n\\nwe’re still extremely poor he said those who continue to get rich find it normal that they do not pay taxes find it normal that there can be no competition find it normal that they set prices for consumers especially when this consumer is the state itself\\n\\nmoïse also apologized for the country’s ongoing power outages and renewed his 2016 campaign pledge to provide electricity 24 hours a day saying it was harder to accomplish than he imagined\\n\\nthe speech that marked the 216th anniversary of the world’s first black republic was originally slated to take place in the northern coastal town of gonaives where jeanjacques dessalines declared haiti’s independence but the town like many others was hit by violent protests that began in september amid anger over corruption fuel shortages and dwindling food supplies as opposition leaders and supporters demanded the resignation of moïse more than 40 people have been killed and dozens injured\\n\\nlargescale protests in portauprince have since dissipated although smaller ones are still occurring elsewhere in the country on wednesday opposition leaders and supporters gathered in gonaives to attend the funeral of an antigovernment protester and then carried his coffin through the streets as more protesters joined them\\n\\ncopyright 2020 the associated press all rights reserved this material may not be published broadcast rewritten or redistributed   \n",
       "\n",
       "                                                                                                                                                                                                                                                                                                                                                                                                                                                                                                                                                                                                                                                                                                                                msg_tokenized1  \\\n",
       "0  [martinsburg, wva, a, suspected, drunken, driver, was, arrested, in, a, new, year, ’, s, day, highway, crash, that, killed, another, motorist, in, west, virginia, police, said, the, accident, occurred, early, wednesday, along, southbound, interstate, 81, in, berkeley, county, the, journal, reported, cody, wade, braithwaite, 32, of, winchester, virginia, was, charged, with, dui, with, death, fleeing, dui, and, being, a, prohibited, person, in, possession, of, a, firearm, and, a, fugitive, from, justice, berkeley, county, sheriff, curtis, keller, said, keller, said, a, deputy, investigating, calls, about, a, reckless, driver, attempted, to, make, a, traffic, stop, but, the, suspect, ’, s, vehicle, sped, ...]   \n",
       "\n",
       "                                                                                                                                                                                                                                                                                                                                                                                                                                                                                                                                                                                                                                                                                                               msg_tokenized2  \\\n",
       "0  [portauprince, haiti, haitian, president, jovenel, moïse, broke, with, tradition, on, wednesday, and, celebrated, the, country, ’, s, independence, day, in, the, capital, for, security, reasons, following, months, of, political, turmoil, moïse, whose, government, has, been, accused, of, corruption, denounced, graft, during, his, speech, at, the, national, palace, in, portauprince, and, urged, haiti, ’, s, elite, to, work, with, the, government, and, help, create, employment, we, ’, re, still, extremely, poor, he, said, those, who, continue, to, get, rich, find, it, normal, that, they, do, not, pay, taxes, find, it, normal, that, there, can, be, no, competition, find, it, normal, that, ...]   \n",
       "\n",
       "                                                                                                                                                                                                                                                                                                                                                                                                                                                                                                                                                                                                                                                                                                                                                                                                                                                                     no_stopwords1  \\\n",
       "0  [martinsburg, wva, suspected, drunken, driver, arrested, new, year, day, highway, crash, killed, another, motorist, west, virginia, police, said, accident, occurred, early, wednesday, along, southbound, interstate, 81, berkeley, county, journal, reported, cody, wade, braithwaite, 32, winchester, virginia, charged, dui, death, fleeing, dui, prohibited, person, possession, firearm, fugitive, justice, berkeley, county, sheriff, curtis, keller, said, keller, said, deputy, investigating, calls, reckless, driver, attempted, make, traffic, stop, suspect, vehicle, sped, hit, car, struck, guardrail, driver, car, pronounced, dead, scene, driver, name, immediately, released, suspect, vehicle, also, hit, deputy, cruiser, stopped, keller, said, braithwaite, held, without, bond, eastern, regional, jail, immediately, known, whether, braithwaite, ...]   \n",
       "\n",
       "                                                                                                                                                                                                                                                                                                                                                                                                                                                                                                                                                                                                                                                                                                                                                                                                                                                                                                   no_stopwords2  \\\n",
       "0  [portauprince, haiti, haitian, president, jovenel, moïse, broke, tradition, wednesday, celebrated, country, independence, day, capital, security, reasons, following, months, political, turmoil, moïse, whose, government, accused, corruption, denounced, graft, speech, national, palace, portauprince, urged, haiti, elite, work, government, help, create, employment, still, extremely, poor, said, continue, get, rich, find, normal, pay, taxes, find, normal, competition, find, normal, set, prices, consumers, especially, consumer, state, moïse, also, apologized, country, ongoing, power, outages, renewed, 2016, campaign, pledge, provide, electricity, 24, hours, day, saying, harder, accomplish, imagined, speech, marked, 216th, anniversary, world, first, black, republic, originally, slated, take, place, northern, coastal, town, gonaives, jeanjacques, dessalines, declared, ...]   \n",
       "\n",
       "                                                                                                                                                                                                                                                                                                                                                                                                                                                                                                                                                                                                                                                                                                                                                                                                 msg_stemmed1  \\\n",
       "0  [martinsburg, wva, suspect, drunken, driver, arrest, new, year, day, highway, crash, kill, anoth, motorist, west, virginia, polic, said, accid, occur, earli, wednesday, along, southbound, interst, 81, berkeley, counti, journal, report, codi, wade, braithwait, 32, winchest, virginia, charg, dui, death, flee, dui, prohibit, person, possess, firearm, fugit, justic, berkeley, counti, sheriff, curti, keller, said, keller, said, deputi, investig, call, reckless, driver, attempt, make, traffic, stop, suspect, vehicl, sped, hit, car, struck, guardrail, driver, car, pronounc, dead, scene, driver, name, immedi, releas, suspect, vehicl, also, hit, deputi, cruiser, stop, keller, said, braithwait, held, without, bond, eastern, region, jail, immedi, known, whether, braithwait, ...]   \n",
       "\n",
       "                                                                                                                                                                                                                                                                                                                                                                                                                                                                                                                                                                                                                                                                                                                                                                             msg_stemmed2  \\\n",
       "0  [portauprinc, haiti, haitian, presid, jovenel, moïs, broke, tradit, wednesday, celebr, countri, independ, day, capit, secur, reason, follow, month, polit, turmoil, moïs, whose, govern, accus, corrupt, denounc, graft, speech, nation, palac, portauprinc, urg, haiti, elit, work, govern, help, creat, employ, still, extrem, poor, said, continu, get, rich, find, normal, pay, tax, find, normal, competit, find, normal, set, price, consum, especi, consum, state, moïs, also, apolog, countri, ongo, power, outag, renew, 2016, campaign, pledg, provid, electr, 24, hour, day, say, harder, accomplish, imagin, speech, mark, 216th, anniversari, world, first, black, republ, origin, slate, take, place, northern, coastal, town, gonaiv, jeanjacqu, dessalin, declar, ...]   \n",
       "\n",
       "                                                                                                                                                                                                                                                                                                                                                                                                                                                                                                                                                                                                                                                                                                                                                                                                                                                                  msg_lemmatized1  \\\n",
       "0  [martinsburg, wva, suspected, drunken, driver, arrested, new, year, day, highway, crash, killed, another, motorist, west, virginia, police, said, accident, occurred, early, wednesday, along, southbound, interstate, 81, berkeley, county, journal, reported, cody, wade, braithwaite, 32, winchester, virginia, charged, duo, death, fleeing, duo, prohibited, person, possession, firearm, fugitive, justice, berkeley, county, sheriff, curtis, keller, said, keller, said, deputy, investigating, call, reckless, driver, attempted, make, traffic, stop, suspect, vehicle, sped, hit, car, struck, guardrail, driver, car, pronounced, dead, scene, driver, name, immediately, released, suspect, vehicle, also, hit, deputy, cruiser, stopped, keller, said, braithwaite, held, without, bond, eastern, regional, jail, immediately, known, whether, braithwaite, ...]   \n",
       "\n",
       "                                                                                                                                                                                                                                                                                                                                                                                                                                                                                                                                                                                                                                                                                                                                                                                                                                                                                         msg_lemmatized2  \\\n",
       "0  [portauprince, haiti, haitian, president, jovenel, moïse, broke, tradition, wednesday, celebrated, country, independence, day, capital, security, reason, following, month, political, turmoil, moïse, whose, government, accused, corruption, denounced, graft, speech, national, palace, portauprince, urged, haiti, elite, work, government, help, create, employment, still, extremely, poor, said, continue, get, rich, find, normal, pay, tax, find, normal, competition, find, normal, set, price, consumer, especially, consumer, state, moïse, also, apologized, country, ongoing, power, outage, renewed, 2016, campaign, pledge, provide, electricity, 24, hour, day, saying, harder, accomplish, imagined, speech, marked, 216th, anniversary, world, first, black, republic, originally, slated, take, place, northern, coastal, town, gonaives, jeanjacques, dessalines, declared, ...]   \n",
       "\n",
       "    jaccard  \n",
       "0  0.082569  "
      ]
     },
     "execution_count": 20,
     "metadata": {},
     "output_type": "execute_result"
    }
   ],
   "source": [
    "dfText.head(1)"
   ]
  },
  {
   "cell_type": "code",
   "execution_count": 21,
   "metadata": {},
   "outputs": [],
   "source": [
    "def process_tfidf_similarity():\n",
    "\tvectorizer = TfidfVectorizer()\n",
    "\n",
    "\t# To make uniformed vectors, both documents need to be combined first.\n",
    "\tdocuments.insert(0, base_document)\n",
    "\tembeddings = vectorizer.fit_transform(documents)\n",
    "\n",
    "\tcosine_similarities = cosine_similarity(embeddings[0:1], embeddings[1:]).flatten()"
   ]
  },
  {
   "cell_type": "code",
   "execution_count": 22,
   "metadata": {},
   "outputs": [],
   "source": [
    "lista_doc = []\n",
    "lista_doc.append(' '.join(dfText['no_stopwords1'][4]))\n",
    "lista_doc.append(' '.join(dfText['no_stopwords2'][4]))\n",
    "#lista_doc.append(' '.join(dfText['no_stopwords1'][0]))\n",
    "#lista_doc.append(' '.join(dfText['no_stopwords2'][0]))\n",
    "#lista_doc.append(dfText['msg_lower1'][1])\n",
    "#lista_doc.append(dfText['msg_lower2'][1])\n",
    "#lista_doc.append(dfText['msg_lower1'][0])\n"
   ]
  },
  {
   "cell_type": "code",
   "execution_count": 23,
   "metadata": {},
   "outputs": [],
   "source": [
    "lista_doc = []\n",
    "lista_doc.append(' '.join(dfText['msg_lemmatized1'][4]))\n",
    "lista_doc.append(' '.join(dfText['msg_lemmatized2'][4]))\n",
    "lista_doc.append(' '.join(dfText['msg_lemmatized1'][1]))\n",
    "lista_doc.append(' '.join(dfText['msg_lemmatized2'][1]))\n",
    "#lista_doc.append(' '.join(dfText['msg_lemmatized1'][2]))\n",
    "#lista_doc.append(dfText['msg_lower1'][1])\n",
    "#lista_doc.append(dfText['msg_lower2'][1])\n",
    "#lista_doc.append(dfText['msg_lower1'][0])\n"
   ]
  },
  {
   "cell_type": "code",
   "execution_count": 24,
   "metadata": {},
   "outputs": [],
   "source": [
    "lista_doc = []\n",
    "lista_doc.append(' '.join(dfText['msg_stemmed1'][4]))\n",
    "lista_doc.append(' '.join(dfText['msg_stemmed2'][4]))\n",
    "lista_doc.append(' '.join(dfText['msg_stemmed1'][1]))\n",
    "lista_doc.append(' '.join(dfText['msg_stemmed2'][1]))"
   ]
  },
  {
   "cell_type": "code",
   "execution_count": 25,
   "metadata": {},
   "outputs": [],
   "source": [
    "documents = lista_doc\n",
    "tfidf = TfidfVectorizer().fit_transform(documents)\n",
    "# no need to normalize, since Vectorizer will return normalized tf-idf\n",
    "pairwise_similarity = tfidf * tfidf.T\n"
   ]
  },
  {
   "cell_type": "code",
   "execution_count": 26,
   "metadata": {},
   "outputs": [
    {
     "data": {
      "text/plain": [
       "array([[1.        , 0.4431749 , 0.02683934, 0.07125562],\n",
       "       [0.4431749 , 1.        , 0.01700037, 0.09405446],\n",
       "       [0.02683934, 0.01700037, 1.        , 0.04634662],\n",
       "       [0.07125562, 0.09405446, 0.04634662, 1.        ]])"
      ]
     },
     "execution_count": 26,
     "metadata": {},
     "output_type": "execute_result"
    }
   ],
   "source": [
    "pairwise_similarity.toarray()"
   ]
  },
  {
   "cell_type": "code",
   "execution_count": 27,
   "metadata": {},
   "outputs": [
    {
     "data": {
      "text/plain": [
       "(4, 457)"
      ]
     },
     "execution_count": 27,
     "metadata": {},
     "output_type": "execute_result"
    }
   ],
   "source": [
    "tfidf.shape"
   ]
  },
  {
   "cell_type": "code",
   "execution_count": 28,
   "metadata": {},
   "outputs": [],
   "source": [
    "cosine_similarities = cosine_similarity(tfidf[0:1], tfidf[1:]).flatten()"
   ]
  },
  {
   "cell_type": "code",
   "execution_count": 29,
   "metadata": {},
   "outputs": [
    {
     "data": {
      "text/plain": [
       "array([0.4431749 , 0.02683934, 0.07125562])"
      ]
     },
     "execution_count": 29,
     "metadata": {},
     "output_type": "execute_result"
    }
   ],
   "source": [
    "cosine_similarities"
   ]
  },
  {
   "cell_type": "code",
   "execution_count": 30,
   "metadata": {},
   "outputs": [
    {
     "data": {
      "text/plain": [
       "'BENGALURU (Reuters) - India has approved its third lunar mission months after its last one failed to successfully land on the moon, its space agency said on Wednesday, the latest effort in its ambitions to become a low-cost space power.\\n\\nThe Chandrayaan-3 mission will have a lander and a rover, but not an orbiter, Indian Space Research Organisation (ISRO) Chairman K. Sivan told reporters at its headquarters in Bengaluru, according to an official telecast.\\n\\nThe Chandrayaan-2 mission in September successfully deployed a lunar orbiter that relays scientific data back to earth, but was unable to place a rover on the lunar surface after a \"hard\" landing.\\n\\nThat mission had aimed to land on the south pole of the moon, where no other lunar mission had gone before. The region is believed to contain water as craters in the region are largely unaffected by the high temperatures of the sun.\\n\\nISRO had hoped to confirm the presence of water in the form of ice, first detected on its mission in 2008.\\n\\nChandrayaan-3 will have a \"similar configuration\" as the previous mission, Sivan said.\\n\\nOnly the United States, Russia and China have landed on the moon. Beijing\\'s Chang\\'e-4 probe touched down on the far side of the moon last year, while Israel made an unsuccessful attempt to land its Beresheet spacecraft on the moon in April 2019.\\n\\nIndia\\'s third lunar mission will likely launch in 2020 and will cost less than its previous mission, the PTI news agency reported on Tuesday, citing Jitendra Singh, junior minister for the department of space.\\n\\nSivan also said ISRO was making \"good progress\" for its human space-flight mission slated for late 2021, adding that four astronauts had been picked for training, which will be planned later this month. The project, called Gaganyaan, would cost less than 100 billion rupees ($1.4 billion), the government said in 2018.\\n\\nIndia has developed a reputation for pioneering affordable satellite launches and space missions. Its unmanned Mars mission in 2014 cost just $74 million, less than the budget of the Hollywood space blockbuster \"Gravity\".\\n\\nSivan also announced that ISRO had begun the land acquisition process for a second spaceport in the southern port city of Thoothukudi in Tamil Nadu state.\\n\\n\\n\\n\\n\\n(Reporting by Sachin Ravikumar; Editing by Kim Coghill)'"
      ]
     },
     "execution_count": 30,
     "metadata": {},
     "output_type": "execute_result"
    }
   ],
   "source": [
    "dfText['doc1'][4]"
   ]
  },
  {
   "cell_type": "code",
   "execution_count": 31,
   "metadata": {},
   "outputs": [
    {
     "data": {
      "text/plain": [
       "'BANGALORE: India plans to make a fresh attempt to land an unmanned mission on the moon in 2020 after a failed bid last year, the head of the country\\'s space programme said on Wednesday (Jan 1).\\n\\nWork is going \"smoothly\" on the Chandrayaan-3 mission to put a rover probe on the moon\\'s surface, Indian Space Research Organisation chairman K. Sivan told a press conference.\\n\\nAdvertisement\\n\\nAdvertisement\\n\\n\"We are targeting the launch for this year but it may spillover to next year,\" Sivan said. Indian sources said authorities had set November as a provisional target for launch.\\n\\nIndia seeking to become only the fourth nation after Russia, the United States and China to put a mission on the moon\\'s surface and boost its credentials as a low-cost space power.\\n\\nThe country\\'s Chandrayaan-2 module crash-landed on the moon\\'s surface in September.\\n\\nSivan said the new propulsion module, lander and surface rover would cost about US$35 million, with a significantly higher outlay for the launch itself.\\n\\nAdvertisement\\n\\nAdvertisement\\n\\nHe added that India had chosen four candidate astronauts to take part in the country\\'s first manned mission into orbit, pledged to take place by mid-2022.\\n\\nThe four are to start training in Russia later this month. Up to three astronauts are to take part in the mission, which will be one of the landmark projects scheduled for the 75th anniversary of India\\'s independence from British rule.'"
      ]
     },
     "execution_count": 31,
     "metadata": {},
     "output_type": "execute_result"
    }
   ],
   "source": [
    "dfText['doc2'][4]"
   ]
  },
  {
   "cell_type": "markdown",
   "metadata": {},
   "source": [
    "### doc2vec (https://medium.com/red-buffer/doc2vec-computing-similarity-between-the-documents-47daf6c828cd)"
   ]
  },
  {
   "cell_type": "code",
   "execution_count": 32,
   "metadata": {},
   "outputs": [],
   "source": [
    "import gensim\n",
    "from gensim.models.doc2vec import Doc2Vec, TaggedDocument\n",
    "from nltk.tokenize import word_tokenize\n",
    "from gensim.models.doc2vec import Doc2Vec\n",
    "from scipy import spatial"
   ]
  },
  {
   "cell_type": "code",
   "execution_count": 33,
   "metadata": {},
   "outputs": [],
   "source": [
    "data = []\n",
    "for i in range(0,len(dfText)):\n",
    "   data.append(' '.join(dfText['no_stopwords1'][i]))\n",
    "   data.append(' '.join(dfText['no_stopwords2'][i]))\n",
    "\n",
    "data = list(set(data))"
   ]
  },
  {
   "cell_type": "code",
   "execution_count": 34,
   "metadata": {},
   "outputs": [],
   "source": [
    "# data = []\n",
    "# for i in range(0,len(dfText)):\n",
    "#     data.append(' '.join(dfText['msg_lemmatized1'][i]))\n",
    "#     data.append(' '.join(dfText['msg_lemmatized2'][i]))\n",
    "\n",
    "# data = list(set(data))"
   ]
  },
  {
   "cell_type": "code",
   "execution_count": 35,
   "metadata": {},
   "outputs": [],
   "source": [
    "tagged_data = [TaggedDocument(words=word_tokenize(_d.lower()), tags=[str(i)]) for i, _d in enumerate(data)] "
   ]
  },
  {
   "cell_type": "code",
   "execution_count": 36,
   "metadata": {},
   "outputs": [],
   "source": [
    "model = gensim.models.doc2vec.Doc2Vec(vector_size=30, min_count=0, epochs=80)"
   ]
  },
  {
   "cell_type": "code",
   "execution_count": 37,
   "metadata": {},
   "outputs": [],
   "source": [
    "model.build_vocab(tagged_data)"
   ]
  },
  {
   "cell_type": "code",
   "execution_count": 38,
   "metadata": {},
   "outputs": [],
   "source": [
    "model.train(tagged_data, total_examples=model.corpus_count, epochs=80)"
   ]
  },
  {
   "cell_type": "code",
   "execution_count": 39,
   "metadata": {},
   "outputs": [],
   "source": [
    "model.save(\"d2v.model\")"
   ]
  },
  {
   "cell_type": "code",
   "execution_count": 40,
   "metadata": {},
   "outputs": [],
   "source": [
    "model = Doc2Vec.load(\"d2v.model\")"
   ]
  },
  {
   "cell_type": "code",
   "execution_count": 41,
   "metadata": {},
   "outputs": [],
   "source": [
    "def doc2vec_cos(doc1, doc2):\n",
    "    infer1 = model.infer_vector(doc1)\n",
    "    infer2 = model.infer_vector(doc2)\n",
    "    #cos_distance = spatial.distance.cosine(infer1, infer2) #pode ser >1\n",
    "    cos_similarity = 1-spatial.distance.cosine(infer1, infer2) #de 0 a 1\n",
    "    return cos_similarity\n"
   ]
  },
  {
   "cell_type": "code",
   "execution_count": 42,
   "metadata": {},
   "outputs": [],
   "source": [
    "dfText['doc2vec'] = dfText.apply(lambda row: doc2vec_cos(row['msg_tokenized1'], row['msg_tokenized2']), axis=1)"
   ]
  },
  {
   "cell_type": "code",
   "execution_count": 43,
   "metadata": {},
   "outputs": [
    {
     "data": {
      "text/html": [
       "<div>\n",
       "<style scoped>\n",
       "    .dataframe tbody tr th:only-of-type {\n",
       "        vertical-align: middle;\n",
       "    }\n",
       "\n",
       "    .dataframe tbody tr th {\n",
       "        vertical-align: top;\n",
       "    }\n",
       "\n",
       "    .dataframe thead th {\n",
       "        text-align: right;\n",
       "    }\n",
       "</style>\n",
       "<table border=\"1\" class=\"dataframe\">\n",
       "  <thead>\n",
       "    <tr style=\"text-align: right;\">\n",
       "      <th></th>\n",
       "      <th>doc2vec</th>\n",
       "      <th>Overall</th>\n",
       "    </tr>\n",
       "  </thead>\n",
       "  <tbody>\n",
       "    <tr>\n",
       "      <th>0</th>\n",
       "      <td>0.235146</td>\n",
       "      <td>4.000000</td>\n",
       "    </tr>\n",
       "    <tr>\n",
       "      <th>1</th>\n",
       "      <td>0.264588</td>\n",
       "      <td>3.666667</td>\n",
       "    </tr>\n",
       "    <tr>\n",
       "      <th>2</th>\n",
       "      <td>0.727112</td>\n",
       "      <td>2.333333</td>\n",
       "    </tr>\n",
       "    <tr>\n",
       "      <th>3</th>\n",
       "      <td>0.728685</td>\n",
       "      <td>2.000000</td>\n",
       "    </tr>\n",
       "    <tr>\n",
       "      <th>4</th>\n",
       "      <td>0.823217</td>\n",
       "      <td>1.250000</td>\n",
       "    </tr>\n",
       "    <tr>\n",
       "      <th>5</th>\n",
       "      <td>0.870662</td>\n",
       "      <td>2.000000</td>\n",
       "    </tr>\n",
       "    <tr>\n",
       "      <th>6</th>\n",
       "      <td>0.599942</td>\n",
       "      <td>3.666667</td>\n",
       "    </tr>\n",
       "    <tr>\n",
       "      <th>7</th>\n",
       "      <td>0.218207</td>\n",
       "      <td>3.333333</td>\n",
       "    </tr>\n",
       "    <tr>\n",
       "      <th>8</th>\n",
       "      <td>0.462535</td>\n",
       "      <td>3.333333</td>\n",
       "    </tr>\n",
       "    <tr>\n",
       "      <th>9</th>\n",
       "      <td>0.524987</td>\n",
       "      <td>2.666667</td>\n",
       "    </tr>\n",
       "    <tr>\n",
       "      <th>10</th>\n",
       "      <td>0.469191</td>\n",
       "      <td>3.666667</td>\n",
       "    </tr>\n",
       "    <tr>\n",
       "      <th>11</th>\n",
       "      <td>0.262362</td>\n",
       "      <td>4.000000</td>\n",
       "    </tr>\n",
       "    <tr>\n",
       "      <th>12</th>\n",
       "      <td>0.234019</td>\n",
       "      <td>3.666667</td>\n",
       "    </tr>\n",
       "    <tr>\n",
       "      <th>13</th>\n",
       "      <td>0.620253</td>\n",
       "      <td>3.500000</td>\n",
       "    </tr>\n",
       "    <tr>\n",
       "      <th>14</th>\n",
       "      <td>0.374231</td>\n",
       "      <td>3.666667</td>\n",
       "    </tr>\n",
       "    <tr>\n",
       "      <th>15</th>\n",
       "      <td>0.309108</td>\n",
       "      <td>4.000000</td>\n",
       "    </tr>\n",
       "    <tr>\n",
       "      <th>16</th>\n",
       "      <td>0.621837</td>\n",
       "      <td>2.333333</td>\n",
       "    </tr>\n",
       "    <tr>\n",
       "      <th>17</th>\n",
       "      <td>0.411945</td>\n",
       "      <td>4.000000</td>\n",
       "    </tr>\n",
       "    <tr>\n",
       "      <th>18</th>\n",
       "      <td>0.763639</td>\n",
       "      <td>1.000000</td>\n",
       "    </tr>\n",
       "    <tr>\n",
       "      <th>19</th>\n",
       "      <td>0.272598</td>\n",
       "      <td>4.000000</td>\n",
       "    </tr>\n",
       "  </tbody>\n",
       "</table>\n",
       "</div>"
      ],
      "text/plain": [
       "     doc2vec   Overall\n",
       "0   0.235146  4.000000\n",
       "1   0.264588  3.666667\n",
       "2   0.727112  2.333333\n",
       "3   0.728685  2.000000\n",
       "4   0.823217  1.250000\n",
       "5   0.870662  2.000000\n",
       "6   0.599942  3.666667\n",
       "7   0.218207  3.333333\n",
       "8   0.462535  3.333333\n",
       "9   0.524987  2.666667\n",
       "10  0.469191  3.666667\n",
       "11  0.262362  4.000000\n",
       "12  0.234019  3.666667\n",
       "13  0.620253  3.500000\n",
       "14  0.374231  3.666667\n",
       "15  0.309108  4.000000\n",
       "16  0.621837  2.333333\n",
       "17  0.411945  4.000000\n",
       "18  0.763639  1.000000\n",
       "19  0.272598  4.000000"
      ]
     },
     "execution_count": 43,
     "metadata": {},
     "output_type": "execute_result"
    }
   ],
   "source": [
    "dfText[['doc2vec', 'Overall']].head(20)"
   ]
  },
  {
   "cell_type": "code",
   "execution_count": 44,
   "metadata": {},
   "outputs": [
    {
     "data": {
      "text/html": [
       "<div>\n",
       "<style scoped>\n",
       "    .dataframe tbody tr th:only-of-type {\n",
       "        vertical-align: middle;\n",
       "    }\n",
       "\n",
       "    .dataframe tbody tr th {\n",
       "        vertical-align: top;\n",
       "    }\n",
       "\n",
       "    .dataframe thead th {\n",
       "        text-align: right;\n",
       "    }\n",
       "</style>\n",
       "<table border=\"1\" class=\"dataframe\">\n",
       "  <thead>\n",
       "    <tr style=\"text-align: right;\">\n",
       "      <th></th>\n",
       "      <th>Overall</th>\n",
       "      <th>jaccard</th>\n",
       "      <th>doc2vec</th>\n",
       "    </tr>\n",
       "  </thead>\n",
       "  <tbody>\n",
       "    <tr>\n",
       "      <th>count</th>\n",
       "      <td>1357.000000</td>\n",
       "      <td>1357.000000</td>\n",
       "      <td>1357.000000</td>\n",
       "    </tr>\n",
       "    <tr>\n",
       "      <th>mean</th>\n",
       "      <td>2.995453</td>\n",
       "      <td>0.094688</td>\n",
       "      <td>0.546208</td>\n",
       "    </tr>\n",
       "    <tr>\n",
       "      <th>std</th>\n",
       "      <td>1.058941</td>\n",
       "      <td>0.079857</td>\n",
       "      <td>0.235767</td>\n",
       "    </tr>\n",
       "    <tr>\n",
       "      <th>min</th>\n",
       "      <td>1.000000</td>\n",
       "      <td>0.000000</td>\n",
       "      <td>-0.095423</td>\n",
       "    </tr>\n",
       "    <tr>\n",
       "      <th>25%</th>\n",
       "      <td>2.000000</td>\n",
       "      <td>0.040100</td>\n",
       "      <td>0.355818</td>\n",
       "    </tr>\n",
       "    <tr>\n",
       "      <th>50%</th>\n",
       "      <td>3.333333</td>\n",
       "      <td>0.070588</td>\n",
       "      <td>0.547663</td>\n",
       "    </tr>\n",
       "    <tr>\n",
       "      <th>75%</th>\n",
       "      <td>4.000000</td>\n",
       "      <td>0.138211</td>\n",
       "      <td>0.754609</td>\n",
       "    </tr>\n",
       "    <tr>\n",
       "      <th>max</th>\n",
       "      <td>4.000000</td>\n",
       "      <td>1.000000</td>\n",
       "      <td>0.999413</td>\n",
       "    </tr>\n",
       "  </tbody>\n",
       "</table>\n",
       "</div>"
      ],
      "text/plain": [
       "           Overall      jaccard      doc2vec\n",
       "count  1357.000000  1357.000000  1357.000000\n",
       "mean   2.995453     0.094688     0.546208   \n",
       "std    1.058941     0.079857     0.235767   \n",
       "min    1.000000     0.000000    -0.095423   \n",
       "25%    2.000000     0.040100     0.355818   \n",
       "50%    3.333333     0.070588     0.547663   \n",
       "75%    4.000000     0.138211     0.754609   \n",
       "max    4.000000     1.000000     0.999413   "
      ]
     },
     "execution_count": 44,
     "metadata": {},
     "output_type": "execute_result"
    }
   ],
   "source": [
    "dfText.describe()"
   ]
  },
  {
   "cell_type": "code",
   "execution_count": 45,
   "metadata": {},
   "outputs": [],
   "source": [
    "### Proximos passos: definir pipeline, aplicar o metodo para no_stopwords, msg_lemmatized e msg_stemmed.\n",
    "### Para verificar qual é o melhor método podemos colocar o Overall na mesma escala (0 a 1?) e comparar utilizando\n",
    "### Alguma métrica\n",
    "## obs: ver tbm se esta utilizando CBOW ou..."
   ]
  },
  {
   "cell_type": "code",
   "execution_count": 46,
   "metadata": {},
   "outputs": [],
   "source": [
    "# dfText[dfText['doc2vec']<0][['Overall', 'jaccard', 'doc2vec', 'pair_id']]\n",
    "#dfText[['Overall', 'jaccard', 'doc2vec', 'pair_id']]"
   ]
  },
  {
   "cell_type": "code",
   "execution_count": 47,
   "metadata": {},
   "outputs": [
    {
     "data": {
      "text/plain": [
       "array([[<AxesSubplot:title={'center':'Overall'}>]], dtype=object)"
      ]
     },
     "execution_count": 47,
     "metadata": {},
     "output_type": "execute_result"
    },
    {
     "data": {
      "image/png": "[encoded data removed]",
      "text/plain": [
       "<Figure size 432x288 with 1 Axes>"
      ]
     },
     "metadata": {
      "needs_background": "light"
     },
     "output_type": "display_data"
    }
   ],
   "source": [
    "dfText.hist('Overall')"
   ]
  },
  {
   "cell_type": "markdown",
   "metadata": {},
   "source": [
    "Plotting scatterplot overall vs doc2vec"
   ]
  },
  {
   "cell_type": "code",
   "execution_count": 48,
   "metadata": {},
   "outputs": [
    {
     "data": {
      "text/plain": [
       "<AxesSubplot:xlabel='Overall', ylabel='doc2vec'>"
      ]
     },
     "execution_count": 48,
     "metadata": {},
     "output_type": "execute_result"
    },
    {
     "data": {
      "image/png": "[encoded data removed]",
      "text/plain": [
       "<Figure size 432x288 with 1 Axes>"
      ]
     },
     "metadata": {
      "needs_background": "light"
     },
     "output_type": "display_data"
    }
   ],
   "source": [
    "import seaborn as sns\n",
    "sns.scatterplot(data=dfText, x=\"Overall\", y=\"doc2vec\")"
   ]
  },
  {
   "cell_type": "markdown",
   "metadata": {},
   "source": [
    "## BERT"
   ]
  },
  {
   "cell_type": "code",
   "execution_count": 49,
   "metadata": {},
   "outputs": [],
   "source": [
    "sentences = [\n",
    "    \"Three years later, the coffin was still full of Jello.\",\n",
    "    \"The fish dreamed of escaping the fishbowl and into the toilet where he saw his friend go.\",\n",
    "    \"The person box was packed with jelly many dozens of months later.\",\n",
    "    \"He found a leprechaun in his walnut shell.\"\n",
    "]"
   ]
  },
  {
   "cell_type": "code",
   "execution_count": 50,
   "metadata": {},
   "outputs": [],
   "source": [
    "from sentence_transformers import SentenceTransformer\n",
    "\n",
    "#Inicializando o modelo\n",
    "# model = SentenceTransformer('sentence-transformers/all-mpnet-base-v2')\n",
    "model = SentenceTransformer('sentence-transformers/all-MiniLM-L6-v2')"
   ]
  },
  {
   "cell_type": "code",
   "execution_count": 51,
   "metadata": {},
   "outputs": [],
   "source": [
    "#Codificando as sentencas --> Transformando para espaço vetorial\n",
    "# sentence_embeddings = model.encode(data)"
   ]
  },
  {
   "cell_type": "code",
   "execution_count": 52,
   "metadata": {},
   "outputs": [],
   "source": [
    "from sklearn.metrics.pairwise import cosine_similarity"
   ]
  },
  {
   "cell_type": "code",
   "execution_count": 53,
   "metadata": {},
   "outputs": [],
   "source": [
    "def bert_cos(doc1, doc2):\n",
    "    data = [doc1,doc2]\n",
    "    sentence_embeddings = model.encode(data)\n",
    "\n",
    "    infer1 = sentence_embeddings[0]\n",
    "    infer2 =  sentence_embeddings[1]\n",
    "    #cos_distance = spatial.distance.cosine(infer1, infer2) #pode ser >1\n",
    "    cos_similarity = 1-spatial.distance.cosine(infer1, infer2) #de 0 a 1\n",
    "    return cos_similarity\n"
   ]
  },
  {
   "cell_type": "code",
   "execution_count": 54,
   "metadata": {},
   "outputs": [],
   "source": [
    "dfText['bert'] = dfText.apply(lambda row: bert_cos(\" \".join(row['no_stopwords1']), \" \".join(row['no_stopwords2'])), axis=1)\n",
    "\n",
    "# dfText['bert2'] = dfText.iloc[:200].apply(lambda row: bert_cos(\" \".join(row['no_stopwords1']), \" \".join(row['no_stopwords2'])), axis=1)"
   ]
  },
  {
   "cell_type": "code",
   "execution_count": 55,
   "metadata": {},
   "outputs": [
    {
     "data": {
      "text/html": [
       "<div>\n",
       "<style scoped>\n",
       "    .dataframe tbody tr th:only-of-type {\n",
       "        vertical-align: middle;\n",
       "    }\n",
       "\n",
       "    .dataframe tbody tr th {\n",
       "        vertical-align: top;\n",
       "    }\n",
       "\n",
       "    .dataframe thead th {\n",
       "        text-align: right;\n",
       "    }\n",
       "</style>\n",
       "<table border=\"1\" class=\"dataframe\">\n",
       "  <thead>\n",
       "    <tr style=\"text-align: right;\">\n",
       "      <th></th>\n",
       "      <th>bert</th>\n",
       "      <th>Overall</th>\n",
       "    </tr>\n",
       "  </thead>\n",
       "  <tbody>\n",
       "    <tr>\n",
       "      <th>0</th>\n",
       "      <td>0.135753</td>\n",
       "      <td>4.000000</td>\n",
       "    </tr>\n",
       "    <tr>\n",
       "      <th>1</th>\n",
       "      <td>0.170077</td>\n",
       "      <td>3.666667</td>\n",
       "    </tr>\n",
       "    <tr>\n",
       "      <th>2</th>\n",
       "      <td>0.475314</td>\n",
       "      <td>2.333333</td>\n",
       "    </tr>\n",
       "    <tr>\n",
       "      <th>3</th>\n",
       "      <td>0.804728</td>\n",
       "      <td>2.000000</td>\n",
       "    </tr>\n",
       "    <tr>\n",
       "      <th>4</th>\n",
       "      <td>0.847097</td>\n",
       "      <td>1.250000</td>\n",
       "    </tr>\n",
       "    <tr>\n",
       "      <th>5</th>\n",
       "      <td>0.755826</td>\n",
       "      <td>2.000000</td>\n",
       "    </tr>\n",
       "    <tr>\n",
       "      <th>6</th>\n",
       "      <td>0.172354</td>\n",
       "      <td>3.666667</td>\n",
       "    </tr>\n",
       "    <tr>\n",
       "      <th>7</th>\n",
       "      <td>0.354224</td>\n",
       "      <td>3.333333</td>\n",
       "    </tr>\n",
       "    <tr>\n",
       "      <th>8</th>\n",
       "      <td>0.559885</td>\n",
       "      <td>3.333333</td>\n",
       "    </tr>\n",
       "    <tr>\n",
       "      <th>9</th>\n",
       "      <td>0.066099</td>\n",
       "      <td>2.666667</td>\n",
       "    </tr>\n",
       "    <tr>\n",
       "      <th>10</th>\n",
       "      <td>0.473220</td>\n",
       "      <td>3.666667</td>\n",
       "    </tr>\n",
       "    <tr>\n",
       "      <th>11</th>\n",
       "      <td>0.044606</td>\n",
       "      <td>4.000000</td>\n",
       "    </tr>\n",
       "    <tr>\n",
       "      <th>12</th>\n",
       "      <td>0.104879</td>\n",
       "      <td>3.666667</td>\n",
       "    </tr>\n",
       "    <tr>\n",
       "      <th>13</th>\n",
       "      <td>0.395594</td>\n",
       "      <td>3.500000</td>\n",
       "    </tr>\n",
       "    <tr>\n",
       "      <th>14</th>\n",
       "      <td>0.378145</td>\n",
       "      <td>3.666667</td>\n",
       "    </tr>\n",
       "    <tr>\n",
       "      <th>15</th>\n",
       "      <td>0.087341</td>\n",
       "      <td>4.000000</td>\n",
       "    </tr>\n",
       "    <tr>\n",
       "      <th>16</th>\n",
       "      <td>0.425315</td>\n",
       "      <td>2.333333</td>\n",
       "    </tr>\n",
       "    <tr>\n",
       "      <th>17</th>\n",
       "      <td>0.180682</td>\n",
       "      <td>4.000000</td>\n",
       "    </tr>\n",
       "    <tr>\n",
       "      <th>18</th>\n",
       "      <td>0.711785</td>\n",
       "      <td>1.000000</td>\n",
       "    </tr>\n",
       "    <tr>\n",
       "      <th>19</th>\n",
       "      <td>0.256058</td>\n",
       "      <td>4.000000</td>\n",
       "    </tr>\n",
       "    <tr>\n",
       "      <th>20</th>\n",
       "      <td>0.157069</td>\n",
       "      <td>4.000000</td>\n",
       "    </tr>\n",
       "    <tr>\n",
       "      <th>21</th>\n",
       "      <td>0.107494</td>\n",
       "      <td>3.666667</td>\n",
       "    </tr>\n",
       "    <tr>\n",
       "      <th>22</th>\n",
       "      <td>0.859726</td>\n",
       "      <td>1.000000</td>\n",
       "    </tr>\n",
       "    <tr>\n",
       "      <th>23</th>\n",
       "      <td>0.062661</td>\n",
       "      <td>4.000000</td>\n",
       "    </tr>\n",
       "    <tr>\n",
       "      <th>24</th>\n",
       "      <td>0.878533</td>\n",
       "      <td>1.333333</td>\n",
       "    </tr>\n",
       "    <tr>\n",
       "      <th>25</th>\n",
       "      <td>0.116882</td>\n",
       "      <td>4.000000</td>\n",
       "    </tr>\n",
       "    <tr>\n",
       "      <th>26</th>\n",
       "      <td>0.109260</td>\n",
       "      <td>4.000000</td>\n",
       "    </tr>\n",
       "    <tr>\n",
       "      <th>27</th>\n",
       "      <td>0.377997</td>\n",
       "      <td>4.000000</td>\n",
       "    </tr>\n",
       "    <tr>\n",
       "      <th>28</th>\n",
       "      <td>0.593178</td>\n",
       "      <td>4.000000</td>\n",
       "    </tr>\n",
       "    <tr>\n",
       "      <th>29</th>\n",
       "      <td>0.190504</td>\n",
       "      <td>4.000000</td>\n",
       "    </tr>\n",
       "  </tbody>\n",
       "</table>\n",
       "</div>"
      ],
      "text/plain": [
       "        bert   Overall\n",
       "0   0.135753  4.000000\n",
       "1   0.170077  3.666667\n",
       "2   0.475314  2.333333\n",
       "3   0.804728  2.000000\n",
       "4   0.847097  1.250000\n",
       "5   0.755826  2.000000\n",
       "6   0.172354  3.666667\n",
       "7   0.354224  3.333333\n",
       "8   0.559885  3.333333\n",
       "9   0.066099  2.666667\n",
       "10  0.473220  3.666667\n",
       "11  0.044606  4.000000\n",
       "12  0.104879  3.666667\n",
       "13  0.395594  3.500000\n",
       "14  0.378145  3.666667\n",
       "15  0.087341  4.000000\n",
       "16  0.425315  2.333333\n",
       "17  0.180682  4.000000\n",
       "18  0.711785  1.000000\n",
       "19  0.256058  4.000000\n",
       "20  0.157069  4.000000\n",
       "21  0.107494  3.666667\n",
       "22  0.859726  1.000000\n",
       "23  0.062661  4.000000\n",
       "24  0.878533  1.333333\n",
       "25  0.116882  4.000000\n",
       "26  0.109260  4.000000\n",
       "27  0.377997  4.000000\n",
       "28  0.593178  4.000000\n",
       "29  0.190504  4.000000"
      ]
     },
     "execution_count": 55,
     "metadata": {},
     "output_type": "execute_result"
    }
   ],
   "source": [
    "dfText[['bert', 'Overall']].head(30)"
   ]
  },
  {
   "cell_type": "code",
   "execution_count": 56,
   "metadata": {},
   "outputs": [
    {
     "data": {
      "text/html": [
       "<div>\n",
       "<style scoped>\n",
       "    .dataframe tbody tr th:only-of-type {\n",
       "        vertical-align: middle;\n",
       "    }\n",
       "\n",
       "    .dataframe tbody tr th {\n",
       "        vertical-align: top;\n",
       "    }\n",
       "\n",
       "    .dataframe thead th {\n",
       "        text-align: right;\n",
       "    }\n",
       "</style>\n",
       "<table border=\"1\" class=\"dataframe\">\n",
       "  <thead>\n",
       "    <tr style=\"text-align: right;\">\n",
       "      <th></th>\n",
       "      <th>bert</th>\n",
       "      <th>Overall</th>\n",
       "    </tr>\n",
       "  </thead>\n",
       "  <tbody>\n",
       "    <tr>\n",
       "      <th>4</th>\n",
       "      <td>0.847097</td>\n",
       "      <td>1.250000</td>\n",
       "    </tr>\n",
       "    <tr>\n",
       "      <th>18</th>\n",
       "      <td>0.711785</td>\n",
       "      <td>1.000000</td>\n",
       "    </tr>\n",
       "    <tr>\n",
       "      <th>22</th>\n",
       "      <td>0.859726</td>\n",
       "      <td>1.000000</td>\n",
       "    </tr>\n",
       "    <tr>\n",
       "      <th>24</th>\n",
       "      <td>0.878533</td>\n",
       "      <td>1.333333</td>\n",
       "    </tr>\n",
       "    <tr>\n",
       "      <th>32</th>\n",
       "      <td>0.173279</td>\n",
       "      <td>1.000000</td>\n",
       "    </tr>\n",
       "    <tr>\n",
       "      <th>33</th>\n",
       "      <td>0.859155</td>\n",
       "      <td>1.333333</td>\n",
       "    </tr>\n",
       "    <tr>\n",
       "      <th>38</th>\n",
       "      <td>0.784315</td>\n",
       "      <td>1.000000</td>\n",
       "    </tr>\n",
       "    <tr>\n",
       "      <th>39</th>\n",
       "      <td>0.816169</td>\n",
       "      <td>1.333333</td>\n",
       "    </tr>\n",
       "    <tr>\n",
       "      <th>46</th>\n",
       "      <td>0.748754</td>\n",
       "      <td>1.333333</td>\n",
       "    </tr>\n",
       "    <tr>\n",
       "      <th>65</th>\n",
       "      <td>0.775669</td>\n",
       "      <td>1.000000</td>\n",
       "    </tr>\n",
       "    <tr>\n",
       "      <th>94</th>\n",
       "      <td>0.730614</td>\n",
       "      <td>1.000000</td>\n",
       "    </tr>\n",
       "    <tr>\n",
       "      <th>100</th>\n",
       "      <td>0.792500</td>\n",
       "      <td>1.000000</td>\n",
       "    </tr>\n",
       "    <tr>\n",
       "      <th>101</th>\n",
       "      <td>0.841579</td>\n",
       "      <td>1.333333</td>\n",
       "    </tr>\n",
       "    <tr>\n",
       "      <th>102</th>\n",
       "      <td>0.530280</td>\n",
       "      <td>1.333333</td>\n",
       "    </tr>\n",
       "    <tr>\n",
       "      <th>103</th>\n",
       "      <td>0.709197</td>\n",
       "      <td>1.000000</td>\n",
       "    </tr>\n",
       "    <tr>\n",
       "      <th>113</th>\n",
       "      <td>0.810686</td>\n",
       "      <td>1.000000</td>\n",
       "    </tr>\n",
       "    <tr>\n",
       "      <th>119</th>\n",
       "      <td>0.740153</td>\n",
       "      <td>1.333333</td>\n",
       "    </tr>\n",
       "    <tr>\n",
       "      <th>134</th>\n",
       "      <td>0.759057</td>\n",
       "      <td>1.000000</td>\n",
       "    </tr>\n",
       "    <tr>\n",
       "      <th>136</th>\n",
       "      <td>0.808101</td>\n",
       "      <td>1.333333</td>\n",
       "    </tr>\n",
       "    <tr>\n",
       "      <th>151</th>\n",
       "      <td>0.800745</td>\n",
       "      <td>1.000000</td>\n",
       "    </tr>\n",
       "  </tbody>\n",
       "</table>\n",
       "</div>"
      ],
      "text/plain": [
       "         bert   Overall\n",
       "4    0.847097  1.250000\n",
       "18   0.711785  1.000000\n",
       "22   0.859726  1.000000\n",
       "24   0.878533  1.333333\n",
       "32   0.173279  1.000000\n",
       "33   0.859155  1.333333\n",
       "38   0.784315  1.000000\n",
       "39   0.816169  1.333333\n",
       "46   0.748754  1.333333\n",
       "65   0.775669  1.000000\n",
       "94   0.730614  1.000000\n",
       "100  0.792500  1.000000\n",
       "101  0.841579  1.333333\n",
       "102  0.530280  1.333333\n",
       "103  0.709197  1.000000\n",
       "113  0.810686  1.000000\n",
       "119  0.740153  1.333333\n",
       "134  0.759057  1.000000\n",
       "136  0.808101  1.333333\n",
       "151  0.800745  1.000000"
      ]
     },
     "execution_count": 56,
     "metadata": {},
     "output_type": "execute_result"
    }
   ],
   "source": [
    "dfText[dfText['Overall']<1.5][['bert', 'Overall']].head(20)"
   ]
  },
  {
   "cell_type": "code",
   "execution_count": 57,
   "metadata": {},
   "outputs": [
    {
     "data": {
      "text/html": [
       "<div>\n",
       "<style scoped>\n",
       "    .dataframe tbody tr th:only-of-type {\n",
       "        vertical-align: middle;\n",
       "    }\n",
       "\n",
       "    .dataframe tbody tr th {\n",
       "        vertical-align: top;\n",
       "    }\n",
       "\n",
       "    .dataframe thead th {\n",
       "        text-align: right;\n",
       "    }\n",
       "</style>\n",
       "<table border=\"1\" class=\"dataframe\">\n",
       "  <thead>\n",
       "    <tr style=\"text-align: right;\">\n",
       "      <th></th>\n",
       "      <th>Overall</th>\n",
       "      <th>bert</th>\n",
       "      <th>doc2vec</th>\n",
       "    </tr>\n",
       "  </thead>\n",
       "  <tbody>\n",
       "    <tr>\n",
       "      <th>Overall</th>\n",
       "      <td>1.000000</td>\n",
       "      <td>-0.774372</td>\n",
       "      <td>-0.720913</td>\n",
       "    </tr>\n",
       "    <tr>\n",
       "      <th>bert</th>\n",
       "      <td>-0.774372</td>\n",
       "      <td>1.000000</td>\n",
       "      <td>0.813756</td>\n",
       "    </tr>\n",
       "    <tr>\n",
       "      <th>doc2vec</th>\n",
       "      <td>-0.720913</td>\n",
       "      <td>0.813756</td>\n",
       "      <td>1.000000</td>\n",
       "    </tr>\n",
       "  </tbody>\n",
       "</table>\n",
       "</div>"
      ],
      "text/plain": [
       "          Overall      bert   doc2vec\n",
       "Overall  1.000000 -0.774372 -0.720913\n",
       "bert    -0.774372  1.000000  0.813756\n",
       "doc2vec -0.720913  0.813756  1.000000"
      ]
     },
     "execution_count": 57,
     "metadata": {},
     "output_type": "execute_result"
    }
   ],
   "source": [
    "dfText[[\"Overall\", \"bert\",\"doc2vec\"]].corr()"
   ]
  },
  {
   "cell_type": "code",
   "execution_count": 58,
   "metadata": {},
   "outputs": [
    {
     "data": {
      "text/plain": [
       "<AxesSubplot:xlabel='Overall', ylabel='bert'>"
      ]
     },
     "execution_count": 58,
     "metadata": {},
     "output_type": "execute_result"
    },
    {
     "data": {
      "image/png": "[encoded data removed]",
      "text/plain": [
       "<Figure size 432x288 with 1 Axes>"
      ]
     },
     "metadata": {
      "needs_background": "light"
     },
     "output_type": "display_data"
    }
   ],
   "source": [
    "sns.scatterplot(data=dfText, x=\"Overall\", y=\"bert\")"
   ]
  },
  {
   "cell_type": "markdown",
   "metadata": {},
   "source": [
    "## Word2vec (embeddings)"
   ]
  },
  {
   "cell_type": "code",
   "execution_count": 61,
   "metadata": {},
   "outputs": [
    {
     "name": "stdout",
     "output_type": "stream",
     "text": [
      "[==================================================] 100.0% 1662.8/1662.8MB downloaded\n",
      "C:\\Users\\mcso/gensim-data\\word2vec-google-news-300\\word2vec-google-news-300.gz\n"
     ]
    }
   ],
   "source": [
    "# import gensim.downloader as api\n",
    "\n",
    "# print(api.load(\"word2vec-google-news-300\", return_path=True))"
   ]
  },
  {
   "cell_type": "code",
   "execution_count": 82,
   "metadata": {},
   "outputs": [],
   "source": [
    "import gensim\n",
    "from gensim.models import Word2Vec\n",
    "from gensim.models import KeyedVectors"
   ]
  },
  {
   "cell_type": "code",
   "execution_count": 114,
   "metadata": {},
   "outputs": [],
   "source": [
    "#glove_vectors = gensim.downloader.load('glove-twitter-25')\n",
    "#model = KeyedVectors.load_word2vec_format('data/wiki.en.vec', binary=False)\n",
    "# model = KeyedVectors.load_word2vec_format('model/word2vec-google-news-300.gz', binary=True)\n",
    "model = gensim.downloader.load('word2vec-google-news-300')"
   ]
  },
  {
   "cell_type": "code",
   "execution_count": 115,
   "metadata": {},
   "outputs": [],
   "source": [
    "def get_mean_vector(word2vec_model, words): #words eh um documento inteiro\n",
    "    # remove out-of-vocabulary words\n",
    "    words = [word for word in words if word in model.index_to_key]\n",
    "    if len(words) >= 1:\n",
    "        return np.mean(word2vec_model[words], axis=0)\n",
    "    else:\n",
    "        return []\n"
   ]
  },
  {
   "cell_type": "code",
   "execution_count": 116,
   "metadata": {},
   "outputs": [
    {
     "data": {
      "text/plain": [
       "array([ 0.07186443, -0.02515987,  0.07912589, -0.02211366, -0.02995818,\n",
       "       -0.07387406,  0.01869014, -0.06664103,  0.09887215,  0.03812711,\n",
       "        0.03914232, -0.1428348 , -0.06466574,  0.01857221, -0.10184945,\n",
       "        0.01788701,  0.00115112,  0.06279884,  0.04023516, -0.07078876,\n",
       "        0.03212781, -0.02503528, -0.02489198,  0.0084335 ,  0.0453188 ,\n",
       "       -0.08198396, -0.0581046 ,  0.09730904,  0.06841625, -0.04767425,\n",
       "        0.04498233, -0.06094238, -0.00091121, -0.0377731 , -0.01093796,\n",
       "        0.00410969,  0.06266974, -0.01085476,  0.03403559,  0.07140559,\n",
       "        0.00857612, -0.02400131,  0.12052428, -0.02166543, -0.04150942,\n",
       "       -0.06371221, -0.0016775 ,  0.03551566,  0.00671156,  0.06460625,\n",
       "       -0.06383491,  0.02345287,  0.03831626,  0.00370166, -0.04617115,\n",
       "        0.02210272, -0.07483306, -0.00362152,  0.02320516, -0.07808347,\n",
       "       -0.01169766,  0.03629116, -0.0676764 , -0.0414371 , -0.00959555,\n",
       "        0.0489842 , -0.01620829,  0.00037769, -0.09307872,  0.03500222,\n",
       "        0.02083602,  0.05653079,  0.04468177,  0.03032925, -0.11315781,\n",
       "        0.01935462,  0.05096918,  0.01253873,  0.06628519,  0.00532935,\n",
       "        0.10594983, -0.03261163,  0.01435427, -0.00814168, -0.01292779,\n",
       "       -0.01200579, -0.08275782,  0.08533924,  0.00120447, -0.00613043,\n",
       "        0.06945113, -0.06389791,  0.0268428 , -0.02952961, -0.00094432,\n",
       "       -0.01945949,  0.06476715,  0.03057903,  0.04001747, -0.03808543,\n",
       "       -0.00469213, -0.04907644,  0.06355055,  0.04403226,  0.1226107 ,\n",
       "       -0.07509115, -0.03180997, -0.07037526,  0.02913047, -0.05846329,\n",
       "       -0.06072552, -0.04801954,  0.01111347, -0.08219161,  0.0014267 ,\n",
       "       -0.08701879,  0.02302451, -0.03863835,  0.06649975,  0.11786779,\n",
       "       -0.01315838,  0.08806618, -0.10505446,  0.0445168 ,  0.04373813,\n",
       "       -0.02954829, -0.03665082, -0.03902047,  0.06979848,  0.04004712,\n",
       "       -0.01398547, -0.14395286, -0.04803294,  0.03186193, -0.05818792,\n",
       "       -0.06159095, -0.02336005, -0.03771548,  0.01343608,  0.12583981,\n",
       "        0.02853714, -0.01791151, -0.06007702,  0.01522579, -0.05014009,\n",
       "        0.05282017, -0.04782076, -0.01061969, -0.06016843, -0.10290909,\n",
       "        0.16192871,  0.00915758, -0.0396828 ,  0.03295323, -0.01376447,\n",
       "       -0.03583433, -0.04415253,  0.01381986, -0.04244088, -0.01705407,\n",
       "       -0.0315624 ,  0.0989241 ,  0.08858267, -0.00480609, -0.02358109,\n",
       "       -0.04852577,  0.11193948, -0.06425354,  0.05635416, -0.04144611,\n",
       "       -0.02093319,  0.01272277, -0.0265454 , -0.08424521, -0.05684075,\n",
       "       -0.07329351,  0.08481354, -0.04482773, -0.13301834, -0.03483812,\n",
       "       -0.03919879,  0.00915128, -0.05967255, -0.06841926,  0.0226285 ,\n",
       "        0.01296277,  0.02043102,  0.07800408,  0.0155012 ,  0.08688736,\n",
       "        0.0844664 ,  0.00032691, -0.10840815,  0.03098693,  0.0055031 ,\n",
       "        0.09059849, -0.02264318, -0.04549527,  0.017653  , -0.03366391,\n",
       "        0.02986786,  0.00670508, -0.00123481, -0.01017806, -0.01269718,\n",
       "       -0.06616643,  0.00525341,  0.03604644,  0.03167761, -0.03640632,\n",
       "        0.03146233,  0.02510791,  0.01254999,  0.03263711, -0.087564  ,\n",
       "        0.0273331 ,  0.02900782, -0.02410016, -0.07955875, -0.01773064,\n",
       "       -0.02822775, -0.06059783,  0.0691056 , -0.01354801,  0.06000519,\n",
       "       -0.06781193,  0.06364081,  0.10253259, -0.00388027, -0.00199523,\n",
       "        0.07903995, -0.01277693, -0.06399696,  0.00745435, -0.06453925,\n",
       "       -0.04856038,  0.07438343, -0.06933907,  0.06879418,  0.01327651,\n",
       "        0.05634063, -0.01330955, -0.0481694 , -0.16282625, -0.05793782,\n",
       "        0.01398785,  0.0149467 ,  0.02769873,  0.0916155 , -0.09934062,\n",
       "        0.065998  ,  0.05907858,  0.03293336,  0.04821878,  0.07403305,\n",
       "       -0.07082038,  0.01885353,  0.01302165,  0.00838845, -0.11776075,\n",
       "       -0.02123361, -0.03867038, -0.0088018 ,  0.02873883,  0.09837068,\n",
       "        0.12210602, -0.07778945, -0.03614498, -0.09880421, -0.04673954,\n",
       "        0.00532906,  0.01612822, -0.00875955,  0.05693026,  0.03105833,\n",
       "       -0.0261576 , -0.07023736, -0.08508632, -0.06123525,  0.01626489,\n",
       "       -0.06294308,  0.04204063,  0.02811101,  0.02846993,  0.00548741,\n",
       "       -0.00333505, -0.01380949,  0.06754375,  0.0692452 ,  0.04057379,\n",
       "       -0.02997272, -0.0186687 , -0.021303  ,  0.06076093, -0.01920481,\n",
       "       -0.02382297, -0.02668341, -0.10529543,  0.05036142, -0.02409679],\n",
       "      dtype=float32)"
      ]
     },
     "execution_count": 116,
     "metadata": {},
     "output_type": "execute_result"
    }
   ],
   "source": [
    "get_mean_vector(model, dfText['no_stopwords1'][0])"
   ]
  },
  {
   "cell_type": "code",
   "execution_count": 117,
   "metadata": {},
   "outputs": [],
   "source": [
    "def bert_cos(doc1, doc2, model):\n",
    "    mean_doc1 = get_mean_vector(model, doc1)\n",
    "    mean_doc2 = get_mean_vector(model, doc2)\n",
    "\n",
    "    infer1 = mean_doc1\n",
    "    infer2 =  mean_doc2\n",
    "    #cos_distance = spatial.distance.cosine(infer1, infer2) #pode ser >1\n",
    "    cos_similarity = 1-spatial.distance.cosine(infer1, infer2) #de 0 a 1\n",
    "    return cos_similarity"
   ]
  },
  {
   "cell_type": "code",
   "execution_count": 118,
   "metadata": {},
   "outputs": [],
   "source": [
    "dfText['word2vec_mean'] = dfText.apply(lambda row: bert_cos(\" \".join(row['no_stopwords1']), \" \".join(row['no_stopwords2']), model), axis=1)"
   ]
  },
  {
   "cell_type": "code",
   "execution_count": null,
   "metadata": {},
   "outputs": [],
   "source": [
    "for doc in corpus:\n",
    "    vec = get_mean_vector(model, doc.words)\n",
    "    if len(vec) > 0:\n",
    "      # do somthing with the vector ${vec}"
   ]
  },
  {
   "cell_type": "code",
   "execution_count": null,
   "metadata": {},
   "outputs": [],
   "source": [
    "from gensim.parsing.porter import PorterStemmer\n",
    "from gensim.parsing.preprocessing import remove_stopwords\n",
    "\n",
    "class MyCorpus():\n",
    "    def __init__(self, train_data):\n",
    "        self.train_data = train_data\n",
    "        \n",
    "    def __iter__(self):\n",
    "        p = PorterStemmer()\n",
    "        for i in range(len(self.train_data)):\n",
    "            doc = self.train_data['text'][i]\n",
    "            doc = re.sub(r'\\S*@\\S*\\s?', '', doc, flags=re.MULTILINE) # remove email\n",
    "            doc = re.sub(r'http\\S+', '', doc, flags=re.MULTILINE) # remove web addresses\n",
    "            doc = re.sub(\"\\'\", \"\", doc) # remove single quotes\n",
    "            doc = remove_stopwords(doc)\n",
    "            doc = p.stem_sentence(doc)\n",
    "            words = simple_preprocess(doc, deacc=True)\n",
    "            yield TaggedDocument(words=words, tags=[self.train_data['documentId'][i]])"
   ]
  },
  {
   "cell_type": "markdown",
   "metadata": {},
   "source": [
    "## Mapear resultado"
   ]
  },
  {
   "cell_type": "code",
   "execution_count": 59,
   "metadata": {},
   "outputs": [],
   "source": [
    "def transformarResultado(resultado, OldMax=-1, OldMin=1, NewMax=4, NewMin=1):\n",
    "    OldRange = (OldMax - OldMin)  \n",
    "    NewRange = (NewMax - NewMin)  \n",
    "    NewValue = (((resultado - OldMin) * NewRange) / OldRange) + NewMin\n",
    "    return NewValue\n",
    "\n",
    "    \n",
    "dfText['bert_norm'] = dfText['bert'].apply(lambda x: transformarResultado(x))\n",
    "dfText['bert_norm1'] = dfText['bert'].apply(lambda x: transformarResultado(x, OldMax=min(dfText['bert']), OldMin = max(dfText['bert'])))"
   ]
  },
  {
   "cell_type": "code",
   "execution_count": 60,
   "metadata": {},
   "outputs": [
    {
     "data": {
      "text/html": [
       "<div>\n",
       "<style scoped>\n",
       "    .dataframe tbody tr th:only-of-type {\n",
       "        vertical-align: middle;\n",
       "    }\n",
       "\n",
       "    .dataframe tbody tr th {\n",
       "        vertical-align: top;\n",
       "    }\n",
       "\n",
       "    .dataframe thead th {\n",
       "        text-align: right;\n",
       "    }\n",
       "</style>\n",
       "<table border=\"1\" class=\"dataframe\">\n",
       "  <thead>\n",
       "    <tr style=\"text-align: right;\">\n",
       "      <th></th>\n",
       "      <th>bert</th>\n",
       "      <th>bert_norm</th>\n",
       "      <th>bert_norm1</th>\n",
       "      <th>Overall</th>\n",
       "    </tr>\n",
       "  </thead>\n",
       "  <tbody>\n",
       "    <tr>\n",
       "      <th>0</th>\n",
       "      <td>0.135753</td>\n",
       "      <td>2.296370</td>\n",
       "      <td>3.217731</td>\n",
       "      <td>4.000000</td>\n",
       "    </tr>\n",
       "    <tr>\n",
       "      <th>1</th>\n",
       "      <td>0.170077</td>\n",
       "      <td>2.244885</td>\n",
       "      <td>3.129654</td>\n",
       "      <td>3.666667</td>\n",
       "    </tr>\n",
       "    <tr>\n",
       "      <th>2</th>\n",
       "      <td>0.475314</td>\n",
       "      <td>1.787029</td>\n",
       "      <td>2.346389</td>\n",
       "      <td>2.333333</td>\n",
       "    </tr>\n",
       "    <tr>\n",
       "      <th>3</th>\n",
       "      <td>0.804728</td>\n",
       "      <td>1.292908</td>\n",
       "      <td>1.501085</td>\n",
       "      <td>2.000000</td>\n",
       "    </tr>\n",
       "    <tr>\n",
       "      <th>4</th>\n",
       "      <td>0.847097</td>\n",
       "      <td>1.229354</td>\n",
       "      <td>1.392361</td>\n",
       "      <td>1.250000</td>\n",
       "    </tr>\n",
       "    <tr>\n",
       "      <th>5</th>\n",
       "      <td>0.755826</td>\n",
       "      <td>1.366261</td>\n",
       "      <td>1.626571</td>\n",
       "      <td>2.000000</td>\n",
       "    </tr>\n",
       "    <tr>\n",
       "      <th>6</th>\n",
       "      <td>0.172354</td>\n",
       "      <td>2.241470</td>\n",
       "      <td>3.123811</td>\n",
       "      <td>3.666667</td>\n",
       "    </tr>\n",
       "    <tr>\n",
       "      <th>7</th>\n",
       "      <td>0.354224</td>\n",
       "      <td>1.968664</td>\n",
       "      <td>2.657117</td>\n",
       "      <td>3.333333</td>\n",
       "    </tr>\n",
       "    <tr>\n",
       "      <th>8</th>\n",
       "      <td>0.559885</td>\n",
       "      <td>1.660172</td>\n",
       "      <td>2.129372</td>\n",
       "      <td>3.333333</td>\n",
       "    </tr>\n",
       "    <tr>\n",
       "      <th>9</th>\n",
       "      <td>0.066099</td>\n",
       "      <td>2.400851</td>\n",
       "      <td>3.396469</td>\n",
       "      <td>2.666667</td>\n",
       "    </tr>\n",
       "    <tr>\n",
       "      <th>10</th>\n",
       "      <td>0.473220</td>\n",
       "      <td>1.790170</td>\n",
       "      <td>2.351762</td>\n",
       "      <td>3.666667</td>\n",
       "    </tr>\n",
       "    <tr>\n",
       "      <th>11</th>\n",
       "      <td>0.044606</td>\n",
       "      <td>2.433091</td>\n",
       "      <td>3.451623</td>\n",
       "      <td>4.000000</td>\n",
       "    </tr>\n",
       "    <tr>\n",
       "      <th>12</th>\n",
       "      <td>0.104879</td>\n",
       "      <td>2.342681</td>\n",
       "      <td>3.296957</td>\n",
       "      <td>3.666667</td>\n",
       "    </tr>\n",
       "    <tr>\n",
       "      <th>13</th>\n",
       "      <td>0.395594</td>\n",
       "      <td>1.906609</td>\n",
       "      <td>2.550958</td>\n",
       "      <td>3.500000</td>\n",
       "    </tr>\n",
       "    <tr>\n",
       "      <th>14</th>\n",
       "      <td>0.378145</td>\n",
       "      <td>1.932782</td>\n",
       "      <td>2.595733</td>\n",
       "      <td>3.666667</td>\n",
       "    </tr>\n",
       "    <tr>\n",
       "      <th>15</th>\n",
       "      <td>0.087341</td>\n",
       "      <td>2.368989</td>\n",
       "      <td>3.341961</td>\n",
       "      <td>4.000000</td>\n",
       "    </tr>\n",
       "    <tr>\n",
       "      <th>16</th>\n",
       "      <td>0.425315</td>\n",
       "      <td>1.862027</td>\n",
       "      <td>2.474690</td>\n",
       "      <td>2.333333</td>\n",
       "    </tr>\n",
       "    <tr>\n",
       "      <th>17</th>\n",
       "      <td>0.180682</td>\n",
       "      <td>2.228978</td>\n",
       "      <td>3.102441</td>\n",
       "      <td>4.000000</td>\n",
       "    </tr>\n",
       "    <tr>\n",
       "      <th>18</th>\n",
       "      <td>0.711785</td>\n",
       "      <td>1.432323</td>\n",
       "      <td>1.739585</td>\n",
       "      <td>1.000000</td>\n",
       "    </tr>\n",
       "    <tr>\n",
       "      <th>19</th>\n",
       "      <td>0.256058</td>\n",
       "      <td>2.115913</td>\n",
       "      <td>2.909019</td>\n",
       "      <td>4.000000</td>\n",
       "    </tr>\n",
       "  </tbody>\n",
       "</table>\n",
       "</div>"
      ],
      "text/plain": [
       "        bert  bert_norm  bert_norm1   Overall\n",
       "0   0.135753  2.296370   3.217731    4.000000\n",
       "1   0.170077  2.244885   3.129654    3.666667\n",
       "2   0.475314  1.787029   2.346389    2.333333\n",
       "3   0.804728  1.292908   1.501085    2.000000\n",
       "4   0.847097  1.229354   1.392361    1.250000\n",
       "5   0.755826  1.366261   1.626571    2.000000\n",
       "6   0.172354  2.241470   3.123811    3.666667\n",
       "7   0.354224  1.968664   2.657117    3.333333\n",
       "8   0.559885  1.660172   2.129372    3.333333\n",
       "9   0.066099  2.400851   3.396469    2.666667\n",
       "10  0.473220  1.790170   2.351762    3.666667\n",
       "11  0.044606  2.433091   3.451623    4.000000\n",
       "12  0.104879  2.342681   3.296957    3.666667\n",
       "13  0.395594  1.906609   2.550958    3.500000\n",
       "14  0.378145  1.932782   2.595733    3.666667\n",
       "15  0.087341  2.368989   3.341961    4.000000\n",
       "16  0.425315  1.862027   2.474690    2.333333\n",
       "17  0.180682  2.228978   3.102441    4.000000\n",
       "18  0.711785  1.432323   1.739585    1.000000\n",
       "19  0.256058  2.115913   2.909019    4.000000"
      ]
     },
     "execution_count": 60,
     "metadata": {},
     "output_type": "execute_result"
    }
   ],
   "source": [
    "dfText[['bert', 'bert_norm', 'bert_norm1', 'Overall']].head(20)"
   ]
  }
 ],
 "metadata": {
  "interpreter": {
   "hash": "578d23e9265697bad3ff07bcff4c72684a1087c3ecac6cf42decc0cb53b76ed7"
  },
  "kernelspec": {
   "display_name": "Python 3.9.7 64-bit ('data_science': conda)",
   "language": "python",
   "name": "python3"
  },
  "language_info": {
   "codemirror_mode": {
    "name": "ipython",
    "version": 3
   },
   "file_extension": ".py",
   "mimetype": "text/x-python",
   "name": "python",
   "nbconvert_exporter": "python",
   "pygments_lexer": "ipython3",
   "version": "3.9.7"
  },
  "orig_nbformat": 4
 },
 "nbformat": 4,
 "nbformat_minor": 2
}
